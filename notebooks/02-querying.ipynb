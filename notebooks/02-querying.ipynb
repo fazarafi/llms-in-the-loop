{
 "cells": [
  {
   "cell_type": "markdown",
   "id": "5ee41898abbd2a75",
   "metadata": {
    "collapsed": false
   },
   "source": [
    "This notebook tests and showcases usage of the custom `ask_gpt` function that is used to query foundation model for NER tags."
   ]
  },
  {
   "cell_type": "code",
   "execution_count": 2,
   "id": "906c74aab09f5610",
   "metadata": {
    "ExecuteTime": {
     "end_time": "2024-01-06T22:31:35.473808900Z",
     "start_time": "2024-01-06T22:31:35.343383200Z"
    },
    "collapsed": false
   },
   "outputs": [],
   "source": [
    "import ast\n",
    "from openai import OpenAI, APIStatusError, RateLimitError, APIConnectionError\n",
    "from dotenv import load_dotenv\n",
    "from datasets import load_dataset\n",
    "import json\n",
    "import os\n",
    "import sys\n",
    "import yaml\n",
    "import regex as re\n",
    "\n",
    "queries_module_path = os.path.abspath('../src/query')\n",
    "if queries_module_path not in sys.path:\n",
    "    sys.path.append(queries_module_path)\n",
    "\n",
    "from prompts import MAIN_PROMPT"
   ]
  },
  {
   "cell_type": "code",
   "execution_count": 3,
   "id": "b99f3b1d2bd98077",
   "metadata": {
    "ExecuteTime": {
     "end_time": "2024-01-06T22:31:35.493361Z",
     "start_time": "2024-01-06T22:31:35.346521600Z"
    },
    "collapsed": false
   },
   "outputs": [
    {
     "name": "stdout",
     "output_type": "stream",
     "text": [
      "\n",
      "Your task is to label entities in a given text written in {language}. Use the following labels for annotation:\n",
      "* \"O\": Represents words that are not part of any named entity. \n",
      "* \"B-PER\": Indicates the beginning of a person's name.\n",
      "* \"I-PER\": Used for tokens inside a person's name. \n",
      "* \"B-ORG\": Marks the beginning of an organization's name.\n",
      "* \"I-ORG\": Tokens inside an organization's name.\n",
      "* \"B-LOC\": Marks the beginning of a location (place) name.\n",
      "* \"I-LOC\": Tokens inside a location name.\n",
      "* \"B-DATE\": Marks the beginning of a date entity.\n",
      "* \"I-DATE\": Tokens inside a date entity.\n",
      "You will receive a list of tokens as the value for the 'input' key and text language as the value for the 'language' key in a JSON dictionary. Your task is to provide a list of named entity labels, where each label corresponds to a token. Output the tokens with their corresponding named entity labels in a JSON format, using the key 'output'. 'output' should contain a list of tokens and their entity labels in format (token, label).\n",
      "{examples}\n",
      "Note:\n",
      "- The input tokens are provided in a list format and represent the text.\n",
      "- Important: the output should be a list with the same length as the input list, where each element corresponds to the named entity label for the corresponding token. Do not change the order of tokens and do not skip them.\n",
      "- The named entity labels are case-sensitive, so please provide them exactly as specified (\"B-PER\", \"I-LOC\", etc.). \n",
      "- Follow MUC-6 (Message Understanding Conference-6) Named Entity Recognition (NER) annotation guidelines.\n",
      "Your task begins now! \n",
      "- Output JSON only. Enclose all tokens and tags in double brackets.\n",
      "This is your sentence: {sentence}\n"
     ]
    }
   ],
   "source": [
    "print(MAIN_PROMPT)"
   ]
  },
  {
   "cell_type": "code",
   "execution_count": 4,
   "id": "8420c94bda18f5da",
   "metadata": {
    "ExecuteTime": {
     "end_time": "2024-01-06T22:31:35.505489400Z",
     "start_time": "2024-01-06T22:31:35.370349Z"
    },
    "collapsed": false
   },
   "outputs": [],
   "source": [
    "# Reading config file\n",
    "config = yaml.safe_load(open(\"../settings/config.yml\"))"
   ]
  },
  {
   "cell_type": "code",
   "execution_count": 5,
   "id": "bbf63d5fbfc2b942",
   "metadata": {
    "ExecuteTime": {
     "end_time": "2024-01-06T22:31:35.516621800Z",
     "start_time": "2024-01-06T22:31:35.398155900Z"
    },
    "collapsed": false
   },
   "outputs": [
    {
     "data": {
      "text/plain": [
       "True"
      ]
     },
     "execution_count": 5,
     "metadata": {},
     "output_type": "execute_result"
    }
   ],
   "source": [
    "# Load environment variables\n",
    "# ! You should create .env file \n",
    "load_dotenv(dotenv_path=os.path.join('..', '.env'))"
   ]
  },
  {
   "cell_type": "code",
   "execution_count": 6,
   "id": "4d30dec2b14dea55",
   "metadata": {
    "ExecuteTime": {
     "end_time": "2024-01-06T22:31:35.516621800Z",
     "start_time": "2024-01-06T22:31:35.398155900Z"
    },
    "collapsed": false
   },
   "outputs": [],
   "source": [
    "# Initialising openai client\n",
    "client = OpenAI(\n",
    "    api_key=os.environ['OPENAI_API_KEY'],\n",
    ")"
   ]
  },
  {
   "cell_type": "code",
   "execution_count": 7,
   "id": "60bf3a8450bad943",
   "metadata": {
    "ExecuteTime": {
     "end_time": "2024-01-06T22:31:36.945128500Z",
     "start_time": "2024-01-06T22:31:35.441972200Z"
    },
    "collapsed": false
   },
   "outputs": [
    {
     "data": {
      "text/plain": [
       "'Bambara'"
      ]
     },
     "execution_count": 7,
     "metadata": {},
     "output_type": "execute_result"
    }
   ],
   "source": [
    "# Loading data and selecting test sentence\n",
    "test_language = 'bam'\n",
    "data = load_dataset(config['dataset'], test_language)\n",
    "\n",
    "language_full_name = config['languages_names'][test_language]\n",
    "language_full_name"
   ]
  },
  {
   "cell_type": "code",
   "execution_count": 8,
   "id": "be2cd717d001186a",
   "metadata": {
    "ExecuteTime": {
     "end_time": "2024-01-06T22:31:37.000059500Z",
     "start_time": "2024-01-06T22:31:36.954284800Z"
    },
    "collapsed": false
   },
   "outputs": [
    {
     "name": "stdout",
     "output_type": "stream",
     "text": [
      "['Abudarahamani', 'Sisoko', '/', 'Maliweb', '.', 'net', 'Kasɔrɔ', 'perezidansigi', 'kalafili', 'ka', 'kan', 'ka', 'kɛ', ',', \"n'a\", 'bɔra', 'a', 'sira', 'fɛ', ',', 'feburuyekalo', 'san', '2022', 'la', ',', 'mɔgɔba', 'caman', 'bisigilen', 'don', 'ka', 'kɛ', 'cɛbɔ', 'ye', '.']\n"
     ]
    }
   ],
   "source": [
    "test_sentence = data['train'][5]['tokens']\n",
    "print(test_sentence)"
   ]
  },
  {
   "cell_type": "code",
   "execution_count": 13,
   "id": "2c4ea2ad70acb05d",
   "metadata": {
    "ExecuteTime": {
     "end_time": "2024-01-06T22:48:03.409836300Z",
     "start_time": "2024-01-06T22:48:03.378579100Z"
    },
    "collapsed": false
   },
   "outputs": [],
   "source": [
    "def ask_gpt(tokens, language, examples, openai_client, user_prompt, max_tokens=1000,\n",
    "            temperature=0.7, model='gpt-4-1106-preview', system_prompt=None):\n",
    "    \"\"\"\n",
    "    Generate named entity tags for a given sentence using the specified GPT model.\n",
    "\n",
    "    Parameters:\n",
    "    - tokens (str or list): list of tokens for which named entity recognition is desired.\n",
    "    - language (str): The language of the input sentence.\n",
    "    - openai_client (OpenAI API client object): The OpenAI client.\n",
    "    - user_prompt (str, optional): Custom user prompt for the GPT model.\n",
    "    - temperature (float, optional): A value between 0 and 1 that controls the randomness of the response.\n",
    "      Lower values make the model more deterministic. Default is 0.3.\n",
    "    - model (str, optional): The identifier of the GPT model to be used. Default is 'gpt-4-1106-preview'.\n",
    "    - system_prompt (str, optional): Custom system prompt for the GPT model. If None, a default prompt is used.\n",
    "\n",
    "    Returns:\n",
    "    - ner_tags (list): A list of named entity tags generated for each token in the input sentence.\n",
    "    - content (str): Text of the model response\n",
    "    \"\"\"\n",
    "    # Convert token list to string\n",
    "    sentence = str(tokens)\n",
    "    ner_tags = None\n",
    "\n",
    "    if system_prompt is None:\n",
    "        system_prompt = f\"You are a named entity labelling expert in {language} language.\"\n",
    "\n",
    "    # Format user prompt\n",
    "    user_prompt = user_prompt.format(language=language, sentence=sentence, examples=examples)\n",
    "\n",
    "    # Save query params\n",
    "    query_params = {\n",
    "        'model': model,\n",
    "        'temperature': temperature,\n",
    "        'messages': [{\"role\": \"system\", \"content\": system_prompt},\n",
    "                     {\"role\": \"user\", \"content\": user_prompt}],\n",
    "        'max_tokens': max_tokens,\n",
    "    }\n",
    "\n",
    "    if model == 'gpt-4-1106-preview' or model == 'gpt-3.5-turbo-1106':  # Add additional params for new model\n",
    "        query_params['response_format'] = {\"type\": \"json_object\"}\n",
    "\n",
    "    try:\n",
    "        # Query the model\n",
    "        response = openai_client.chat.completions.create(**query_params)\n",
    "    except APIConnectionError as e:\n",
    "        raise Exception(f\"The server could not be reached: {e.__cause__}\")\n",
    "    except RateLimitError as e:\n",
    "        raise Exception(f\"A 429 status code was received: {e}\")\n",
    "    except APIStatusError as e:\n",
    "        raise Exception(f\"Non-200-range status code received: {e.status_code}, {e.response}\")\n",
    "\n",
    "    try:\n",
    "        # Extract NER tags from the response\n",
    "        content = response.choices[0].message.content\n",
    "\n",
    "        if model == 'gpt-4-1106-preview' or model == 'gpt-3.5-turbo-1106':\n",
    "            # Newer models provide json\n",
    "            ner_tags = json.loads(content)['output']\n",
    "        else:\n",
    "            # Extract json only \n",
    "            match = re.search(r'\\{(.*?)\\}', content)\n",
    "            \n",
    "            if match:\n",
    "                content = match.group(0) \n",
    "                # Format output string to parse it as JSON\n",
    "                ner_tags = json.loads(json.dumps(ast.literal_eval(content)))['output']\n",
    "            else:\n",
    "                raise ValueError(\"No json found in model's response.\")\n",
    "\n",
    "    except Exception as e:\n",
    "        print(response.choices[0].message.content)\n",
    "        raise Exception(f\"Cannot extract output from model's response: {e}\")\n",
    "        \n",
    "    return ner_tags, content"
   ]
  },
  {
   "cell_type": "code",
   "execution_count": 10,
   "id": "3ae1dbf1487c1c33",
   "metadata": {
    "ExecuteTime": {
     "end_time": "2024-01-06T22:31:37.001222500Z",
     "start_time": "2024-01-06T22:31:36.999221400Z"
    },
    "collapsed": false
   },
   "outputs": [
    {
     "name": "stdout",
     "output_type": "stream",
     "text": [
      "Example 1:\n",
      "Input: ['Ani', 'fana', ',', 'kalataw', 'ɲɛnabɔli', 'cakɛda', 'kelen', 'pe', 'bilali', 'nata', 'telin', 'sen', 'kan', '.']\n",
      "Output: { 'output': [['Ani', 'O'], ['fana', 'O'], [',', 'O'], ['kalataw', 'O'], ['ɲɛnabɔli', 'O'], ['cakɛda', 'O'], ['kelen', 'O'], ['pe', 'O'], ['bilali', 'O'], ['nata', 'O'], ['telin', 'O'], ['sen', 'O'], ['kan', 'O'], ['.', 'O']] }\n",
      "Example 2:\n",
      "Input: ['Ani', 'fana', ',', 'kalataw', 'ɲɛnabɔli', 'cakɛda', 'kelen', 'pe', 'bilali', 'nata', 'telin', 'sen', 'kan', '.']\n",
      "Output: { 'output': [['Wa', 'O'], [',', 'O'], ['a', 'O'], ['fadenkɛ', 'O'], ['Gasipi', 'B-PER'], ['ye', 'O'], ['kannabila', 'O'], ['sɔrɔ', 'O'], ['a', 'O'], ['don', 'O'], ['kelen', 'O'], ['.', 'O']] }\n"
     ]
    }
   ],
   "source": [
    "def add_annotation_examples(json_filepath, language):\n",
    "    \"\"\"\n",
    "    Create formatted string containing annotation examples in specified language.\n",
    "    \"\"\"\n",
    "    with open(json_filepath, 'r') as json_file:\n",
    "        examples = json.load(json_file)[language]\n",
    "        \n",
    "    example_str = f\"\"\"Example 1:\n",
    "Input: {examples['example1']['input']}\n",
    "Output: {{ 'output': {examples['example1']['output']} }}\n",
    "Example 2:\n",
    "Input: {examples['example1']['input']}\n",
    "Output: {{ 'output': {examples['example2']['output']} }}\"\"\"\n",
    "    \n",
    "    return example_str\n",
    "    \n",
    "    \n",
    "bam_examples = add_annotation_examples('../src/query/annotation_examples.json', 'Bambara')\n",
    "print(bam_examples)"
   ]
  },
  {
   "cell_type": "markdown",
   "id": "225f0aa4498792dd",
   "metadata": {
    "collapsed": false
   },
   "source": [
    "### GPT-4 Turbo"
   ]
  },
  {
   "cell_type": "code",
   "execution_count": 17,
   "id": "582aa1a360b84eb1",
   "metadata": {
    "ExecuteTime": {
     "end_time": "2024-01-06T22:48:37.986742200Z",
     "start_time": "2024-01-06T22:48:25.641495500Z"
    },
    "collapsed": false
   },
   "outputs": [
    {
     "name": "stdout",
     "output_type": "stream",
     "text": [
      "Tokens provided by LLM:\n",
      "['B-PER', 'I-PER', 'O', 'B-ORG', 'O', 'I-ORG', 'O', 'O', 'O', 'O', 'O', 'O', 'O', 'O', 'O', 'O', 'O', 'O', 'O', 'O', 'B-DATE', 'I-DATE', 'I-DATE', 'O', 'O', 'O', 'O', 'O', 'O', 'O', 'O', 'O', 'O', 'O']\n"
     ]
    }
   ],
   "source": [
    "result, response = ask_gpt(\n",
    "    tokens=test_sentence, \n",
    "    language=language_full_name, \n",
    "    examples=bam_examples,\n",
    "    openai_client=client, \n",
    "    user_prompt=MAIN_PROMPT\n",
    ")\n",
    "\n",
    "print('Tokens provided by LLM:')\n",
    "print([t[1] for t in result])"
   ]
  },
  {
   "cell_type": "code",
   "execution_count": 18,
   "id": "1e74d1129476d1d5",
   "metadata": {
    "ExecuteTime": {
     "end_time": "2024-01-06T22:48:38.001167500Z",
     "start_time": "2024-01-06T22:48:38.000422500Z"
    },
    "collapsed": false
   },
   "outputs": [
    {
     "name": "stdout",
     "output_type": "stream",
     "text": [
      "True tokens:\n",
      "['B-PER', 'I-PER', 'O', 'O', 'O', 'O', 'O', 'O', 'O', 'O', 'O', 'O', 'O', 'O', 'O', 'O', 'O', 'O', 'O', 'O', 'B-DATE', 'I-DATE', 'I-DATE', 'O', 'O', 'O', 'O', 'O', 'O', 'O', 'O', 'O', 'O', 'O']\n"
     ]
    }
   ],
   "source": [
    "true_tokens = data['train'][5]['ner_tags']\n",
    "print('True tokens:')\n",
    "print([config['label_mapping'][l] for l in true_tokens])"
   ]
  },
  {
   "cell_type": "code",
   "execution_count": 19,
   "id": "dec6558978c5d456",
   "metadata": {
    "ExecuteTime": {
     "end_time": "2024-01-06T22:48:38.065297800Z",
     "start_time": "2024-01-06T22:48:38.001167500Z"
    },
    "collapsed": false
   },
   "outputs": [
    {
     "name": "stdout",
     "output_type": "stream",
     "text": [
      "34 34\n"
     ]
    }
   ],
   "source": [
    "print(len(test_sentence), len(result))"
   ]
  },
  {
   "cell_type": "markdown",
   "id": "f49c59c086ee682",
   "metadata": {
    "collapsed": false
   },
   "source": [
    "### GPT-4"
   ]
  },
  {
   "cell_type": "code",
   "execution_count": 20,
   "id": "769d52d611c917ab",
   "metadata": {
    "ExecuteTime": {
     "end_time": "2024-01-06T22:48:47.426000300Z",
     "start_time": "2024-01-06T22:48:38.012551100Z"
    },
    "collapsed": false
   },
   "outputs": [
    {
     "name": "stdout",
     "output_type": "stream",
     "text": [
      "Tokens provided by LLM:\n",
      "['B-PER', 'I-PER', 'O', 'B-ORG', 'I-ORG', 'I-ORG', 'O', 'O', 'O', 'O', 'O', 'O', 'O', 'O', 'O', 'O', 'O', 'O', 'O', 'O', 'B-DATE', 'I-DATE', 'I-DATE', 'O', 'O', 'O', 'O', 'O', 'O', 'O', 'O', 'O', 'O', 'O']\n"
     ]
    }
   ],
   "source": [
    "result, response = ask_gpt(\n",
    "    tokens=test_sentence, \n",
    "    language=language_full_name, \n",
    "    openai_client=client, \n",
    "    model='gpt-4', \n",
    "    user_prompt=MAIN_PROMPT,\n",
    "    examples=bam_examples\n",
    ")\n",
    "\n",
    "print('Tokens provided by LLM:')\n",
    "print([t[1] for t in result])"
   ]
  },
  {
   "cell_type": "markdown",
   "id": "dc2be60c46e6303f",
   "metadata": {
    "collapsed": false
   },
   "source": [
    "Approximate translation of the sentence:\n",
    "\"Abudarahamani Sisoko / Maliweb.net Kasɔrɔ presidential candidate, for the first time, has announced his intention to run, as of February 2022, with significant support and a strong campaign plan.\"\n",
    "\n",
    "\"Abudarahamani Sisoko\" is marked as a person's name (B-PER, I-PER).\n",
    "\"Maliweb.net\" is annotated as an organization (B-ORG, I-ORG, I-ORG).\n",
    "\"feburuyekalo san 2022\" is identified as a date (B-DATE, I-DATE, I-DATE).\n",
    "All other tokens are labeled as \"O\" since they do not represent named entities."
   ]
  },
  {
   "cell_type": "markdown",
   "id": "5d505f801d85b9f",
   "metadata": {
    "collapsed": false
   },
   "source": [
    "**In the masakhaner2 “Maliweb.net” is not recognized as entity,\n",
    "however, the foundation model identified it as entity** due to the following reasons:"
   ]
  },
  {
   "cell_type": "markdown",
   "id": "35140d1aea34fe77",
   "metadata": {
    "collapsed": false
   },
   "source": [
    "The annotation of \"Maliweb.net\" as an organization in the named entity recognition (NER) task is based on the context and the structure of the term. Here's the rationale:\n",
    "\n",
    "1. Domain Name Suggesting an Organization: \"Maliweb.net\" appears to be a domain name, typically associated with a website. Websites are often representative of organizations, companies, or entities rather than individuals. The \".net\" suffix is commonly used by organizations, especially those involved in technology, internet-based services, or networks.\n",
    "\n",
    "2. Common NER Practices: In NER tasks, entities like websites, companies, or other groups are usually classified as organizations.\n",
    "\n",
    "3. Lack of Contextual Clues for Other Entity Types: Without specific contextual clues that \"Maliweb.net\" refers to something other than an organization (like a person, location, or date), the default assumption based on its structure as a web domain is to classify it as an organization."
   ]
  },
  {
   "cell_type": "markdown",
   "id": "3990b5f18446c0d7",
   "metadata": {
    "collapsed": false
   },
   "source": [
    "Upon detailed investigation, we discovered that MUC-6 (Message Understanding Conference-6) Named Entity Recognition (NER) annotation guidelines that were used by the masakhaner2 annotators,  do not contain any guidelines on annotating websites. "
   ]
  }
 ],
 "metadata": {
  "kernelspec": {
   "display_name": "Python 3",
   "language": "python",
   "name": "python3"
  },
  "language_info": {
   "codemirror_mode": {
    "name": "ipython",
    "version": 2
   },
   "file_extension": ".py",
   "mimetype": "text/x-python",
   "name": "python",
   "nbconvert_exporter": "python",
   "pygments_lexer": "ipython2",
   "version": "2.7.6"
  }
 },
 "nbformat": 4,
 "nbformat_minor": 5
}
