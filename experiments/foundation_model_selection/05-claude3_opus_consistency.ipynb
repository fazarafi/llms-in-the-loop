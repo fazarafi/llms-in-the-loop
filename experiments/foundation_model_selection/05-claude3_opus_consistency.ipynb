{
 "cells": [
  {
   "cell_type": "markdown",
   "id": "a82c87367cd70bae",
   "metadata": {
    "collapsed": false
   },
   "source": [
    "### Setup & Initialization"
   ]
  },
  {
   "cell_type": "code",
   "execution_count": 1,
   "id": "556b5cff764f1fb6",
   "metadata": {
    "ExecuteTime": {
     "end_time": "2024-02-21T13:42:20.830557Z",
     "start_time": "2024-02-21T13:42:19.886094Z"
    },
    "collapsed": false
   },
   "outputs": [],
   "source": [
    "import os\n",
    "import sys\n",
    "import yaml\n",
    "from contextlib import contextmanager\n",
    "from datasets import load_dataset\n",
    "from tqdm.notebook import tqdm\n",
    "from openai import APIStatusError, RateLimitError, APIConnectionError\n",
    "from getpass import getpass\n",
    "import anthropic\n",
    "import json\n",
    "import ast\n",
    "import re\n",
    "import numpy as np\n",
    "import time"
   ]
  },
  {
   "cell_type": "code",
   "execution_count": 2,
   "id": "b1421b033bd3e9c1",
   "metadata": {
    "ExecuteTime": {
     "end_time": "2024-02-21T13:42:20.835174Z",
     "start_time": "2024-02-21T13:42:20.832421Z"
    },
    "collapsed": false
   },
   "outputs": [],
   "source": [
    "SAMPLE_SIZE = 50\n",
    "REPEAT_ANNOTATION = 1"
   ]
  },
  {
   "cell_type": "code",
   "execution_count": 27,
   "id": "ca6d9576",
   "metadata": {},
   "outputs": [],
   "source": [
    "foundaiton_model = \"claude-3-opus-20240229\"\n",
    "client = anthropic.Anthropic(\n",
    "    api_key=getpass(\"ANTHROPIC API KEY: \")\n",
    ")"
   ]
  },
  {
   "cell_type": "code",
   "execution_count": 4,
   "id": "eaf1762ae7983e36",
   "metadata": {
    "ExecuteTime": {
     "end_time": "2024-02-21T13:42:20.839728Z",
     "start_time": "2024-02-21T13:42:20.836451Z"
    },
    "collapsed": false
   },
   "outputs": [],
   "source": [
    "# Specifying path to the necessary files and folders\n",
    "PATH_TO_SRC = os.path.abspath('../../../')\n",
    "\n",
    "# Where to get annotation examples for the prompt\n",
    "ANNOTATION_EXAMPLES_PATH = os.path.join(PATH_TO_SRC, 'src/query/ner_examples_all_languages.json')\n",
    "CONFIG_PATH = os.path.join(PATH_TO_SRC, \"settings/config.yml\")\n",
    "ENV_FILE_PATH = os.path.join(PATH_TO_SRC, '.env')\n",
    "# Folder to save annotations\n",
    "RESULTS_PATH = os.path.join(PATH_TO_SRC, 'data/foundation_model_selection/claude3-opus')"
   ]
  },
  {
   "cell_type": "code",
   "execution_count": 5,
   "id": "fe74700731e1e661",
   "metadata": {
    "ExecuteTime": {
     "end_time": "2024-02-21T13:42:20.845684Z",
     "start_time": "2024-02-21T13:42:20.841953Z"
    },
    "collapsed": false
   },
   "outputs": [],
   "source": [
    "@contextmanager\n",
    "def extend_sys_path(path):\n",
    "    if path not in sys.path:\n",
    "        # Append the path to sys.path\n",
    "        sys.path.append(path)\n",
    "    try:\n",
    "        # Execute code inside the 'with' statement\n",
    "        yield\n",
    "    finally:\n",
    "        # Remove the path from sys.path\n",
    "        if path in sys.path:\n",
    "            sys.path.remove(path)"
   ]
  },
  {
   "cell_type": "code",
   "execution_count": 6,
   "id": "4a8c61c1ee320d16",
   "metadata": {
    "ExecuteTime": {
     "end_time": "2024-02-21T13:42:23.117266Z",
     "start_time": "2024-02-21T13:42:20.846949Z"
    },
    "collapsed": false
   },
   "outputs": [],
   "source": [
    "# Temporarily add module_path and import functions\n",
    "with extend_sys_path(PATH_TO_SRC):\n",
    "    from src.data.sample import sample_for_model_selection\n",
    "    from src.query.query_gpt import ask_gpt, add_annotation_examples\n",
    "    from src.query.prompts import MAIN_PROMPT\n",
    "    from src.utils.utils import calculate_consistency_score"
   ]
  },
  {
   "cell_type": "code",
   "execution_count": 8,
   "id": "2e2d974f088fb0ca",
   "metadata": {
    "ExecuteTime": {
     "end_time": "2024-02-21T13:42:23.167371Z",
     "start_time": "2024-02-21T13:42:23.157739Z"
    },
    "collapsed": false
   },
   "outputs": [
    {
     "data": {
      "text/plain": [
       "{0: 'O',\n",
       " 1: 'B-PER',\n",
       " 2: 'I-PER',\n",
       " 3: 'B-ORG',\n",
       " 4: 'I-ORG',\n",
       " 5: 'B-LOC',\n",
       " 6: 'I-LOC',\n",
       " 7: 'B-DATE',\n",
       " 8: 'I-DATE'}"
      ]
     },
     "execution_count": 8,
     "metadata": {},
     "output_type": "execute_result"
    }
   ],
   "source": [
    "# Reading config file\n",
    "config = yaml.safe_load(open(os.path.join(PATH_TO_SRC, \"settings/config.yml\")))\n",
    "\n",
    "# Load indx-to-label_name mapping\n",
    "label_mapping = config['label_mapping']\n",
    "label_mapping"
   ]
  },
  {
   "cell_type": "markdown",
   "id": "8dd033762153f338",
   "metadata": {
    "collapsed": false
   },
   "source": [
    "### Utils"
   ]
  },
  {
   "cell_type": "code",
   "execution_count": 13,
   "id": "5e1a6244de9b9133",
   "metadata": {
    "ExecuteTime": {
     "end_time": "2024-02-21T13:42:23.176530Z",
     "start_time": "2024-02-21T13:42:23.168988Z"
    },
    "collapsed": false
   },
   "outputs": [],
   "source": [
    "import time\n",
    "def ask_gpt_short(\n",
    "        tokens, language, examples, client, user_prompt,\n",
    "        max_tokens=1000,\n",
    "        temperature=0.1,\n",
    "        model=foundaiton_model,\n",
    "        system_prompt=None):\n",
    "\n",
    "    sentence = str(tokens)\n",
    "    ner_tags = None\n",
    "\n",
    "    if system_prompt is None:\n",
    "        system_prompt = f\"You are a named entity labelling expert in {language} language.\"\n",
    "\n",
    "    # Format user prompt\n",
    "    user_prompt = user_prompt.format(language=language, sentence=sentence, examples=examples)\n",
    "\n",
    "    # Save query params\n",
    "    query_params = {\n",
    "        'model': model,\n",
    "        'temperature': temperature,\n",
    "        'system': system_prompt,\n",
    "        'messages': [\n",
    "                        {\n",
    "                            \"role\": \"user\", \n",
    "                            \"content\": [\n",
    "                                {\n",
    "                                    \"type\":\"text\",\n",
    "                                    \"text\":user_prompt\n",
    "                                }\n",
    "                            ]\n",
    "                        }\n",
    "                     ],\n",
    "        'max_tokens': max_tokens,\n",
    "    }\n",
    "\n",
    "    try:\n",
    "        # Query the model\n",
    "        time.sleep(2)\n",
    "        response = client.messages.create(**query_params)\n",
    "        # Extract model answer\n",
    "        answer = response.content[0].text\n",
    "        return answer\n",
    "\n",
    "    except APIConnectionError as e:\n",
    "        raise Exception(f\"The server could not be reached: {e.__cause__}\")\n",
    "    except RateLimitError as e:\n",
    "        raise Exception(f\"A 429 status code was received: {e}\")\n",
    "    except APIStatusError as e:\n",
    "        raise Exception(f\"Non-200-range status code received: {e.status_code}, {e.response}\")"
   ]
  },
  {
   "cell_type": "code",
   "execution_count": 28,
   "id": "3baa85d12cd70e0e",
   "metadata": {
    "ExecuteTime": {
     "end_time": "2024-02-21T13:42:23.186082Z",
     "start_time": "2024-02-21T13:42:23.177907Z"
    },
    "collapsed": false
   },
   "outputs": [],
   "source": [
    "def repeat_annotation(n_repeat=10, **ask_gpt_kwargs):\n",
    "    # Counters\n",
    "    no_json_counter = 0  # No json was provided by the model\n",
    "    incorrect_format_counter = 0  # Number of records parsed in the incorrect format \n",
    "\n",
    "    # Results\n",
    "    ner_tokens_arr = []\n",
    "\n",
    "    for i in tqdm(range(n_repeat)):\n",
    "        # Send request to a model\n",
    "        model_response = ask_gpt_short(**ask_gpt_kwargs)\n",
    "\n",
    "        if ask_gpt_kwargs['model'] in ['gpt-4-1106-preview', 'gpt-4-0125-preview',\"llama2:70b\",\"llama2\",\"mistral:7b\",foundaiton_model]:\n",
    "            # Newer models provide json\n",
    "            try:\n",
    "                ner_tags = json.loads(model_response)['output']\n",
    "                ner_tokens_arr.append(ner_tags)\n",
    "            except Exception as e:\n",
    "                print('#'*80)\n",
    "                print(e)\n",
    "                print(model_response)\n",
    "                incorrect_format_counter += 1\n",
    "                continue\n",
    "        else:\n",
    "            # Extract json only\n",
    "            match = re.search(r'\\{(.*?)\\}', model_response)\n",
    "            if match:\n",
    "                content = match.group(0)\n",
    "                # Format output string to parse it as JSON\n",
    "                try:\n",
    "                    ner_tags = json.loads(json.dumps(ast.literal_eval(content)))['output']\n",
    "                    ner_tokens_arr.append(ner_tags)\n",
    "                except Exception as e:\n",
    "                    print('#'*80)\n",
    "                    print(e)\n",
    "                    print(model_response)\n",
    "                    incorrect_format_counter += 1\n",
    "                    continue\n",
    "            else:\n",
    "                print('#'*80)\n",
    "                print('No json found in model\\'s response:', model_response)\n",
    "                no_json_counter += 1\n",
    "                continue\n",
    "    print(f'Number of model responses without json: {no_json_counter}')\n",
    "    print(f'Number of model responses with incorrect formatting: {incorrect_format_counter}')\n",
    "    return ner_tokens_arr"
   ]
  },
  {
   "cell_type": "code",
   "execution_count": 29,
   "id": "0b2cd2e9",
   "metadata": {},
   "outputs": [],
   "source": [
    "target_languages= ['tsn','zul','bam',\"fon\",\"bbj\"]"
   ]
  },
  {
   "cell_type": "markdown",
   "id": "4c4fda68aff9f169",
   "metadata": {
    "collapsed": false
   },
   "source": [
    "### Querying all"
   ]
  },
  {
   "cell_type": "code",
   "execution_count": 30,
   "id": "e1a4694ef68d47e0",
   "metadata": {
    "ExecuteTime": {
     "end_time": "2024-02-21T14:36:28.339265Z",
     "start_time": "2024-02-21T13:42:25.870159Z"
    },
    "collapsed": false
   },
   "outputs": [
    {
     "name": "stdout",
     "output_type": "stream",
     "text": [
      "Language: Fon\n"
     ]
    },
    {
     "data": {
      "application/vnd.jupyter.widget-view+json": {
       "model_id": "600208bec12c4e1d87ac48654b7be6b8",
       "version_major": 2,
       "version_minor": 0
      },
      "text/plain": [
       "  0%|          | 0/3 [00:00<?, ?it/s]"
      ]
     },
     "metadata": {},
     "output_type": "display_data"
    },
    {
     "data": {
      "image/png": "[encoded data removed]",
      "text/plain": [
       "<Figure size 600x400 with 1 Axes>"
      ]
     },
     "metadata": {},
     "output_type": "display_data"
    },
    {
     "data": {
      "image/png": "[encoded data removed]",
      "text/plain": [
       "<Figure size 600x300 with 1 Axes>"
      ]
     },
     "metadata": {},
     "output_type": "display_data"
    },
    {
     "data": {
      "image/png": "[encoded data removed]",
      "text/plain": [
       "<Figure size 600x400 with 1 Axes>"
      ]
     },
     "metadata": {},
     "output_type": "display_data"
    },
    {
     "data": {
      "image/png": "[encoded data removed]",
      "text/plain": [
       "<Figure size 600x400 with 1 Axes>"
      ]
     },
     "metadata": {},
     "output_type": "display_data"
    },
    {
     "data": {
      "image/png": "[encoded data removed]",
      "text/plain": [
       "<Figure size 1600x600 with 2 Axes>"
      ]
     },
     "metadata": {},
     "output_type": "display_data"
    },
    {
     "name": "stdout",
     "output_type": "stream",
     "text": [
      "\n",
      "Iteration: 0\n"
     ]
    },
    {
     "data": {
      "application/vnd.jupyter.widget-view+json": {
       "model_id": "8c2bfad15b4d42ec93ec20bdb7d93d70",
       "version_major": 2,
       "version_minor": 0
      },
      "text/plain": [
       "  0%|          | 0/1 [00:00<?, ?it/s]"
      ]
     },
     "metadata": {},
     "output_type": "display_data"
    },
    {
     "name": "stdout",
     "output_type": "stream",
     "text": [
      "Number of model responses without json: 0\n",
      "Number of model responses with incorrect formatting: 0\n",
      "\n",
      "Iteration: 1\n"
     ]
    },
    {
     "data": {
      "application/vnd.jupyter.widget-view+json": {
       "model_id": "984e52c7cc9449bfbb11fce37164dc55",
       "version_major": 2,
       "version_minor": 0
      },
      "text/plain": [
       "  0%|          | 0/1 [00:00<?, ?it/s]"
      ]
     },
     "metadata": {},
     "output_type": "display_data"
    },
    {
     "name": "stdout",
     "output_type": "stream",
     "text": [
      "Number of model responses without json: 0\n",
      "Number of model responses with incorrect formatting: 0\n",
      "\n",
      "Iteration: 2\n"
     ]
    },
    {
     "data": {
      "application/vnd.jupyter.widget-view+json": {
       "model_id": "9c58dfad1eef4451863e7f30ea376412",
       "version_major": 2,
       "version_minor": 0
      },
      "text/plain": [
       "  0%|          | 0/1 [00:00<?, ?it/s]"
      ]
     },
     "metadata": {},
     "output_type": "display_data"
    },
    {
     "name": "stdout",
     "output_type": "stream",
     "text": [
      "Number of model responses without json: 0\n",
      "Number of model responses with incorrect formatting: 0\n",
      "\n",
      "Iteration: 3\n"
     ]
    },
    {
     "data": {
      "application/vnd.jupyter.widget-view+json": {
       "model_id": "c9fcb938f803499e8ce76acffc35d7e8",
       "version_major": 2,
       "version_minor": 0
      },
      "text/plain": [
       "  0%|          | 0/1 [00:00<?, ?it/s]"
      ]
     },
     "metadata": {},
     "output_type": "display_data"
    },
    {
     "name": "stdout",
     "output_type": "stream",
     "text": [
      "Number of model responses without json: 0\n",
      "Number of model responses with incorrect formatting: 0\n",
      "\n",
      "Iteration: 4\n"
     ]
    },
    {
     "data": {
      "application/vnd.jupyter.widget-view+json": {
       "model_id": "b5886a1c1cd047e6b959e39952c6811d",
       "version_major": 2,
       "version_minor": 0
      },
      "text/plain": [
       "  0%|          | 0/1 [00:00<?, ?it/s]"
      ]
     },
     "metadata": {},
     "output_type": "display_data"
    },
    {
     "name": "stdout",
     "output_type": "stream",
     "text": [
      "Number of model responses without json: 0\n",
      "Number of model responses with incorrect formatting: 0\n",
      "\n",
      "Iteration: 5\n"
     ]
    },
    {
     "data": {
      "application/vnd.jupyter.widget-view+json": {
       "model_id": "ef0a29a309034d439c384b2b13d54a03",
       "version_major": 2,
       "version_minor": 0
      },
      "text/plain": [
       "  0%|          | 0/1 [00:00<?, ?it/s]"
      ]
     },
     "metadata": {},
     "output_type": "display_data"
    },
    {
     "name": "stdout",
     "output_type": "stream",
     "text": [
      "Number of model responses without json: 0\n",
      "Number of model responses with incorrect formatting: 0\n",
      "\n",
      "Iteration: 6\n"
     ]
    },
    {
     "data": {
      "application/vnd.jupyter.widget-view+json": {
       "model_id": "6f20f0dc279640e385a7fe59106a3196",
       "version_major": 2,
       "version_minor": 0
      },
      "text/plain": [
       "  0%|          | 0/1 [00:00<?, ?it/s]"
      ]
     },
     "metadata": {},
     "output_type": "display_data"
    },
    {
     "name": "stdout",
     "output_type": "stream",
     "text": [
      "Number of model responses without json: 0\n",
      "Number of model responses with incorrect formatting: 0\n",
      "\n",
      "Iteration: 7\n"
     ]
    },
    {
     "data": {
      "application/vnd.jupyter.widget-view+json": {
       "model_id": "3d86ec1df603460287f1b25e1dfe41a8",
       "version_major": 2,
       "version_minor": 0
      },
      "text/plain": [
       "  0%|          | 0/1 [00:00<?, ?it/s]"
      ]
     },
     "metadata": {},
     "output_type": "display_data"
    },
    {
     "name": "stdout",
     "output_type": "stream",
     "text": [
      "Number of model responses without json: 0\n",
      "Number of model responses with incorrect formatting: 0\n",
      "\n",
      "Iteration: 8\n"
     ]
    },
    {
     "data": {
      "application/vnd.jupyter.widget-view+json": {
       "model_id": "2677b19812204de192730ae7a2fb3f61",
       "version_major": 2,
       "version_minor": 0
      },
      "text/plain": [
       "  0%|          | 0/1 [00:00<?, ?it/s]"
      ]
     },
     "metadata": {},
     "output_type": "display_data"
    },
    {
     "name": "stdout",
     "output_type": "stream",
     "text": [
      "Number of model responses without json: 0\n",
      "Number of model responses with incorrect formatting: 0\n",
      "\n",
      "Iteration: 9\n"
     ]
    },
    {
     "data": {
      "application/vnd.jupyter.widget-view+json": {
       "model_id": "df3dd5278b8a467bbe04429036e0ba3c",
       "version_major": 2,
       "version_minor": 0
      },
      "text/plain": [
       "  0%|          | 0/1 [00:00<?, ?it/s]"
      ]
     },
     "metadata": {},
     "output_type": "display_data"
    },
    {
     "name": "stdout",
     "output_type": "stream",
     "text": [
      "Number of model responses without json: 0\n",
      "Number of model responses with incorrect formatting: 0\n",
      "\n",
      "Iteration: 10\n"
     ]
    },
    {
     "data": {
      "application/vnd.jupyter.widget-view+json": {
       "model_id": "5ca79954cc18432f8bd801f5d9cccecb",
       "version_major": 2,
       "version_minor": 0
      },
      "text/plain": [
       "  0%|          | 0/1 [00:00<?, ?it/s]"
      ]
     },
     "metadata": {},
     "output_type": "display_data"
    },
    {
     "name": "stdout",
     "output_type": "stream",
     "text": [
      "Number of model responses without json: 0\n",
      "Number of model responses with incorrect formatting: 0\n",
      "\n",
      "Iteration: 11\n"
     ]
    },
    {
     "data": {
      "application/vnd.jupyter.widget-view+json": {
       "model_id": "43b24f8dbcd747f3879adb0361cf1ed9",
       "version_major": 2,
       "version_minor": 0
      },
      "text/plain": [
       "  0%|          | 0/1 [00:00<?, ?it/s]"
      ]
     },
     "metadata": {},
     "output_type": "display_data"
    },
    {
     "name": "stdout",
     "output_type": "stream",
     "text": [
      "Number of model responses without json: 0\n",
      "Number of model responses with incorrect formatting: 0\n",
      "\n",
      "Iteration: 12\n"
     ]
    },
    {
     "data": {
      "application/vnd.jupyter.widget-view+json": {
       "model_id": "bae7d359402e4a40b7789c7f91adcd90",
       "version_major": 2,
       "version_minor": 0
      },
      "text/plain": [
       "  0%|          | 0/1 [00:00<?, ?it/s]"
      ]
     },
     "metadata": {},
     "output_type": "display_data"
    },
    {
     "name": "stdout",
     "output_type": "stream",
     "text": [
      "Number of model responses without json: 0\n",
      "Number of model responses with incorrect formatting: 0\n",
      "\n",
      "Iteration: 13\n"
     ]
    },
    {
     "data": {
      "application/vnd.jupyter.widget-view+json": {
       "model_id": "d403bb4aae204868a8ec08c22444a6e6",
       "version_major": 2,
       "version_minor": 0
      },
      "text/plain": [
       "  0%|          | 0/1 [00:00<?, ?it/s]"
      ]
     },
     "metadata": {},
     "output_type": "display_data"
    },
    {
     "name": "stdout",
     "output_type": "stream",
     "text": [
      "Number of model responses without json: 0\n",
      "Number of model responses with incorrect formatting: 0\n",
      "\n",
      "Iteration: 14\n"
     ]
    },
    {
     "data": {
      "application/vnd.jupyter.widget-view+json": {
       "model_id": "da8c9224552547d88e12d294a2b44d04",
       "version_major": 2,
       "version_minor": 0
      },
      "text/plain": [
       "  0%|          | 0/1 [00:00<?, ?it/s]"
      ]
     },
     "metadata": {},
     "output_type": "display_data"
    },
    {
     "name": "stdout",
     "output_type": "stream",
     "text": [
      "Number of model responses without json: 0\n",
      "Number of model responses with incorrect formatting: 0\n",
      "\n",
      "Iteration: 15\n"
     ]
    },
    {
     "data": {
      "application/vnd.jupyter.widget-view+json": {
       "model_id": "6bc528ddf7ba468b8d29909979bac652",
       "version_major": 2,
       "version_minor": 0
      },
      "text/plain": [
       "  0%|          | 0/1 [00:00<?, ?it/s]"
      ]
     },
     "metadata": {},
     "output_type": "display_data"
    },
    {
     "name": "stdout",
     "output_type": "stream",
     "text": [
      "Number of model responses without json: 0\n",
      "Number of model responses with incorrect formatting: 0\n",
      "\n",
      "Iteration: 16\n"
     ]
    },
    {
     "data": {
      "application/vnd.jupyter.widget-view+json": {
       "model_id": "91e24a25fdee48e3bc4a403edb66c1d7",
       "version_major": 2,
       "version_minor": 0
      },
      "text/plain": [
       "  0%|          | 0/1 [00:00<?, ?it/s]"
      ]
     },
     "metadata": {},
     "output_type": "display_data"
    },
    {
     "name": "stdout",
     "output_type": "stream",
     "text": [
      "Number of model responses without json: 0\n",
      "Number of model responses with incorrect formatting: 0\n",
      "\n",
      "Iteration: 17\n"
     ]
    },
    {
     "data": {
      "application/vnd.jupyter.widget-view+json": {
       "model_id": "b48311b031444440b21c9efe3d13a58d",
       "version_major": 2,
       "version_minor": 0
      },
      "text/plain": [
       "  0%|          | 0/1 [00:00<?, ?it/s]"
      ]
     },
     "metadata": {},
     "output_type": "display_data"
    },
    {
     "name": "stdout",
     "output_type": "stream",
     "text": [
      "Number of model responses without json: 0\n",
      "Number of model responses with incorrect formatting: 0\n",
      "\n",
      "Iteration: 18\n"
     ]
    },
    {
     "data": {
      "application/vnd.jupyter.widget-view+json": {
       "model_id": "bf7046500aab4f4288714c7b6e1aa363",
       "version_major": 2,
       "version_minor": 0
      },
      "text/plain": [
       "  0%|          | 0/1 [00:00<?, ?it/s]"
      ]
     },
     "metadata": {},
     "output_type": "display_data"
    },
    {
     "name": "stdout",
     "output_type": "stream",
     "text": [
      "Number of model responses without json: 0\n",
      "Number of model responses with incorrect formatting: 0\n",
      "\n",
      "Iteration: 19\n"
     ]
    },
    {
     "data": {
      "application/vnd.jupyter.widget-view+json": {
       "model_id": "3c9759f3118e4519919df0199387713c",
       "version_major": 2,
       "version_minor": 0
      },
      "text/plain": [
       "  0%|          | 0/1 [00:00<?, ?it/s]"
      ]
     },
     "metadata": {},
     "output_type": "display_data"
    },
    {
     "name": "stdout",
     "output_type": "stream",
     "text": [
      "Number of model responses without json: 0\n",
      "Number of model responses with incorrect formatting: 0\n",
      "\n",
      "Iteration: 20\n"
     ]
    },
    {
     "data": {
      "application/vnd.jupyter.widget-view+json": {
       "model_id": "c60a5019610048faa5935c12c17abd13",
       "version_major": 2,
       "version_minor": 0
      },
      "text/plain": [
       "  0%|          | 0/1 [00:00<?, ?it/s]"
      ]
     },
     "metadata": {},
     "output_type": "display_data"
    },
    {
     "name": "stdout",
     "output_type": "stream",
     "text": [
      "Number of model responses without json: 0\n",
      "Number of model responses with incorrect formatting: 0\n",
      "\n",
      "Iteration: 21\n"
     ]
    },
    {
     "data": {
      "application/vnd.jupyter.widget-view+json": {
       "model_id": "89f880a56cf34f44ae4858833090fe14",
       "version_major": 2,
       "version_minor": 0
      },
      "text/plain": [
       "  0%|          | 0/1 [00:00<?, ?it/s]"
      ]
     },
     "metadata": {},
     "output_type": "display_data"
    },
    {
     "name": "stdout",
     "output_type": "stream",
     "text": [
      "Number of model responses without json: 0\n",
      "Number of model responses with incorrect formatting: 0\n",
      "\n",
      "Iteration: 22\n"
     ]
    },
    {
     "data": {
      "application/vnd.jupyter.widget-view+json": {
       "model_id": "b46ea1f03ac84fc9a5afba0e210cee7a",
       "version_major": 2,
       "version_minor": 0
      },
      "text/plain": [
       "  0%|          | 0/1 [00:00<?, ?it/s]"
      ]
     },
     "metadata": {},
     "output_type": "display_data"
    },
    {
     "name": "stdout",
     "output_type": "stream",
     "text": [
      "Number of model responses without json: 0\n",
      "Number of model responses with incorrect formatting: 0\n",
      "\n",
      "Iteration: 23\n"
     ]
    },
    {
     "data": {
      "application/vnd.jupyter.widget-view+json": {
       "model_id": "65ebfc6315b14632aee1f8948d8b06c4",
       "version_major": 2,
       "version_minor": 0
      },
      "text/plain": [
       "  0%|          | 0/1 [00:00<?, ?it/s]"
      ]
     },
     "metadata": {},
     "output_type": "display_data"
    },
    {
     "name": "stdout",
     "output_type": "stream",
     "text": [
      "Number of model responses without json: 0\n",
      "Number of model responses with incorrect formatting: 0\n",
      "\n",
      "Iteration: 24\n"
     ]
    },
    {
     "data": {
      "application/vnd.jupyter.widget-view+json": {
       "model_id": "c4516364ddf3473bb92a9fe7e1a28635",
       "version_major": 2,
       "version_minor": 0
      },
      "text/plain": [
       "  0%|          | 0/1 [00:00<?, ?it/s]"
      ]
     },
     "metadata": {},
     "output_type": "display_data"
    },
    {
     "name": "stdout",
     "output_type": "stream",
     "text": [
      "Number of model responses without json: 0\n",
      "Number of model responses with incorrect formatting: 0\n",
      "\n",
      "Iteration: 25\n"
     ]
    },
    {
     "data": {
      "application/vnd.jupyter.widget-view+json": {
       "model_id": "0633d0f83c1646b2b674ebc4880d837b",
       "version_major": 2,
       "version_minor": 0
      },
      "text/plain": [
       "  0%|          | 0/1 [00:00<?, ?it/s]"
      ]
     },
     "metadata": {},
     "output_type": "display_data"
    },
    {
     "name": "stdout",
     "output_type": "stream",
     "text": [
      "Number of model responses without json: 0\n",
      "Number of model responses with incorrect formatting: 0\n",
      "\n",
      "Iteration: 26\n"
     ]
    },
    {
     "data": {
      "application/vnd.jupyter.widget-view+json": {
       "model_id": "7bea509da29e43b3abae7c19d19878cd",
       "version_major": 2,
       "version_minor": 0
      },
      "text/plain": [
       "  0%|          | 0/1 [00:00<?, ?it/s]"
      ]
     },
     "metadata": {},
     "output_type": "display_data"
    },
    {
     "name": "stdout",
     "output_type": "stream",
     "text": [
      "Number of model responses without json: 0\n",
      "Number of model responses with incorrect formatting: 0\n",
      "\n",
      "Iteration: 27\n"
     ]
    },
    {
     "data": {
      "application/vnd.jupyter.widget-view+json": {
       "model_id": "7d05403ca2a04751874f6d3d2c5f2859",
       "version_major": 2,
       "version_minor": 0
      },
      "text/plain": [
       "  0%|          | 0/1 [00:00<?, ?it/s]"
      ]
     },
     "metadata": {},
     "output_type": "display_data"
    },
    {
     "name": "stdout",
     "output_type": "stream",
     "text": [
      "Number of model responses without json: 0\n",
      "Number of model responses with incorrect formatting: 0\n",
      "\n",
      "Iteration: 28\n"
     ]
    },
    {
     "data": {
      "application/vnd.jupyter.widget-view+json": {
       "model_id": "0962333ac83041c5b816d437f070fadb",
       "version_major": 2,
       "version_minor": 0
      },
      "text/plain": [
       "  0%|          | 0/1 [00:00<?, ?it/s]"
      ]
     },
     "metadata": {},
     "output_type": "display_data"
    },
    {
     "name": "stdout",
     "output_type": "stream",
     "text": [
      "Number of model responses without json: 0\n",
      "Number of model responses with incorrect formatting: 0\n",
      "\n",
      "Iteration: 29\n"
     ]
    },
    {
     "data": {
      "application/vnd.jupyter.widget-view+json": {
       "model_id": "ccb22deced7e42cfad2e60633e227f40",
       "version_major": 2,
       "version_minor": 0
      },
      "text/plain": [
       "  0%|          | 0/1 [00:00<?, ?it/s]"
      ]
     },
     "metadata": {},
     "output_type": "display_data"
    },
    {
     "name": "stdout",
     "output_type": "stream",
     "text": [
      "Number of model responses without json: 0\n",
      "Number of model responses with incorrect formatting: 0\n",
      "\n",
      "Iteration: 30\n"
     ]
    },
    {
     "data": {
      "application/vnd.jupyter.widget-view+json": {
       "model_id": "4c1a7c6513fe434fb52c92ddf810e70b",
       "version_major": 2,
       "version_minor": 0
      },
      "text/plain": [
       "  0%|          | 0/1 [00:00<?, ?it/s]"
      ]
     },
     "metadata": {},
     "output_type": "display_data"
    },
    {
     "name": "stdout",
     "output_type": "stream",
     "text": [
      "Number of model responses without json: 0\n",
      "Number of model responses with incorrect formatting: 0\n",
      "\n",
      "Iteration: 31\n"
     ]
    },
    {
     "data": {
      "application/vnd.jupyter.widget-view+json": {
       "model_id": "4b31de6904bc44edaae1773784ea8874",
       "version_major": 2,
       "version_minor": 0
      },
      "text/plain": [
       "  0%|          | 0/1 [00:00<?, ?it/s]"
      ]
     },
     "metadata": {},
     "output_type": "display_data"
    },
    {
     "name": "stdout",
     "output_type": "stream",
     "text": [
      "Number of model responses without json: 0\n",
      "Number of model responses with incorrect formatting: 0\n",
      "\n",
      "Iteration: 32\n"
     ]
    },
    {
     "data": {
      "application/vnd.jupyter.widget-view+json": {
       "model_id": "79184951b89046e18c41060c4d94a23a",
       "version_major": 2,
       "version_minor": 0
      },
      "text/plain": [
       "  0%|          | 0/1 [00:00<?, ?it/s]"
      ]
     },
     "metadata": {},
     "output_type": "display_data"
    },
    {
     "name": "stdout",
     "output_type": "stream",
     "text": [
      "Number of model responses without json: 0\n",
      "Number of model responses with incorrect formatting: 0\n",
      "\n",
      "Iteration: 33\n"
     ]
    },
    {
     "data": {
      "application/vnd.jupyter.widget-view+json": {
       "model_id": "6857f88587cd44df9a5d9056059fc2f5",
       "version_major": 2,
       "version_minor": 0
      },
      "text/plain": [
       "  0%|          | 0/1 [00:00<?, ?it/s]"
      ]
     },
     "metadata": {},
     "output_type": "display_data"
    },
    {
     "name": "stdout",
     "output_type": "stream",
     "text": [
      "Number of model responses without json: 0\n",
      "Number of model responses with incorrect formatting: 0\n",
      "\n",
      "Iteration: 34\n"
     ]
    },
    {
     "data": {
      "application/vnd.jupyter.widget-view+json": {
       "model_id": "fd67a9e1e97544e7918ed7277f7d854b",
       "version_major": 2,
       "version_minor": 0
      },
      "text/plain": [
       "  0%|          | 0/1 [00:00<?, ?it/s]"
      ]
     },
     "metadata": {},
     "output_type": "display_data"
    },
    {
     "name": "stdout",
     "output_type": "stream",
     "text": [
      "Number of model responses without json: 0\n",
      "Number of model responses with incorrect formatting: 0\n",
      "\n",
      "Iteration: 35\n"
     ]
    },
    {
     "data": {
      "application/vnd.jupyter.widget-view+json": {
       "model_id": "ede8bcaa674546989af9141f00328b51",
       "version_major": 2,
       "version_minor": 0
      },
      "text/plain": [
       "  0%|          | 0/1 [00:00<?, ?it/s]"
      ]
     },
     "metadata": {},
     "output_type": "display_data"
    },
    {
     "name": "stdout",
     "output_type": "stream",
     "text": [
      "Number of model responses without json: 0\n",
      "Number of model responses with incorrect formatting: 0\n",
      "\n",
      "Iteration: 36\n"
     ]
    },
    {
     "data": {
      "application/vnd.jupyter.widget-view+json": {
       "model_id": "56d5388c2fc34815a4c8fa0f7efb0258",
       "version_major": 2,
       "version_minor": 0
      },
      "text/plain": [
       "  0%|          | 0/1 [00:00<?, ?it/s]"
      ]
     },
     "metadata": {},
     "output_type": "display_data"
    },
    {
     "name": "stdout",
     "output_type": "stream",
     "text": [
      "Number of model responses without json: 0\n",
      "Number of model responses with incorrect formatting: 0\n",
      "\n",
      "Iteration: 37\n"
     ]
    },
    {
     "data": {
      "application/vnd.jupyter.widget-view+json": {
       "model_id": "0a180d59e3034545830bf352bffe364d",
       "version_major": 2,
       "version_minor": 0
      },
      "text/plain": [
       "  0%|          | 0/1 [00:00<?, ?it/s]"
      ]
     },
     "metadata": {},
     "output_type": "display_data"
    },
    {
     "name": "stdout",
     "output_type": "stream",
     "text": [
      "Number of model responses without json: 0\n",
      "Number of model responses with incorrect formatting: 0\n",
      "\n",
      "Iteration: 38\n"
     ]
    },
    {
     "data": {
      "application/vnd.jupyter.widget-view+json": {
       "model_id": "eb31947fecf4469cb8fa54c65b7e68c8",
       "version_major": 2,
       "version_minor": 0
      },
      "text/plain": [
       "  0%|          | 0/1 [00:00<?, ?it/s]"
      ]
     },
     "metadata": {},
     "output_type": "display_data"
    },
    {
     "name": "stdout",
     "output_type": "stream",
     "text": [
      "Number of model responses without json: 0\n",
      "Number of model responses with incorrect formatting: 0\n",
      "\n",
      "Iteration: 39\n"
     ]
    },
    {
     "data": {
      "application/vnd.jupyter.widget-view+json": {
       "model_id": "74eb821c28fb4d58bce1405545dc3af4",
       "version_major": 2,
       "version_minor": 0
      },
      "text/plain": [
       "  0%|          | 0/1 [00:00<?, ?it/s]"
      ]
     },
     "metadata": {},
     "output_type": "display_data"
    },
    {
     "name": "stdout",
     "output_type": "stream",
     "text": [
      "Number of model responses without json: 0\n",
      "Number of model responses with incorrect formatting: 0\n",
      "\n",
      "Iteration: 40\n"
     ]
    },
    {
     "data": {
      "application/vnd.jupyter.widget-view+json": {
       "model_id": "668eb817dcff483f86daae3c0ecd400f",
       "version_major": 2,
       "version_minor": 0
      },
      "text/plain": [
       "  0%|          | 0/1 [00:00<?, ?it/s]"
      ]
     },
     "metadata": {},
     "output_type": "display_data"
    },
    {
     "name": "stdout",
     "output_type": "stream",
     "text": [
      "Number of model responses without json: 0\n",
      "Number of model responses with incorrect formatting: 0\n",
      "\n",
      "Iteration: 41\n"
     ]
    },
    {
     "data": {
      "application/vnd.jupyter.widget-view+json": {
       "model_id": "a1f3b06f43c74598aab1285fa8be02c4",
       "version_major": 2,
       "version_minor": 0
      },
      "text/plain": [
       "  0%|          | 0/1 [00:00<?, ?it/s]"
      ]
     },
     "metadata": {},
     "output_type": "display_data"
    },
    {
     "name": "stdout",
     "output_type": "stream",
     "text": [
      "Number of model responses without json: 0\n",
      "Number of model responses with incorrect formatting: 0\n",
      "\n",
      "Iteration: 42\n"
     ]
    },
    {
     "data": {
      "application/vnd.jupyter.widget-view+json": {
       "model_id": "9344e3ee83b940e6b00bf050d7df8ee9",
       "version_major": 2,
       "version_minor": 0
      },
      "text/plain": [
       "  0%|          | 0/1 [00:00<?, ?it/s]"
      ]
     },
     "metadata": {},
     "output_type": "display_data"
    },
    {
     "name": "stdout",
     "output_type": "stream",
     "text": [
      "Number of model responses without json: 0\n",
      "Number of model responses with incorrect formatting: 0\n",
      "\n",
      "Iteration: 43\n"
     ]
    },
    {
     "data": {
      "application/vnd.jupyter.widget-view+json": {
       "model_id": "2adbbe74f2d7442189d6b1ec6584554d",
       "version_major": 2,
       "version_minor": 0
      },
      "text/plain": [
       "  0%|          | 0/1 [00:00<?, ?it/s]"
      ]
     },
     "metadata": {},
     "output_type": "display_data"
    },
    {
     "name": "stdout",
     "output_type": "stream",
     "text": [
      "Number of model responses without json: 0\n",
      "Number of model responses with incorrect formatting: 0\n",
      "\n",
      "Iteration: 44\n"
     ]
    },
    {
     "data": {
      "application/vnd.jupyter.widget-view+json": {
       "model_id": "6a79fbafc1104a298eb9713bda2105b4",
       "version_major": 2,
       "version_minor": 0
      },
      "text/plain": [
       "  0%|          | 0/1 [00:00<?, ?it/s]"
      ]
     },
     "metadata": {},
     "output_type": "display_data"
    },
    {
     "name": "stdout",
     "output_type": "stream",
     "text": [
      "Number of model responses without json: 0\n",
      "Number of model responses with incorrect formatting: 0\n",
      "\n",
      "Iteration: 45\n"
     ]
    },
    {
     "data": {
      "application/vnd.jupyter.widget-view+json": {
       "model_id": "99cac48c9f9b4065b3dc94f922ae900c",
       "version_major": 2,
       "version_minor": 0
      },
      "text/plain": [
       "  0%|          | 0/1 [00:00<?, ?it/s]"
      ]
     },
     "metadata": {},
     "output_type": "display_data"
    },
    {
     "name": "stdout",
     "output_type": "stream",
     "text": [
      "Number of model responses without json: 0\n",
      "Number of model responses with incorrect formatting: 0\n",
      "\n",
      "Iteration: 46\n"
     ]
    },
    {
     "data": {
      "application/vnd.jupyter.widget-view+json": {
       "model_id": "27d0a0e74b1c4cad96a2fa27907c54c7",
       "version_major": 2,
       "version_minor": 0
      },
      "text/plain": [
       "  0%|          | 0/1 [00:00<?, ?it/s]"
      ]
     },
     "metadata": {},
     "output_type": "display_data"
    },
    {
     "name": "stdout",
     "output_type": "stream",
     "text": [
      "Number of model responses without json: 0\n",
      "Number of model responses with incorrect formatting: 0\n",
      "\n",
      "Iteration: 47\n"
     ]
    },
    {
     "data": {
      "application/vnd.jupyter.widget-view+json": {
       "model_id": "b561f933c8cc4ab3afc9d5e6fb37eb55",
       "version_major": 2,
       "version_minor": 0
      },
      "text/plain": [
       "  0%|          | 0/1 [00:00<?, ?it/s]"
      ]
     },
     "metadata": {},
     "output_type": "display_data"
    },
    {
     "name": "stdout",
     "output_type": "stream",
     "text": [
      "Number of model responses without json: 0\n",
      "Number of model responses with incorrect formatting: 0\n",
      "\n",
      "Iteration: 48\n"
     ]
    },
    {
     "data": {
      "application/vnd.jupyter.widget-view+json": {
       "model_id": "86aa52668d0c4ac6ba7819fec53f1f6b",
       "version_major": 2,
       "version_minor": 0
      },
      "text/plain": [
       "  0%|          | 0/1 [00:00<?, ?it/s]"
      ]
     },
     "metadata": {},
     "output_type": "display_data"
    },
    {
     "name": "stdout",
     "output_type": "stream",
     "text": [
      "Number of model responses without json: 0\n",
      "Number of model responses with incorrect formatting: 0\n",
      "\n",
      "Iteration: 49\n"
     ]
    },
    {
     "data": {
      "application/vnd.jupyter.widget-view+json": {
       "model_id": "73540a5192ad463e8bd195072c0bf17c",
       "version_major": 2,
       "version_minor": 0
      },
      "text/plain": [
       "  0%|          | 0/1 [00:00<?, ?it/s]"
      ]
     },
     "metadata": {},
     "output_type": "display_data"
    },
    {
     "name": "stdout",
     "output_type": "stream",
     "text": [
      "Number of model responses without json: 0\n",
      "Number of model responses with incorrect formatting: 0\n",
      "Execution time:  987.963917016983 s\n",
      "Language: Ghomala'\n"
     ]
    },
    {
     "data": {
      "application/vnd.jupyter.widget-view+json": {
       "model_id": "c36338279b3c4f2c979e4bc1353fa8fd",
       "version_major": 2,
       "version_minor": 0
      },
      "text/plain": [
       "  0%|          | 0/3 [00:00<?, ?it/s]"
      ]
     },
     "metadata": {},
     "output_type": "display_data"
    },
    {
     "data": {
      "image/png": "[encoded data removed]",
      "text/plain": [
       "<Figure size 600x400 with 1 Axes>"
      ]
     },
     "metadata": {},
     "output_type": "display_data"
    },
    {
     "data": {
      "image/png": "[encoded data removed]",
      "text/plain": [
       "<Figure size 600x300 with 1 Axes>"
      ]
     },
     "metadata": {},
     "output_type": "display_data"
    },
    {
     "data": {
      "image/png": "[encoded data removed]",
      "text/plain": [
       "<Figure size 600x400 with 1 Axes>"
      ]
     },
     "metadata": {},
     "output_type": "display_data"
    },
    {
     "data": {
      "image/png": "[encoded data removed]",
      "text/plain": [
       "<Figure size 600x400 with 1 Axes>"
      ]
     },
     "metadata": {},
     "output_type": "display_data"
    },
    {
     "data": {
      "image/png": "[encoded data removed]",
      "text/plain": [
       "<Figure size 1600x600 with 2 Axes>"
      ]
     },
     "metadata": {},
     "output_type": "display_data"
    },
    {
     "name": "stdout",
     "output_type": "stream",
     "text": [
      "\n",
      "Iteration: 0\n"
     ]
    },
    {
     "data": {
      "application/vnd.jupyter.widget-view+json": {
       "model_id": "7d438c74ffa24e41bad5efa619872abd",
       "version_major": 2,
       "version_minor": 0
      },
      "text/plain": [
       "  0%|          | 0/1 [00:00<?, ?it/s]"
      ]
     },
     "metadata": {},
     "output_type": "display_data"
    },
    {
     "name": "stdout",
     "output_type": "stream",
     "text": [
      "Number of model responses without json: 0\n",
      "Number of model responses with incorrect formatting: 0\n",
      "\n",
      "Iteration: 1\n"
     ]
    },
    {
     "data": {
      "application/vnd.jupyter.widget-view+json": {
       "model_id": "23cdd92465b94420a0c38fa578e8ad84",
       "version_major": 2,
       "version_minor": 0
      },
      "text/plain": [
       "  0%|          | 0/1 [00:00<?, ?it/s]"
      ]
     },
     "metadata": {},
     "output_type": "display_data"
    },
    {
     "name": "stdout",
     "output_type": "stream",
     "text": [
      "Number of model responses without json: 0\n",
      "Number of model responses with incorrect formatting: 0\n",
      "\n",
      "Iteration: 2\n"
     ]
    },
    {
     "data": {
      "application/vnd.jupyter.widget-view+json": {
       "model_id": "827f172ee76249639269c11e2ebbbcc6",
       "version_major": 2,
       "version_minor": 0
      },
      "text/plain": [
       "  0%|          | 0/1 [00:00<?, ?it/s]"
      ]
     },
     "metadata": {},
     "output_type": "display_data"
    },
    {
     "name": "stdout",
     "output_type": "stream",
     "text": [
      "Number of model responses without json: 0\n",
      "Number of model responses with incorrect formatting: 0\n",
      "\n",
      "Iteration: 3\n"
     ]
    },
    {
     "data": {
      "application/vnd.jupyter.widget-view+json": {
       "model_id": "bbfcaaf60bd74ade993eef9353a50a79",
       "version_major": 2,
       "version_minor": 0
      },
      "text/plain": [
       "  0%|          | 0/1 [00:00<?, ?it/s]"
      ]
     },
     "metadata": {},
     "output_type": "display_data"
    },
    {
     "name": "stdout",
     "output_type": "stream",
     "text": [
      "Number of model responses without json: 0\n",
      "Number of model responses with incorrect formatting: 0\n",
      "\n",
      "Iteration: 4\n"
     ]
    },
    {
     "data": {
      "application/vnd.jupyter.widget-view+json": {
       "model_id": "48a0f6f11a96487cbb764ffae2935ade",
       "version_major": 2,
       "version_minor": 0
      },
      "text/plain": [
       "  0%|          | 0/1 [00:00<?, ?it/s]"
      ]
     },
     "metadata": {},
     "output_type": "display_data"
    },
    {
     "name": "stdout",
     "output_type": "stream",
     "text": [
      "Number of model responses without json: 0\n",
      "Number of model responses with incorrect formatting: 0\n",
      "\n",
      "Iteration: 5\n"
     ]
    },
    {
     "data": {
      "application/vnd.jupyter.widget-view+json": {
       "model_id": "91cc969eb1a34d2686bffb12ebeebe8f",
       "version_major": 2,
       "version_minor": 0
      },
      "text/plain": [
       "  0%|          | 0/1 [00:00<?, ?it/s]"
      ]
     },
     "metadata": {},
     "output_type": "display_data"
    },
    {
     "name": "stdout",
     "output_type": "stream",
     "text": [
      "################################################################################\n",
      "Expecting value: line 1 column 1 (char 0)\n",
      "Here is the output in JSON format:\n",
      "\n",
      "{\n",
      "  \"output\": [\n",
      "    [\"Pierre\", \"B-PER\"],\n",
      "    [\"Ismaël\", \"I-PER\"], \n",
      "    [\"Bidoung\", \"I-PER\"],\n",
      "    [\"Mkpatt\", \"I-PER\"],\n",
      "    [\"wə́\", \"O\"],\n",
      "    [\"ŋkhʉɔ́\", \"O\"],\n",
      "    [\"shûʼ\", \"O\"],\n",
      "    [\"shǎʼ\", \"O\"],\n",
      "    [\"31\", \"O\"]\n",
      "  ]\n",
      "}\n",
      "Number of model responses without json: 0\n",
      "Number of model responses with incorrect formatting: 1\n",
      "division by zero\n",
      "\n",
      "Iteration: 6\n"
     ]
    },
    {
     "data": {
      "application/vnd.jupyter.widget-view+json": {
       "model_id": "63a2579a8e5b4a5d9e4f1acf02321bba",
       "version_major": 2,
       "version_minor": 0
      },
      "text/plain": [
       "  0%|          | 0/1 [00:00<?, ?it/s]"
      ]
     },
     "metadata": {},
     "output_type": "display_data"
    },
    {
     "name": "stdout",
     "output_type": "stream",
     "text": [
      "Number of model responses without json: 0\n",
      "Number of model responses with incorrect formatting: 0\n",
      "\n",
      "Iteration: 7\n"
     ]
    },
    {
     "data": {
      "application/vnd.jupyter.widget-view+json": {
       "model_id": "a8a2461bb7d8409ea3df3db054bfe45c",
       "version_major": 2,
       "version_minor": 0
      },
      "text/plain": [
       "  0%|          | 0/1 [00:00<?, ?it/s]"
      ]
     },
     "metadata": {},
     "output_type": "display_data"
    },
    {
     "name": "stdout",
     "output_type": "stream",
     "text": [
      "Number of model responses without json: 0\n",
      "Number of model responses with incorrect formatting: 0\n",
      "\n",
      "Iteration: 8\n"
     ]
    },
    {
     "data": {
      "application/vnd.jupyter.widget-view+json": {
       "model_id": "e36007f0b34d46ba80b5ed0dabf33224",
       "version_major": 2,
       "version_minor": 0
      },
      "text/plain": [
       "  0%|          | 0/1 [00:00<?, ?it/s]"
      ]
     },
     "metadata": {},
     "output_type": "display_data"
    },
    {
     "name": "stdout",
     "output_type": "stream",
     "text": [
      "Number of model responses without json: 0\n",
      "Number of model responses with incorrect formatting: 0\n",
      "\n",
      "Iteration: 9\n"
     ]
    },
    {
     "data": {
      "application/vnd.jupyter.widget-view+json": {
       "model_id": "705b951f4ed04790be0fc01ccb3895f9",
       "version_major": 2,
       "version_minor": 0
      },
      "text/plain": [
       "  0%|          | 0/1 [00:00<?, ?it/s]"
      ]
     },
     "metadata": {},
     "output_type": "display_data"
    },
    {
     "name": "stdout",
     "output_type": "stream",
     "text": [
      "Number of model responses without json: 0\n",
      "Number of model responses with incorrect formatting: 0\n",
      "\n",
      "Iteration: 10\n"
     ]
    },
    {
     "data": {
      "application/vnd.jupyter.widget-view+json": {
       "model_id": "18da4a70f533461fa6e49d4fa65e0f21",
       "version_major": 2,
       "version_minor": 0
      },
      "text/plain": [
       "  0%|          | 0/1 [00:00<?, ?it/s]"
      ]
     },
     "metadata": {},
     "output_type": "display_data"
    },
    {
     "name": "stdout",
     "output_type": "stream",
     "text": [
      "################################################################################\n",
      "Expecting value: line 1 column 1 (char 0)\n",
      "Here is the output with named entity labels for the given Ghomala' sentence:\n",
      "\n",
      "{\n",
      "  \"output\": [\n",
      "    [\"A\", \"O\"],\n",
      "    [\"ka\", \"O\"],\n",
      "    [\"púŋ\", \"O\"],\n",
      "    [\"gaə́\", \"O\"],\n",
      "    [\"mo\", \"O\"],\n",
      "    [\"cyə́nyə́\", \"O\"],\n",
      "    [\"dzə̌\", \"O\"],\n",
      "    [\"pú\", \"O\"],\n",
      "    [\"wáp\", \"O\"],\n",
      "    [\"yɔ́\", \"O\"],\n",
      "    [\"ó\", \"O\"],\n",
      "    [\"cwəlǒ\", \"O\"],\n",
      "    [\".\", \"O\"]\n",
      "  ]\n",
      "}\n",
      "Number of model responses without json: 0\n",
      "Number of model responses with incorrect formatting: 1\n",
      "division by zero\n",
      "\n",
      "Iteration: 11\n"
     ]
    },
    {
     "data": {
      "application/vnd.jupyter.widget-view+json": {
       "model_id": "1f99d952e0e9445b8763b829f9f6e351",
       "version_major": 2,
       "version_minor": 0
      },
      "text/plain": [
       "  0%|          | 0/1 [00:00<?, ?it/s]"
      ]
     },
     "metadata": {},
     "output_type": "display_data"
    },
    {
     "name": "stdout",
     "output_type": "stream",
     "text": [
      "################################################################################\n",
      "Expecting value: line 1 column 1 (char 0)\n",
      "Here is the output with named entity labels:\n",
      "\n",
      "{\n",
      "  \"output\": [\n",
      "    [\"Ŋwâlâʼ\", \"B-DATE\"],\n",
      "    [\"nə̂ntʉɔ\", \"I-DATE\"], \n",
      "    [\"kə\", \"O\"],\n",
      "    [\"ŋwǎk\", \"O\"],\n",
      "    [\"dyə́\", \"O\"],\n",
      "    [\"gɔ́m\", \"O\"],\n",
      "    [\"páʼ\", \"O\"],\n",
      "    [\"gho\", \"O\"],\n",
      "    [\"lâʼlǎʼ\", \"O\"],\n",
      "    [\"wə́\", \"O\"],\n",
      "    [\"nə́\", \"O\"],\n",
      "    [\"bə́\", \"O\"],\n",
      "    [\"Kaməlûm\", \"B-LOC\"],\n",
      "    [\"lə\", \"O\"]\n",
      "  ]\n",
      "}\n",
      "Number of model responses without json: 0\n",
      "Number of model responses with incorrect formatting: 1\n",
      "division by zero\n",
      "\n",
      "Iteration: 12\n"
     ]
    },
    {
     "data": {
      "application/vnd.jupyter.widget-view+json": {
       "model_id": "fce579a50da64b19aa455c0902350646",
       "version_major": 2,
       "version_minor": 0
      },
      "text/plain": [
       "  0%|          | 0/1 [00:00<?, ?it/s]"
      ]
     },
     "metadata": {},
     "output_type": "display_data"
    },
    {
     "name": "stdout",
     "output_type": "stream",
     "text": [
      "Number of model responses without json: 0\n",
      "Number of model responses with incorrect formatting: 0\n",
      "\n",
      "Iteration: 13\n"
     ]
    },
    {
     "data": {
      "application/vnd.jupyter.widget-view+json": {
       "model_id": "e7a8f5c821a543b380dfda4b94f3a03e",
       "version_major": 2,
       "version_minor": 0
      },
      "text/plain": [
       "  0%|          | 0/1 [00:00<?, ?it/s]"
      ]
     },
     "metadata": {},
     "output_type": "display_data"
    },
    {
     "name": "stdout",
     "output_type": "stream",
     "text": [
      "################################################################################\n",
      "Expecting value: line 1 column 1 (char 0)\n",
      "Here is the output in JSON format:\n",
      "\n",
      "{\n",
      "  \"output\": [\n",
      "    [\"Belmondo\", \"B-PER\"],\n",
      "    [\"Arnaud\", \"I-PER\"], \n",
      "    [\"Bakousso\", \"I-PER\"],\n",
      "    [\"kə̂\", \"O\"],\n",
      "    [\"bə\", \"O\"],\n",
      "    [\"é\", \"O\"],\n",
      "    [\"ê\", \"O\"],\n",
      "    [\"dáʼ\", \"O\"],\n",
      "    [\"míŋ\", \"O\"],\n",
      "    [\"tyə́ʼdzʉ̂\", \"O\"],\n",
      "    [\"é\", \"O\"]\n",
      "  ]\n",
      "}\n",
      "Number of model responses without json: 0\n",
      "Number of model responses with incorrect formatting: 1\n",
      "division by zero\n",
      "\n",
      "Iteration: 14\n"
     ]
    },
    {
     "data": {
      "application/vnd.jupyter.widget-view+json": {
       "model_id": "efca89efa9834a9ebb72cd133733cd62",
       "version_major": 2,
       "version_minor": 0
      },
      "text/plain": [
       "  0%|          | 0/1 [00:00<?, ?it/s]"
      ]
     },
     "metadata": {},
     "output_type": "display_data"
    },
    {
     "name": "stdout",
     "output_type": "stream",
     "text": [
      "Number of model responses without json: 0\n",
      "Number of model responses with incorrect formatting: 0\n",
      "\n",
      "Iteration: 15\n"
     ]
    },
    {
     "data": {
      "application/vnd.jupyter.widget-view+json": {
       "model_id": "272230b8fb94468f8127331fbe5ce14c",
       "version_major": 2,
       "version_minor": 0
      },
      "text/plain": [
       "  0%|          | 0/1 [00:00<?, ?it/s]"
      ]
     },
     "metadata": {},
     "output_type": "display_data"
    },
    {
     "name": "stdout",
     "output_type": "stream",
     "text": [
      "################################################################################\n",
      "Expecting value: line 1 column 1 (char 0)\n",
      "Here is the output with named entity labels for the given Ghomala' sentence:\n",
      "\n",
      "{\n",
      "  \"output\": [\n",
      "    [\"A\", \"O\"],\n",
      "    [\"póo\", \"O\"],\n",
      "    [\"dá'tə\", \"O\"],\n",
      "    [\"gaə́\", \"O\"],\n",
      "    [\"mghɛzhí'tə\", \"O\"],\n",
      "    [\"dyə̂kwə̌\", \"O\"],\n",
      "    [\"gɔ\", \"O\"],\n",
      "    [\"pənyə\", \"O\"],\n",
      "    [\"zhí'tə\", \"O\"],\n",
      "    [\"2021\", \"B-DATE\"],\n",
      "    [\"/\", \"O\"],\n",
      "    [\"2022\", \"B-DATE\"],\n",
      "    [\"pəpúŋ\", \"O\"],\n",
      "    [\".\", \"O\"]\n",
      "  ]\n",
      "}\n",
      "Number of model responses without json: 0\n",
      "Number of model responses with incorrect formatting: 1\n",
      "division by zero\n",
      "\n",
      "Iteration: 16\n"
     ]
    },
    {
     "data": {
      "application/vnd.jupyter.widget-view+json": {
       "model_id": "f6c0a4087b7a40e7982504339ca333c8",
       "version_major": 2,
       "version_minor": 0
      },
      "text/plain": [
       "  0%|          | 0/1 [00:00<?, ?it/s]"
      ]
     },
     "metadata": {},
     "output_type": "display_data"
    },
    {
     "name": "stdout",
     "output_type": "stream",
     "text": [
      "Number of model responses without json: 0\n",
      "Number of model responses with incorrect formatting: 0\n",
      "\n",
      "Iteration: 17\n"
     ]
    },
    {
     "data": {
      "application/vnd.jupyter.widget-view+json": {
       "model_id": "654e693e8a804cee83aed23a75f9544f",
       "version_major": 2,
       "version_minor": 0
      },
      "text/plain": [
       "  0%|          | 0/1 [00:00<?, ?it/s]"
      ]
     },
     "metadata": {},
     "output_type": "display_data"
    },
    {
     "name": "stdout",
     "output_type": "stream",
     "text": [
      "################################################################################\n",
      "Expecting value: line 1 column 1 (char 0)\n",
      "Here is the output with named entity labels for the given Ghomala' sentence:\n",
      "\n",
      "{\n",
      "  \"output\": [\n",
      "    [\"Kəməlúm\", \"B-LOC\"],\n",
      "    [\"kam\", \"O\"],\n",
      "    [\"mkwíʼtə́\", \"O\"],\n",
      "    [\"dzə̌\", \"O\"],\n",
      "    [\"FÍFÀ\", \"B-ORG\"],\n",
      "    [\".\", \"O\"]\n",
      "  ]\n",
      "}\n",
      "Number of model responses without json: 0\n",
      "Number of model responses with incorrect formatting: 1\n",
      "division by zero\n",
      "\n",
      "Iteration: 18\n"
     ]
    },
    {
     "data": {
      "application/vnd.jupyter.widget-view+json": {
       "model_id": "caef5aa383114c5f9dc375e1d2432a94",
       "version_major": 2,
       "version_minor": 0
      },
      "text/plain": [
       "  0%|          | 0/1 [00:00<?, ?it/s]"
      ]
     },
     "metadata": {},
     "output_type": "display_data"
    },
    {
     "name": "stdout",
     "output_type": "stream",
     "text": [
      "################################################################################\n",
      "Expecting value: line 1 column 1 (char 0)\n",
      "Here is the output in JSON format:\n",
      "\n",
      "{\n",
      "  \"output\": [\n",
      "    [\"Pô\", \"O\"],\n",
      "    [\"tyə́'\", \"O\"],\n",
      "    [\"ɔ\", \"O\"],\n",
      "    [\"bó\", \"O\"],\n",
      "    [\"shə́ŋ\", \"O\"],\n",
      "    [\"gaə̂\", \"O\"],\n",
      "    [\"guŋ\", \"O\"],\n",
      "    [\"poá\", \"O\"],\n",
      "    [\"Kaməlûn\", \"B-LOC\"],\n",
      "    [\"awɛ́\", \"O\"],\n",
      "    [\"kó\", \"O\"],\n",
      "    [\"zhʉ̂m\", \"O\"],\n",
      "    [\"po\", \"O\"],\n",
      "    [\".\", \"O\"]\n",
      "  ]\n",
      "}\n",
      "Number of model responses without json: 0\n",
      "Number of model responses with incorrect formatting: 1\n",
      "division by zero\n",
      "\n",
      "Iteration: 19\n"
     ]
    },
    {
     "data": {
      "application/vnd.jupyter.widget-view+json": {
       "model_id": "1c119ebbca0f4dbca11412b68296ed84",
       "version_major": 2,
       "version_minor": 0
      },
      "text/plain": [
       "  0%|          | 0/1 [00:00<?, ?it/s]"
      ]
     },
     "metadata": {},
     "output_type": "display_data"
    },
    {
     "name": "stdout",
     "output_type": "stream",
     "text": [
      "Number of model responses without json: 0\n",
      "Number of model responses with incorrect formatting: 0\n",
      "\n",
      "Iteration: 20\n"
     ]
    },
    {
     "data": {
      "application/vnd.jupyter.widget-view+json": {
       "model_id": "dcf0ac781d944cd9b35e8447a196540b",
       "version_major": 2,
       "version_minor": 0
      },
      "text/plain": [
       "  0%|          | 0/1 [00:00<?, ?it/s]"
      ]
     },
     "metadata": {},
     "output_type": "display_data"
    },
    {
     "name": "stdout",
     "output_type": "stream",
     "text": [
      "Number of model responses without json: 0\n",
      "Number of model responses with incorrect formatting: 0\n",
      "\n",
      "Iteration: 21\n"
     ]
    },
    {
     "data": {
      "application/vnd.jupyter.widget-view+json": {
       "model_id": "871daaf0e2f9427793fd18167ce5c079",
       "version_major": 2,
       "version_minor": 0
      },
      "text/plain": [
       "  0%|          | 0/1 [00:00<?, ?it/s]"
      ]
     },
     "metadata": {},
     "output_type": "display_data"
    },
    {
     "name": "stdout",
     "output_type": "stream",
     "text": [
      "Number of model responses without json: 0\n",
      "Number of model responses with incorrect formatting: 0\n",
      "\n",
      "Iteration: 22\n"
     ]
    },
    {
     "data": {
      "application/vnd.jupyter.widget-view+json": {
       "model_id": "337f90b8a8624820a00501fd0d52afb6",
       "version_major": 2,
       "version_minor": 0
      },
      "text/plain": [
       "  0%|          | 0/1 [00:00<?, ?it/s]"
      ]
     },
     "metadata": {},
     "output_type": "display_data"
    },
    {
     "name": "stdout",
     "output_type": "stream",
     "text": [
      "Number of model responses without json: 0\n",
      "Number of model responses with incorrect formatting: 0\n",
      "\n",
      "Iteration: 23\n"
     ]
    },
    {
     "data": {
      "application/vnd.jupyter.widget-view+json": {
       "model_id": "3925a8710ecd4b5db44be6fac163780c",
       "version_major": 2,
       "version_minor": 0
      },
      "text/plain": [
       "  0%|          | 0/1 [00:00<?, ?it/s]"
      ]
     },
     "metadata": {},
     "output_type": "display_data"
    },
    {
     "name": "stdout",
     "output_type": "stream",
     "text": [
      "################################################################################\n",
      "Expecting ',' delimiter: line 10 column 8 (char 162)\n",
      "{\n",
      "  \"output\": [\n",
      "    [\"Taʼ\", \"O\"],\n",
      "    [\"moŋkuŋ\", \"O\"],\n",
      "    [\"Afred\", \"B-PER\"],\n",
      "    [\"Zang\", \"I-PER\"],\n",
      "    [\"gɔm\", \"O\"],\n",
      "    [\"gaə̂\", \"O\"],\n",
      "    [\":\", \"O\"],\n",
      "    [\"\"\"\"\"\", \"O\"],\n",
      "    [\"Gaə̂\", \"O\"],\n",
      "    [\"ŋkuŋ\", \"O\"],\n",
      "    [\"mfaʼ\", \"O\"],\n",
      "    [\"myə̂\", \"O\"],\n",
      "    [\"ba\", \"O\"],\n",
      "    [\"khʉɔ\", \"O\"],\n",
      "    [\"yə\", \"O\"],\n",
      "    [\"â\", \"O\"],\n",
      "    [\"tə́m\", \"O\"],\n",
      "    [\"ntʉ́m\", \"O\"],\n",
      "    [\"pyanyə́\", \"O\"],\n",
      "    [\"zhwop\", \"O\"],\n",
      "    [\"mslow\", \"O\"],\n",
      "    [\"myə́\", \"O\"],\n",
      "    [\"áá\", \"O\"],\n",
      "    [\".\", \"O\"],\n",
      "    [\"\"\"\"\"\", \"O\"]\n",
      "  ]\n",
      "}\n",
      "Number of model responses without json: 0\n",
      "Number of model responses with incorrect formatting: 1\n",
      "division by zero\n",
      "\n",
      "Iteration: 24\n"
     ]
    },
    {
     "data": {
      "application/vnd.jupyter.widget-view+json": {
       "model_id": "a9c9f8faa74f45ed91a9b7211327ed36",
       "version_major": 2,
       "version_minor": 0
      },
      "text/plain": [
       "  0%|          | 0/1 [00:00<?, ?it/s]"
      ]
     },
     "metadata": {},
     "output_type": "display_data"
    },
    {
     "name": "stdout",
     "output_type": "stream",
     "text": [
      "Number of model responses without json: 0\n",
      "Number of model responses with incorrect formatting: 0\n",
      "\n",
      "Iteration: 25\n"
     ]
    },
    {
     "data": {
      "application/vnd.jupyter.widget-view+json": {
       "model_id": "7fa60bc5fdd44ce6a008ed8f973f52a8",
       "version_major": 2,
       "version_minor": 0
      },
      "text/plain": [
       "  0%|          | 0/1 [00:00<?, ?it/s]"
      ]
     },
     "metadata": {},
     "output_type": "display_data"
    },
    {
     "name": "stdout",
     "output_type": "stream",
     "text": [
      "Number of model responses without json: 0\n",
      "Number of model responses with incorrect formatting: 0\n",
      "\n",
      "Iteration: 26\n"
     ]
    },
    {
     "data": {
      "application/vnd.jupyter.widget-view+json": {
       "model_id": "4ba47e9b9dd840348315af3165d8117f",
       "version_major": 2,
       "version_minor": 0
      },
      "text/plain": [
       "  0%|          | 0/1 [00:00<?, ?it/s]"
      ]
     },
     "metadata": {},
     "output_type": "display_data"
    },
    {
     "name": "stdout",
     "output_type": "stream",
     "text": [
      "Number of model responses without json: 0\n",
      "Number of model responses with incorrect formatting: 0\n",
      "\n",
      "Iteration: 27\n"
     ]
    },
    {
     "data": {
      "application/vnd.jupyter.widget-view+json": {
       "model_id": "c801591bc2324c669945f5a0d3201817",
       "version_major": 2,
       "version_minor": 0
      },
      "text/plain": [
       "  0%|          | 0/1 [00:00<?, ?it/s]"
      ]
     },
     "metadata": {},
     "output_type": "display_data"
    },
    {
     "name": "stdout",
     "output_type": "stream",
     "text": [
      "################################################################################\n",
      "Expecting value: line 1 column 1 (char 0)\n",
      "Here is the output with named entity labels for the given Ghomala' sentence:\n",
      "\n",
      "{\n",
      "  \"output\": [\n",
      "    [\"Kwípû\", \"B-DATE\"],\n",
      "    [\"dyə̂pəpəŋthə́\", \"I-DATE\"], \n",
      "    [\"lâlǎʼ\", \"O\"],\n",
      "    [\"pfʉ́\", \"O\"],\n",
      "    [\"jʉm\", \"O\"],\n",
      "    [\"páʼ\", \"O\"],\n",
      "    [\"pú\", \"O\"],\n",
      "    [\"swɔpsyap\", \"O\"],\n",
      "    [\"Kolóna\", \"B-LOC\"],\n",
      "    [\"nə́\", \"O\"],\n",
      "    [\"é\", \"O\"],\n",
      "    [\"lə\", \"O\"]\n",
      "  ]\n",
      "}\n",
      "Number of model responses without json: 0\n",
      "Number of model responses with incorrect formatting: 1\n",
      "division by zero\n",
      "\n",
      "Iteration: 28\n"
     ]
    },
    {
     "data": {
      "application/vnd.jupyter.widget-view+json": {
       "model_id": "8ed6e4f112e0456fb67520ee4cbd28f5",
       "version_major": 2,
       "version_minor": 0
      },
      "text/plain": [
       "  0%|          | 0/1 [00:00<?, ?it/s]"
      ]
     },
     "metadata": {},
     "output_type": "display_data"
    },
    {
     "name": "stdout",
     "output_type": "stream",
     "text": [
      "################################################################################\n",
      "Expecting value: line 1 column 1 (char 0)\n",
      "Here is the output with named entity labels for the given Ghomala' text:\n",
      "\n",
      "{\n",
      "  \"output\": [\n",
      "    [\"Pə́\", \"O\"],\n",
      "    [\"mkɔ\", \"O\"],\n",
      "    [\"guŋ\", \"O\"],\n",
      "    [\"Kaməlûm\", \"B-LOC\"],\n",
      "    [\"pʉ́ʼtə\", \"O\"],\n",
      "    [\"dəŋ\", \"O\"],\n",
      "    [\"Foʼ\", \"B-ORG\"],\n",
      "    [\"Sê\", \"I-ORG\"],\n",
      "    [\"Guŋ\", \"I-ORG\"],\n",
      "    [\"(\", \"O\"],\n",
      "    [\"FSG\", \"B-ORG\"], \n",
      "    [\")\", \"O\"],\n",
      "    [\"yɔ́kpə\", \"O\"],\n",
      "    [\"bə́yə\", \"O\"],\n",
      "    [\"pú\", \"O\"],\n",
      "    [\"tɔ́m\", \"O\"],\n",
      "    [\"nwə\", \"O\"],\n",
      "    [\"nə́\", \"O\"],\n",
      "    [\"a\", \"O\"],\n",
      "    [\"pûŋ\", \"O\"],\n",
      "    [\"áá\", \"O\"]\n",
      "  ]\n",
      "}\n",
      "Number of model responses without json: 0\n",
      "Number of model responses with incorrect formatting: 1\n",
      "division by zero\n",
      "\n",
      "Iteration: 29\n"
     ]
    },
    {
     "data": {
      "application/vnd.jupyter.widget-view+json": {
       "model_id": "00e024678437473088738207cea361d1",
       "version_major": 2,
       "version_minor": 0
      },
      "text/plain": [
       "  0%|          | 0/1 [00:00<?, ?it/s]"
      ]
     },
     "metadata": {},
     "output_type": "display_data"
    },
    {
     "name": "stdout",
     "output_type": "stream",
     "text": [
      "Number of model responses without json: 0\n",
      "Number of model responses with incorrect formatting: 0\n",
      "\n",
      "Iteration: 30\n"
     ]
    },
    {
     "data": {
      "application/vnd.jupyter.widget-view+json": {
       "model_id": "a725fbee219e4655bf20ad1c4a778e07",
       "version_major": 2,
       "version_minor": 0
      },
      "text/plain": [
       "  0%|          | 0/1 [00:00<?, ?it/s]"
      ]
     },
     "metadata": {},
     "output_type": "display_data"
    },
    {
     "name": "stdout",
     "output_type": "stream",
     "text": [
      "################################################################################\n",
      "Expecting value: line 1 column 1 (char 0)\n",
      "Here is the output with named entity labels for the given Ghomala' text:\n",
      "\n",
      "{\n",
      "  \"output\": [\n",
      "    [\"A\", \"O\"],\n",
      "    [\"lə\", \"O\"],\n",
      "    [\"pə̌\", \"O\"],\n",
      "    [\"nə́\", \"O\"],\n",
      "    [\"Dzʉ̂ʼmkǒ\", \"B-DATE\"],\n",
      "    [\"2014\", \"I-DATE\"],\n",
      "    [\"VSS\", \"B-ORG\"],\n",
      "    [\"Tsʉfaʼ\", \"I-ORG\"],\n",
      "    [\"gwyə́\", \"O\"],\n",
      "    [\"lû\", \"O\"],\n",
      "    [\"Yɔ̌\", \"B-LOC\"],\n",
      "    [\"tamʉ́mfɔ́k\", \"O\"],\n",
      "    [\"Mojave\", \"B-LOC\"],\n",
      "    [\"nə́\", \"O\"],\n",
      "    [\"batə\", \"O\"],\n",
      "    [\"55\", \"O\"],\n",
      "    [\"cʉ̌m\", \"O\"],\n",
      "    [\"nə́\", \"O\"],\n",
      "    [\"nə́\", \"O\"],\n",
      "    [\"foʼ\", \"O\"],\n",
      "    [\"nə́\", \"O\"],\n",
      "    [\"tà\", \"O\"],\n",
      "    [\".\", \"O\"]\n",
      "  ]\n",
      "}\n",
      "Number of model responses without json: 0\n",
      "Number of model responses with incorrect formatting: 1\n",
      "division by zero\n",
      "\n",
      "Iteration: 31\n"
     ]
    },
    {
     "data": {
      "application/vnd.jupyter.widget-view+json": {
       "model_id": "d0c7bf226cfb4d0d964904b5e4d9f530",
       "version_major": 2,
       "version_minor": 0
      },
      "text/plain": [
       "  0%|          | 0/1 [00:00<?, ?it/s]"
      ]
     },
     "metadata": {},
     "output_type": "display_data"
    },
    {
     "name": "stdout",
     "output_type": "stream",
     "text": [
      "Number of model responses without json: 0\n",
      "Number of model responses with incorrect formatting: 0\n",
      "\n",
      "Iteration: 32\n"
     ]
    },
    {
     "data": {
      "application/vnd.jupyter.widget-view+json": {
       "model_id": "d92d9732dd8c406a911e42abeae42da2",
       "version_major": 2,
       "version_minor": 0
      },
      "text/plain": [
       "  0%|          | 0/1 [00:00<?, ?it/s]"
      ]
     },
     "metadata": {},
     "output_type": "display_data"
    },
    {
     "name": "stdout",
     "output_type": "stream",
     "text": [
      "Number of model responses without json: 0\n",
      "Number of model responses with incorrect formatting: 0\n",
      "\n",
      "Iteration: 33\n"
     ]
    },
    {
     "data": {
      "application/vnd.jupyter.widget-view+json": {
       "model_id": "cec4c2a575b14123bd3f7ca460a76ad1",
       "version_major": 2,
       "version_minor": 0
      },
      "text/plain": [
       "  0%|          | 0/1 [00:00<?, ?it/s]"
      ]
     },
     "metadata": {},
     "output_type": "display_data"
    },
    {
     "name": "stdout",
     "output_type": "stream",
     "text": [
      "Number of model responses without json: 0\n",
      "Number of model responses with incorrect formatting: 0\n",
      "\n",
      "Iteration: 34\n"
     ]
    },
    {
     "data": {
      "application/vnd.jupyter.widget-view+json": {
       "model_id": "5eb59a925ffc44e59333a05e8e60a6cd",
       "version_major": 2,
       "version_minor": 0
      },
      "text/plain": [
       "  0%|          | 0/1 [00:00<?, ?it/s]"
      ]
     },
     "metadata": {},
     "output_type": "display_data"
    },
    {
     "name": "stdout",
     "output_type": "stream",
     "text": [
      "################################################################################\n",
      "Expecting ',' delimiter: line 3 column 8 (char 23)\n",
      "{\n",
      "  \"output\": [\n",
      "    [\"\"\"\"\"\", \"O\"],\n",
      "    [\"A\", \"O\"],\n",
      "    [\"tə́\", \"O\"],\n",
      "    [\"bə́\", \"O\"],\n",
      "    [\"pəaŋglofɔ̂nə\", \"O\"],\n",
      "    [\"pə́\", \"O\"],\n",
      "    [\"â\", \"O\"],\n",
      "    [\"bə́\", \"O\"],\n",
      "    [\"pəkamshu\", \"O\"],\n",
      "    [\"fə́\", \"O\"],\n",
      "    [\"m\", \"O\"],\n",
      "    [\"Nizhélyà\", \"B-LOC\"],\n",
      "    [\"\"\"\"\"\", \"O\"],\n",
      "    [\"Vizyɔ́ŋ4\", \"O\"],\n",
      "    [\"\"\"\"\"\", \"O\"],\n",
      "    [\"Pɔ\", \"O\"],\n",
      "    [\"shǎʼ\", \"O\"],\n",
      "    [\"pyə\", \"O\"],\n",
      "    [\"wáp\", \"O\"],\n",
      "    [\"pfʉ́\", \"O\"],\n",
      "    [\"á\", \"O\"],\n",
      "    [\"tə\", \"O\"],\n",
      "    [\"sɔmywə́\", \"O\"],\n",
      "    [\"pə́\", \"O\"],\n",
      "    [\"\"\"\"\"\", \"O\"]\n",
      "  ]\n",
      "}\n",
      "Number of model responses without json: 0\n",
      "Number of model responses with incorrect formatting: 1\n",
      "division by zero\n",
      "\n",
      "Iteration: 35\n"
     ]
    },
    {
     "data": {
      "application/vnd.jupyter.widget-view+json": {
       "model_id": "14cade5272f84137a00b2cbcee1b759d",
       "version_major": 2,
       "version_minor": 0
      },
      "text/plain": [
       "  0%|          | 0/1 [00:00<?, ?it/s]"
      ]
     },
     "metadata": {},
     "output_type": "display_data"
    },
    {
     "name": "stdout",
     "output_type": "stream",
     "text": [
      "Number of model responses without json: 0\n",
      "Number of model responses with incorrect formatting: 0\n",
      "\n",
      "Iteration: 36\n"
     ]
    },
    {
     "data": {
      "application/vnd.jupyter.widget-view+json": {
       "model_id": "e6d5062c22b946f1b48b984a4c4604c8",
       "version_major": 2,
       "version_minor": 0
      },
      "text/plain": [
       "  0%|          | 0/1 [00:00<?, ?it/s]"
      ]
     },
     "metadata": {},
     "output_type": "display_data"
    },
    {
     "name": "stdout",
     "output_type": "stream",
     "text": [
      "Number of model responses without json: 0\n",
      "Number of model responses with incorrect formatting: 0\n",
      "\n",
      "Iteration: 37\n"
     ]
    },
    {
     "data": {
      "application/vnd.jupyter.widget-view+json": {
       "model_id": "cf827092d8ab4915ac7bc9ed0e4c4cf8",
       "version_major": 2,
       "version_minor": 0
      },
      "text/plain": [
       "  0%|          | 0/1 [00:00<?, ?it/s]"
      ]
     },
     "metadata": {},
     "output_type": "display_data"
    },
    {
     "name": "stdout",
     "output_type": "stream",
     "text": [
      "Number of model responses without json: 0\n",
      "Number of model responses with incorrect formatting: 0\n",
      "\n",
      "Iteration: 38\n"
     ]
    },
    {
     "data": {
      "application/vnd.jupyter.widget-view+json": {
       "model_id": "8172223a9a144aa899917f60a6a11675",
       "version_major": 2,
       "version_minor": 0
      },
      "text/plain": [
       "  0%|          | 0/1 [00:00<?, ?it/s]"
      ]
     },
     "metadata": {},
     "output_type": "display_data"
    },
    {
     "name": "stdout",
     "output_type": "stream",
     "text": [
      "Number of model responses without json: 0\n",
      "Number of model responses with incorrect formatting: 0\n",
      "\n",
      "Iteration: 39\n"
     ]
    },
    {
     "data": {
      "application/vnd.jupyter.widget-view+json": {
       "model_id": "15bb28466ea54d5f95ac4ebed2253be8",
       "version_major": 2,
       "version_minor": 0
      },
      "text/plain": [
       "  0%|          | 0/1 [00:00<?, ?it/s]"
      ]
     },
     "metadata": {},
     "output_type": "display_data"
    },
    {
     "name": "stdout",
     "output_type": "stream",
     "text": [
      "Number of model responses without json: 0\n",
      "Number of model responses with incorrect formatting: 0\n",
      "\n",
      "Iteration: 40\n"
     ]
    },
    {
     "data": {
      "application/vnd.jupyter.widget-view+json": {
       "model_id": "86fe3103084948f1bb0d8ad9dfd5fe2c",
       "version_major": 2,
       "version_minor": 0
      },
      "text/plain": [
       "  0%|          | 0/1 [00:00<?, ?it/s]"
      ]
     },
     "metadata": {},
     "output_type": "display_data"
    },
    {
     "name": "stdout",
     "output_type": "stream",
     "text": [
      "Number of model responses without json: 0\n",
      "Number of model responses with incorrect formatting: 0\n",
      "\n",
      "Iteration: 41\n"
     ]
    },
    {
     "data": {
      "application/vnd.jupyter.widget-view+json": {
       "model_id": "b89d2e55e37f4844bf1fd008b117b139",
       "version_major": 2,
       "version_minor": 0
      },
      "text/plain": [
       "  0%|          | 0/1 [00:00<?, ?it/s]"
      ]
     },
     "metadata": {},
     "output_type": "display_data"
    },
    {
     "name": "stdout",
     "output_type": "stream",
     "text": [
      "Number of model responses without json: 0\n",
      "Number of model responses with incorrect formatting: 0\n",
      "\n",
      "Iteration: 42\n"
     ]
    },
    {
     "data": {
      "application/vnd.jupyter.widget-view+json": {
       "model_id": "fd6bb30ef92549c3b5b4a4ae3e149cd4",
       "version_major": 2,
       "version_minor": 0
      },
      "text/plain": [
       "  0%|          | 0/1 [00:00<?, ?it/s]"
      ]
     },
     "metadata": {},
     "output_type": "display_data"
    },
    {
     "name": "stdout",
     "output_type": "stream",
     "text": [
      "Number of model responses without json: 0\n",
      "Number of model responses with incorrect formatting: 0\n",
      "\n",
      "Iteration: 43\n"
     ]
    },
    {
     "data": {
      "application/vnd.jupyter.widget-view+json": {
       "model_id": "7561f214810a4137b99abe96936fa55c",
       "version_major": 2,
       "version_minor": 0
      },
      "text/plain": [
       "  0%|          | 0/1 [00:00<?, ?it/s]"
      ]
     },
     "metadata": {},
     "output_type": "display_data"
    },
    {
     "name": "stdout",
     "output_type": "stream",
     "text": [
      "################################################################################\n",
      "Expecting value: line 1 column 1 (char 0)\n",
      "Here is the output with named entity labels for the given Ghomala' sentence:\n",
      "\n",
      "{\n",
      "  \"output\": [\n",
      "    [\"Pə\", \"O\"],\n",
      "    [\"pútə̀\", \"O\"],\n",
      "    [\"lə̂\", \"O\"],\n",
      "    [\"bə́\", \"O\"],\n",
      "    [\"mə́ku'guŋ\", \"O\"],\n",
      "    [\"lâ'lǎ'\", \"O\"],\n",
      "    [\"Edjisna\", \"B-PER\"],\n",
      "    [\"Didier\", \"I-PER\"],\n",
      "    [\".\", \"O\"]\n",
      "  ]\n",
      "}\n",
      "Number of model responses without json: 0\n",
      "Number of model responses with incorrect formatting: 1\n",
      "division by zero\n",
      "\n",
      "Iteration: 44\n"
     ]
    },
    {
     "data": {
      "application/vnd.jupyter.widget-view+json": {
       "model_id": "c0679d94ac34474db15e9233d94f1ca1",
       "version_major": 2,
       "version_minor": 0
      },
      "text/plain": [
       "  0%|          | 0/1 [00:00<?, ?it/s]"
      ]
     },
     "metadata": {},
     "output_type": "display_data"
    },
    {
     "name": "stdout",
     "output_type": "stream",
     "text": [
      "Number of model responses without json: 0\n",
      "Number of model responses with incorrect formatting: 0\n",
      "\n",
      "Iteration: 45\n"
     ]
    },
    {
     "data": {
      "application/vnd.jupyter.widget-view+json": {
       "model_id": "8c77c8d40b93409cacb3d30521d29864",
       "version_major": 2,
       "version_minor": 0
      },
      "text/plain": [
       "  0%|          | 0/1 [00:00<?, ?it/s]"
      ]
     },
     "metadata": {},
     "output_type": "display_data"
    },
    {
     "name": "stdout",
     "output_type": "stream",
     "text": [
      "Number of model responses without json: 0\n",
      "Number of model responses with incorrect formatting: 0\n",
      "\n",
      "Iteration: 46\n"
     ]
    },
    {
     "data": {
      "application/vnd.jupyter.widget-view+json": {
       "model_id": "eccf7aebf57c4c16a1700e5971e61fa2",
       "version_major": 2,
       "version_minor": 0
      },
      "text/plain": [
       "  0%|          | 0/1 [00:00<?, ?it/s]"
      ]
     },
     "metadata": {},
     "output_type": "display_data"
    },
    {
     "name": "stdout",
     "output_type": "stream",
     "text": [
      "Number of model responses without json: 0\n",
      "Number of model responses with incorrect formatting: 0\n",
      "\n",
      "Iteration: 47\n"
     ]
    },
    {
     "data": {
      "application/vnd.jupyter.widget-view+json": {
       "model_id": "7ed3c9ab044643f1b39159ae8032f505",
       "version_major": 2,
       "version_minor": 0
      },
      "text/plain": [
       "  0%|          | 0/1 [00:00<?, ?it/s]"
      ]
     },
     "metadata": {},
     "output_type": "display_data"
    },
    {
     "name": "stdout",
     "output_type": "stream",
     "text": [
      "Number of model responses without json: 0\n",
      "Number of model responses with incorrect formatting: 0\n",
      "\n",
      "Iteration: 48\n"
     ]
    },
    {
     "data": {
      "application/vnd.jupyter.widget-view+json": {
       "model_id": "4e2caf5f4bec46b88d25635985339753",
       "version_major": 2,
       "version_minor": 0
      },
      "text/plain": [
       "  0%|          | 0/1 [00:00<?, ?it/s]"
      ]
     },
     "metadata": {},
     "output_type": "display_data"
    },
    {
     "name": "stdout",
     "output_type": "stream",
     "text": [
      "Number of model responses without json: 0\n",
      "Number of model responses with incorrect formatting: 0\n",
      "\n",
      "Iteration: 49\n"
     ]
    },
    {
     "data": {
      "application/vnd.jupyter.widget-view+json": {
       "model_id": "1e14cbde360740a096eceea2a9c34b8c",
       "version_major": 2,
       "version_minor": 0
      },
      "text/plain": [
       "  0%|          | 0/1 [00:00<?, ?it/s]"
      ]
     },
     "metadata": {},
     "output_type": "display_data"
    },
    {
     "name": "stdout",
     "output_type": "stream",
     "text": [
      "################################################################################\n",
      "Expecting value: line 1 column 1 (char 0)\n",
      "Here is the output with named entity labels:\n",
      "\n",
      "{\n",
      "  \"output\": [\n",
      "    [\"Pə\", \"O\"],\n",
      "    [\"sê\", \"O\"],\n",
      "    [\"mkò\", \"O\"],\n",
      "    [\"zhyə̂nə́\", \"O\"],\n",
      "    [\"nə́\", \"O\"],\n",
      "    [\"kə̂\", \"O\"],\n",
      "    [\"nyaptə\", \"O\"],\n",
      "    [\"kɔŋsɛr\", \"O\"],\n",
      "    [\"valséro\", \"B-LOC\"],\n",
      "    [\"Zenith\", \"I-LOC\"]\n",
      "  ]\n",
      "}\n",
      "Number of model responses without json: 0\n",
      "Number of model responses with incorrect formatting: 1\n",
      "division by zero\n",
      "Execution time:  657.0894539356232 s\n"
     ]
    }
   ],
   "source": [
    "for LANGUAGE in target_languages:\n",
    "    language_name = config['languages_names'][LANGUAGE]\n",
    "    print(\"Language:\",language_name)\n",
    "    # Loading dataset from HuggingFace\n",
    "    data = load_dataset(config['dataset'], LANGUAGE)\n",
    "    sampled_subset = sample_for_model_selection(data, label_mapping, n_samples=SAMPLE_SIZE, verbose=True)\n",
    "    sampled_subset\n",
    "    ask_gpt_params = {\n",
    "        'language': language_name,\n",
    "        'examples': add_annotation_examples(ANNOTATION_EXAMPLES_PATH, language_name),\n",
    "        'client': client,\n",
    "        'user_prompt': MAIN_PROMPT,\n",
    "        'model': foundaiton_model ,\n",
    "        'temperature': 0.1\n",
    "    }\n",
    "    gpt_annotations = {}\n",
    "    consistency_scores = []\n",
    "\n",
    "    # Measure how much time it takes to get all inferences\n",
    "    start = time.time()\n",
    "\n",
    "\n",
    "    for i, record in enumerate(sampled_subset):\n",
    "        print(f'\\nIteration: {i}')\n",
    "        try: \n",
    "            # Extract ground truth\n",
    "            ground_truth_labels = [label_mapping[t] for t in record['ner_tags']]\n",
    "            \n",
    "            # Extract tokens from current record\n",
    "            ask_gpt_params['tokens'] = record['tokens']\n",
    "            # Query the model\n",
    "            new_labels_gpt4 = repeat_annotation(n_repeat=REPEAT_ANNOTATION, **ask_gpt_params)\n",
    "            # Save annotations\n",
    "            gpt_annotations[f'record_{i}'] = {}\n",
    "            gpt_annotations[f'record_{i}']['pred'] = new_labels_gpt4\n",
    "            gpt_annotations[f'record_{i}']['true'] = ground_truth_labels\n",
    "            gpt_annotations[f'record_{i}']['tokens'] = record['tokens']\n",
    "            \n",
    "            # Calculate consistency score\n",
    "            consistency = calculate_consistency_score(new_labels_gpt4, ground_truth_labels)\n",
    "            gpt_annotations[f'record_{i}']['consistency'] = consistency\n",
    "            consistency_scores.append(consistency)\n",
    "            \n",
    "        except Exception as e:\n",
    "            print(e)\n",
    "            continue\n",
    "\n",
    "    # Overall consistency is calculated by averaging individual scores\n",
    "    gpt_annotations['overall_consistency'] = np.mean(consistency_scores)\n",
    "\n",
    "    end = time.time()\n",
    "    print('Execution time: ', end - start, 's')\n",
    "    with open(os.path.join(RESULTS_PATH, f'{LANGUAGE}.json'), 'w') as file:\n",
    "        json.dump(gpt_annotations, file, indent=4)\n"
   ]
  }
 ],
 "metadata": {
  "kernelspec": {
   "display_name": "Python 3",
   "language": "python",
   "name": "python3"
  },
  "language_info": {
   "codemirror_mode": {
    "name": "ipython",
    "version": 3
   },
   "file_extension": ".py",
   "mimetype": "text/x-python",
   "name": "python",
   "nbconvert_exporter": "python",
   "pygments_lexer": "ipython3",
   "version": "3.11.5"
  }
 },
 "nbformat": 4,
 "nbformat_minor": 5
}
