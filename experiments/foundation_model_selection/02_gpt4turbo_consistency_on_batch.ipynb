{
 "cells": [
  {
   "cell_type": "markdown",
   "id": "a82c87367cd70bae",
   "metadata": {
    "collapsed": false
   },
   "source": [
    "### Setup & Initialization"
   ]
  },
  {
   "cell_type": "code",
   "execution_count": 1,
   "id": "556b5cff764f1fb6",
   "metadata": {
    "ExecuteTime": {
     "end_time": "2024-03-12T22:06:34.895532Z",
     "start_time": "2024-03-12T22:06:34.006706Z"
    },
    "collapsed": false
   },
   "outputs": [],
   "source": [
    "import re\n",
    "import os\n",
    "import sys\n",
    "import ast\n",
    "import yaml\n",
    "import json\n",
    "import time\n",
    "import datetime\n",
    "\n",
    "import numpy as np\n",
    "from getpass import getpass\n",
    "from tqdm.notebook import tqdm\n",
    "from datasets import load_dataset\n",
    "from contextlib import contextmanager\n",
    "\n",
    "from openai import OpenAI, APIStatusError, RateLimitError, APIConnectionError"
   ]
  },
  {
   "cell_type": "code",
   "execution_count": 2,
   "id": "b1421b033bd3e9c1",
   "metadata": {
    "ExecuteTime": {
     "end_time": "2024-03-12T22:06:34.923342Z",
     "start_time": "2024-03-12T22:06:34.920553Z"
    },
    "collapsed": false
   },
   "outputs": [],
   "source": [
    "SAMPLE_SIZE = 50\n",
    "REPEAT_ANNOTATION = 10"
   ]
  },
  {
   "cell_type": "code",
   "execution_count": 3,
   "id": "eaf1762ae7983e36",
   "metadata": {
    "ExecuteTime": {
     "end_time": "2024-03-12T22:06:34.929804Z",
     "start_time": "2024-03-12T22:06:34.925845Z"
    },
    "collapsed": false
   },
   "outputs": [],
   "source": [
    "# Specifying path to the necessary files and folders\n",
    "PATH_TO_SRC = os.path.abspath('../../../')\n",
    "\n",
    "# Where to get annotation examples for the prompt\n",
    "ANNOTATION_EXAMPLES_PATH = os.path.join(PATH_TO_SRC, 'src/query/ner_examples_all_languages_for_batch.json')\n",
    "CONFIG_PATH = os.path.join(PATH_TO_SRC, \"settings/config.yml\")\n",
    "# Folder to save annotations\n",
    "RESULTS_PATH = os.path.join(PATH_TO_SRC, 'data/foundation_model_selection/gpt_4_turbo_batch_size_2')"
   ]
  },
  {
   "cell_type": "code",
   "execution_count": 4,
   "id": "fe74700731e1e661",
   "metadata": {
    "ExecuteTime": {
     "end_time": "2024-03-12T22:06:34.935477Z",
     "start_time": "2024-03-12T22:06:34.931334Z"
    },
    "collapsed": false
   },
   "outputs": [],
   "source": [
    "@contextmanager\n",
    "def extend_sys_path(path):\n",
    "    if path not in sys.path:\n",
    "        # Append the path to sys.path\n",
    "        sys.path.append(path)\n",
    "    try:\n",
    "        # Execute code inside the 'with' statement\n",
    "        yield\n",
    "    finally:\n",
    "        # Remove the path from sys.path\n",
    "        if path in sys.path:\n",
    "            sys.path.remove(path)"
   ]
  },
  {
   "cell_type": "code",
   "execution_count": 5,
   "id": "4a8c61c1ee320d16",
   "metadata": {
    "ExecuteTime": {
     "end_time": "2024-03-12T22:06:37.200563Z",
     "start_time": "2024-03-12T22:06:34.937017Z"
    },
    "collapsed": false
   },
   "outputs": [],
   "source": [
    "# Temporarily add module_path and import functions\n",
    "with extend_sys_path(PATH_TO_SRC):\n",
    "    from src.data.sample import sample_for_model_selection\n",
    "    from src.query.query_gpt import add_annotation_examples_for_batch\n",
    "    from src.query.prompts import MAIN_PROMPT_FOR_BATCH\n",
    "    from src.utils.utils import calculate_consistency_score, get_api_usage"
   ]
  },
  {
   "cell_type": "code",
   "execution_count": 6,
   "id": "c760eb6c",
   "metadata": {
    "ExecuteTime": {
     "end_time": "2024-03-12T22:06:43.067568Z",
     "start_time": "2024-03-12T22:06:37.202050Z"
    }
   },
   "outputs": [],
   "source": [
    "# Init openai client\n",
    "openai_client = OpenAI(api_key=getpass(\"OPENAI API key:\"))"
   ]
  },
  {
   "cell_type": "code",
   "execution_count": 8,
   "id": "2e2d974f088fb0ca",
   "metadata": {
    "ExecuteTime": {
     "end_time": "2024-03-12T22:06:47.077022Z",
     "start_time": "2024-03-12T22:06:47.060391Z"
    },
    "collapsed": false
   },
   "outputs": [],
   "source": [
    "# Reading config file\n",
    "config = yaml.safe_load(open(os.path.join(PATH_TO_SRC, \"settings/config.yml\")))\n",
    "\n",
    "# Load indx-to-label_name mapping\n",
    "label_mapping = config['label_mapping']"
   ]
  },
  {
   "cell_type": "markdown",
   "id": "8dd033762153f338",
   "metadata": {
    "collapsed": false
   },
   "source": [
    "### Utils"
   ]
  },
  {
   "cell_type": "code",
   "execution_count": 9,
   "id": "5e1a6244de9b9133",
   "metadata": {
    "ExecuteTime": {
     "end_time": "2024-03-12T22:06:47.088259Z",
     "start_time": "2024-03-12T22:06:47.080770Z"
    },
    "collapsed": false
   },
   "outputs": [],
   "source": [
    "def ask_gpt_short(tokens, language, examples, openai_client,\n",
    "                  user_prompt, temperature, model,\n",
    "                  system_prompt=None, max_tokens=1000):\n",
    "    \n",
    "    inputs = str(tokens)\n",
    "\n",
    "    if system_prompt is None:\n",
    "        system_prompt = f\"You are a named entity labelling expert in {language} language.\"\n",
    "\n",
    "    # Format user prompt\n",
    "    user_prompt = user_prompt.format(language=language, inputs=inputs, examples=examples)\n",
    "\n",
    "    # Save query params\n",
    "    query_params = {\n",
    "        'model': model,\n",
    "        'temperature': temperature,\n",
    "        'messages': [{\"role\": \"system\", \"content\": system_prompt},\n",
    "                     {\"role\": \"user\", \"content\": user_prompt}],\n",
    "        'max_tokens': max_tokens,\n",
    "    }\n",
    "\n",
    "    if model == 'gpt-4-1106-preview' or model == 'gpt-4-0125-preview':  \n",
    "        query_params['response_format'] = {\"type\": \"json_object\"}\n",
    "\n",
    "    try:\n",
    "        # Query the model\n",
    "        response = openai_client.chat.completions.create(**query_params)\n",
    "        # Extract model answer\n",
    "        answer = response.choices[0].message.content\n",
    "        return answer\n",
    "\n",
    "    except APIConnectionError as e:\n",
    "        raise Exception(f\"The server could not be reached: {e.__cause__}\")\n",
    "    except RateLimitError as e:\n",
    "        raise Exception(f\"A 429 status code was received: {e}\")\n",
    "    except APIStatusError as e:\n",
    "        raise Exception(f\"Non-200-range status code received: {e.status_code}, {e.response}\")\n"
   ]
  },
  {
   "cell_type": "code",
   "execution_count": 1,
   "id": "3baa85d12cd70e0e",
   "metadata": {
    "ExecuteTime": {
     "end_time": "2024-03-13T19:43:59.161955Z",
     "start_time": "2024-03-13T19:43:59.150174Z"
    },
    "collapsed": false
   },
   "outputs": [],
   "source": [
    "def repeat_annotation(n_repeat=10, **ask_gpt_kwargs):\n",
    "    # Counters\n",
    "    no_json_counter = 0  # No json was provided by the model\n",
    "    incorrect_format_counter = 0  # Number of records parsed in the incorrect format \n",
    "\n",
    "    # Results\n",
    "    ner_tokens_dict = {}\n",
    "    ner_tokens_dict['record_0'] = []\n",
    "    ner_tokens_dict['record_1'] = []\n",
    "\n",
    "    for i in tqdm(range(n_repeat)):\n",
    "        # Send request to a model\n",
    "        model_response = ask_gpt_short(**ask_gpt_kwargs)\n",
    "\n",
    "        # Newer models provide json\n",
    "        try:\n",
    "            outputs = json.loads(model_response)['output']\n",
    "            ner_tokens_dict['record_0'].append(outputs['record_0'])\n",
    "            ner_tokens_dict['record_1'].append(outputs['record_1'])\n",
    "        except Exception as e:\n",
    "            print('#'*80)\n",
    "            print(e)\n",
    "            print(model_response)\n",
    "            incorrect_format_counter += 1\n",
    "            continue\n",
    "\n",
    "    print(f'Number of model responses without json: {no_json_counter}')\n",
    "    print(f'Number of model responses with incorrect formatting: {incorrect_format_counter}')\n",
    "    return ner_tokens_dict"
   ]
  },
  {
   "cell_type": "markdown",
   "id": "4c4fda68aff9f169",
   "metadata": {
    "collapsed": false
   },
   "source": [
    "### Querying (zul)"
   ]
  },
  {
   "cell_type": "code",
   "execution_count": 11,
   "id": "6895a55c888052dd",
   "metadata": {
    "ExecuteTime": {
     "end_time": "2024-03-12T22:06:47.104800Z",
     "start_time": "2024-03-12T22:06:47.097223Z"
    },
    "collapsed": false
   },
   "outputs": [
    {
     "data": {
      "text/plain": [
       "'Zulu'"
      ]
     },
     "execution_count": 11,
     "metadata": {},
     "output_type": "execute_result"
    }
   ],
   "source": [
    "LANGUAGE = 'zul'\n",
    "\n",
    "language_name = config['languages_names'][LANGUAGE]\n",
    "language_name"
   ]
  },
  {
   "cell_type": "code",
   "execution_count": 12,
   "id": "57efec4f26488052",
   "metadata": {
    "ExecuteTime": {
     "end_time": "2024-03-12T22:06:48.937079Z",
     "start_time": "2024-03-12T22:06:47.106213Z"
    },
    "collapsed": false
   },
   "outputs": [
    {
     "data": {
      "application/vnd.jupyter.widget-view+json": {
       "model_id": "340857eb5d5d41b3ae9e171633b2457f",
       "version_major": 2,
       "version_minor": 0
      },
      "text/plain": [
       "  0%|          | 0/3 [00:00<?, ?it/s]"
      ]
     },
     "metadata": {},
     "output_type": "display_data"
    }
   ],
   "source": [
    "# Loading dataset from HuggingFace\n",
    "data = load_dataset(config['dataset'], LANGUAGE)"
   ]
  },
  {
   "cell_type": "code",
   "execution_count": 13,
   "id": "7426c585204a23c",
   "metadata": {
    "ExecuteTime": {
     "end_time": "2024-03-12T22:06:50.342951Z",
     "start_time": "2024-03-12T22:06:48.939017Z"
    },
    "collapsed": false
   },
   "outputs": [
    {
     "data": {
      "image/png": "[encoded data removed]",
      "text/plain": [
       "<Figure size 600x400 with 1 Axes>"
      ]
     },
     "metadata": {},
     "output_type": "display_data"
    },
    {
     "data": {
      "image/png": "[encoded data removed]",
      "text/plain": [
       "<Figure size 600x300 with 1 Axes>"
      ]
     },
     "metadata": {},
     "output_type": "display_data"
    },
    {
     "data": {
      "image/png": "[encoded data removed]",
      "text/plain": [
       "<Figure size 600x400 with 1 Axes>"
      ]
     },
     "metadata": {},
     "output_type": "display_data"
    },
    {
     "data": {
      "image/png": "[encoded data removed]",
      "text/plain": [
       "<Figure size 600x400 with 1 Axes>"
      ]
     },
     "metadata": {},
     "output_type": "display_data"
    },
    {
     "data": {
      "image/png": "[encoded data removed]",
      "text/plain": [
       "<Figure size 1600x600 with 2 Axes>"
      ]
     },
     "metadata": {},
     "output_type": "display_data"
    },
    {
     "data": {
      "text/plain": [
       "Dataset({\n",
       "    features: ['id', 'tokens', 'ner_tags', 'entity_count', 'num_labels', '% of entities'],\n",
       "    num_rows: 50\n",
       "})"
      ]
     },
     "execution_count": 13,
     "metadata": {},
     "output_type": "execute_result"
    }
   ],
   "source": [
    "sampled_subset = sample_for_model_selection(data, label_mapping, n_samples=SAMPLE_SIZE, verbose=True)\n",
    "sampled_subset"
   ]
  },
  {
   "cell_type": "code",
   "execution_count": 14,
   "id": "b8eec295929973e3",
   "metadata": {
    "ExecuteTime": {
     "end_time": "2024-03-12T22:06:50.349118Z",
     "start_time": "2024-03-12T22:06:50.344539Z"
    },
    "collapsed": false
   },
   "outputs": [],
   "source": [
    "ask_gpt_params = {\n",
    "    'language': language_name,\n",
    "    'examples': add_annotation_examples_for_batch(ANNOTATION_EXAMPLES_PATH, language_name),\n",
    "    'openai_client': openai_client,\n",
    "    'user_prompt': MAIN_PROMPT_FOR_BATCH,\n",
    "    'model': 'gpt-4-0125-preview', \n",
    "    'temperature': config['foundation_model']['temperature']\n",
    "}"
   ]
  },
  {
   "cell_type": "code",
   "execution_count": 15,
   "id": "62d19188",
   "metadata": {
    "ExecuteTime": {
     "end_time": "2024-03-12T22:06:50.354146Z",
     "start_time": "2024-03-12T22:06:50.350205Z"
    }
   },
   "outputs": [
    {
     "data": {
      "text/plain": [
       "0.1"
      ]
     },
     "execution_count": 15,
     "metadata": {},
     "output_type": "execute_result"
    }
   ],
   "source": [
    "ask_gpt_params['temperature']"
   ]
  },
  {
   "cell_type": "code",
   "execution_count": 16,
   "id": "e1a4694ef68d47e0",
   "metadata": {
    "ExecuteTime": {
     "end_time": "2024-03-12T23:08:34.331593Z",
     "start_time": "2024-03-12T22:06:50.355546Z"
    },
    "collapsed": false
   },
   "outputs": [
    {
     "name": "stdout",
     "output_type": "stream",
     "text": [
      "\n",
      "Sample 1 and 2:\n"
     ]
    },
    {
     "data": {
      "application/vnd.jupyter.widget-view+json": {
       "model_id": "97e63060e1c7471980264db86876712b",
       "version_major": 2,
       "version_minor": 0
      },
      "text/plain": [
       "  0%|          | 0/10 [00:00<?, ?it/s]"
      ]
     },
     "metadata": {},
     "output_type": "display_data"
    },
    {
     "name": "stdout",
     "output_type": "stream",
     "text": [
      "Number of model responses without json: 0\n",
      "Number of model responses with incorrect formatting: 0\n",
      "\n",
      "Sample 3 and 4:\n"
     ]
    },
    {
     "data": {
      "application/vnd.jupyter.widget-view+json": {
       "model_id": "aa9b16a8a5584ce7b268bc1182c9b9cb",
       "version_major": 2,
       "version_minor": 0
      },
      "text/plain": [
       "  0%|          | 0/10 [00:00<?, ?it/s]"
      ]
     },
     "metadata": {},
     "output_type": "display_data"
    },
    {
     "name": "stdout",
     "output_type": "stream",
     "text": [
      "Number of model responses without json: 0\n",
      "Number of model responses with incorrect formatting: 0\n",
      "\n",
      "Sample 5 and 6:\n"
     ]
    },
    {
     "data": {
      "application/vnd.jupyter.widget-view+json": {
       "model_id": "2e21984e18394b4fb6dc9763c81eafbd",
       "version_major": 2,
       "version_minor": 0
      },
      "text/plain": [
       "  0%|          | 0/10 [00:00<?, ?it/s]"
      ]
     },
     "metadata": {},
     "output_type": "display_data"
    },
    {
     "name": "stdout",
     "output_type": "stream",
     "text": [
      "Number of model responses without json: 0\n",
      "Number of model responses with incorrect formatting: 0\n",
      "\n",
      "Sample 7 and 8:\n"
     ]
    },
    {
     "data": {
      "application/vnd.jupyter.widget-view+json": {
       "model_id": "4a115ef1a02148c8984fda91b20a1d4b",
       "version_major": 2,
       "version_minor": 0
      },
      "text/plain": [
       "  0%|          | 0/10 [00:00<?, ?it/s]"
      ]
     },
     "metadata": {},
     "output_type": "display_data"
    },
    {
     "name": "stdout",
     "output_type": "stream",
     "text": [
      "Number of model responses without json: 0\n",
      "Number of model responses with incorrect formatting: 0\n",
      "\n",
      "Sample 9 and 10:\n"
     ]
    },
    {
     "data": {
      "application/vnd.jupyter.widget-view+json": {
       "model_id": "614ca08a346c4e739f29eea4f56c65ea",
       "version_major": 2,
       "version_minor": 0
      },
      "text/plain": [
       "  0%|          | 0/10 [00:00<?, ?it/s]"
      ]
     },
     "metadata": {},
     "output_type": "display_data"
    },
    {
     "name": "stdout",
     "output_type": "stream",
     "text": [
      "Number of model responses without json: 0\n",
      "Number of model responses with incorrect formatting: 0\n",
      "\n",
      "Sample 11 and 12:\n"
     ]
    },
    {
     "data": {
      "application/vnd.jupyter.widget-view+json": {
       "model_id": "6d6af0c3f70449abb548a7906a570483",
       "version_major": 2,
       "version_minor": 0
      },
      "text/plain": [
       "  0%|          | 0/10 [00:00<?, ?it/s]"
      ]
     },
     "metadata": {},
     "output_type": "display_data"
    },
    {
     "name": "stdout",
     "output_type": "stream",
     "text": [
      "Number of model responses without json: 0\n",
      "Number of model responses with incorrect formatting: 0\n",
      "\n",
      "Sample 13 and 14:\n"
     ]
    },
    {
     "data": {
      "application/vnd.jupyter.widget-view+json": {
       "model_id": "d3a310315efa40c6aa00a45e9ed9c658",
       "version_major": 2,
       "version_minor": 0
      },
      "text/plain": [
       "  0%|          | 0/10 [00:00<?, ?it/s]"
      ]
     },
     "metadata": {},
     "output_type": "display_data"
    },
    {
     "name": "stdout",
     "output_type": "stream",
     "text": [
      "Number of model responses without json: 0\n",
      "Number of model responses with incorrect formatting: 0\n",
      "\n",
      "Sample 15 and 16:\n"
     ]
    },
    {
     "data": {
      "application/vnd.jupyter.widget-view+json": {
       "model_id": "83da1a0c488041bdb2528645e130b41a",
       "version_major": 2,
       "version_minor": 0
      },
      "text/plain": [
       "  0%|          | 0/10 [00:00<?, ?it/s]"
      ]
     },
     "metadata": {},
     "output_type": "display_data"
    },
    {
     "name": "stdout",
     "output_type": "stream",
     "text": [
      "Number of model responses without json: 0\n",
      "Number of model responses with incorrect formatting: 0\n",
      "\n",
      "Sample 17 and 18:\n"
     ]
    },
    {
     "data": {
      "application/vnd.jupyter.widget-view+json": {
       "model_id": "3249b652b35341c1b0e32c36dc6baa34",
       "version_major": 2,
       "version_minor": 0
      },
      "text/plain": [
       "  0%|          | 0/10 [00:00<?, ?it/s]"
      ]
     },
     "metadata": {},
     "output_type": "display_data"
    },
    {
     "name": "stdout",
     "output_type": "stream",
     "text": [
      "Number of model responses without json: 0\n",
      "Number of model responses with incorrect formatting: 0\n",
      "\n",
      "Sample 19 and 20:\n"
     ]
    },
    {
     "data": {
      "application/vnd.jupyter.widget-view+json": {
       "model_id": "2214e09f6dcc4a93bd5669f9507ed70c",
       "version_major": 2,
       "version_minor": 0
      },
      "text/plain": [
       "  0%|          | 0/10 [00:00<?, ?it/s]"
      ]
     },
     "metadata": {},
     "output_type": "display_data"
    },
    {
     "name": "stdout",
     "output_type": "stream",
     "text": [
      "Number of model responses without json: 0\n",
      "Number of model responses with incorrect formatting: 0\n",
      "\n",
      "Sample 21 and 22:\n"
     ]
    },
    {
     "data": {
      "application/vnd.jupyter.widget-view+json": {
       "model_id": "dcec30fa1abc46de9267644a22cfb07b",
       "version_major": 2,
       "version_minor": 0
      },
      "text/plain": [
       "  0%|          | 0/10 [00:00<?, ?it/s]"
      ]
     },
     "metadata": {},
     "output_type": "display_data"
    },
    {
     "name": "stdout",
     "output_type": "stream",
     "text": [
      "Number of model responses without json: 0\n",
      "Number of model responses with incorrect formatting: 0\n",
      "\n",
      "Sample 23 and 24:\n"
     ]
    },
    {
     "data": {
      "application/vnd.jupyter.widget-view+json": {
       "model_id": "075af62e38214511ba52abf0cc97dde5",
       "version_major": 2,
       "version_minor": 0
      },
      "text/plain": [
       "  0%|          | 0/10 [00:00<?, ?it/s]"
      ]
     },
     "metadata": {},
     "output_type": "display_data"
    },
    {
     "name": "stdout",
     "output_type": "stream",
     "text": [
      "Number of model responses without json: 0\n",
      "Number of model responses with incorrect formatting: 0\n",
      "\n",
      "Sample 25 and 26:\n"
     ]
    },
    {
     "data": {
      "application/vnd.jupyter.widget-view+json": {
       "model_id": "ca8b3df012b24ccc963665006eed3172",
       "version_major": 2,
       "version_minor": 0
      },
      "text/plain": [
       "  0%|          | 0/10 [00:00<?, ?it/s]"
      ]
     },
     "metadata": {},
     "output_type": "display_data"
    },
    {
     "name": "stdout",
     "output_type": "stream",
     "text": [
      "Number of model responses without json: 0\n",
      "Number of model responses with incorrect formatting: 0\n",
      "\n",
      "Sample 27 and 28:\n"
     ]
    },
    {
     "data": {
      "application/vnd.jupyter.widget-view+json": {
       "model_id": "78b9dea6e9e245639d3a70a86745c94e",
       "version_major": 2,
       "version_minor": 0
      },
      "text/plain": [
       "  0%|          | 0/10 [00:00<?, ?it/s]"
      ]
     },
     "metadata": {},
     "output_type": "display_data"
    },
    {
     "name": "stdout",
     "output_type": "stream",
     "text": [
      "Number of model responses without json: 0\n",
      "Number of model responses with incorrect formatting: 0\n",
      "\n",
      "Sample 29 and 30:\n"
     ]
    },
    {
     "data": {
      "application/vnd.jupyter.widget-view+json": {
       "model_id": "c2b03135d8164b1d9ee61e59ac7f8747",
       "version_major": 2,
       "version_minor": 0
      },
      "text/plain": [
       "  0%|          | 0/10 [00:00<?, ?it/s]"
      ]
     },
     "metadata": {},
     "output_type": "display_data"
    },
    {
     "name": "stdout",
     "output_type": "stream",
     "text": [
      "Number of model responses without json: 0\n",
      "Number of model responses with incorrect formatting: 0\n",
      "\n",
      "Sample 31 and 32:\n"
     ]
    },
    {
     "data": {
      "application/vnd.jupyter.widget-view+json": {
       "model_id": "ba746245c19141f78998b64f5b61b96d",
       "version_major": 2,
       "version_minor": 0
      },
      "text/plain": [
       "  0%|          | 0/10 [00:00<?, ?it/s]"
      ]
     },
     "metadata": {},
     "output_type": "display_data"
    },
    {
     "name": "stdout",
     "output_type": "stream",
     "text": [
      "Number of model responses without json: 0\n",
      "Number of model responses with incorrect formatting: 0\n",
      "\n",
      "Sample 33 and 34:\n"
     ]
    },
    {
     "data": {
      "application/vnd.jupyter.widget-view+json": {
       "model_id": "26c554c25a4c4068a4f3d8984b5d2d68",
       "version_major": 2,
       "version_minor": 0
      },
      "text/plain": [
       "  0%|          | 0/10 [00:00<?, ?it/s]"
      ]
     },
     "metadata": {},
     "output_type": "display_data"
    },
    {
     "name": "stdout",
     "output_type": "stream",
     "text": [
      "Number of model responses without json: 0\n",
      "Number of model responses with incorrect formatting: 0\n",
      "\n",
      "Sample 35 and 36:\n"
     ]
    },
    {
     "data": {
      "application/vnd.jupyter.widget-view+json": {
       "model_id": "befc001215e94b0387ed4bcd90960f0b",
       "version_major": 2,
       "version_minor": 0
      },
      "text/plain": [
       "  0%|          | 0/10 [00:00<?, ?it/s]"
      ]
     },
     "metadata": {},
     "output_type": "display_data"
    },
    {
     "name": "stdout",
     "output_type": "stream",
     "text": [
      "Number of model responses without json: 0\n",
      "Number of model responses with incorrect formatting: 0\n",
      "\n",
      "Sample 37 and 38:\n"
     ]
    },
    {
     "data": {
      "application/vnd.jupyter.widget-view+json": {
       "model_id": "37441eb5855c4d8695a3afbec58b3d96",
       "version_major": 2,
       "version_minor": 0
      },
      "text/plain": [
       "  0%|          | 0/10 [00:00<?, ?it/s]"
      ]
     },
     "metadata": {},
     "output_type": "display_data"
    },
    {
     "name": "stdout",
     "output_type": "stream",
     "text": [
      "Number of model responses without json: 0\n",
      "Number of model responses with incorrect formatting: 0\n",
      "\n",
      "Sample 39 and 40:\n"
     ]
    },
    {
     "data": {
      "application/vnd.jupyter.widget-view+json": {
       "model_id": "78375e1e968147888a1daa867133d6bf",
       "version_major": 2,
       "version_minor": 0
      },
      "text/plain": [
       "  0%|          | 0/10 [00:00<?, ?it/s]"
      ]
     },
     "metadata": {},
     "output_type": "display_data"
    },
    {
     "name": "stdout",
     "output_type": "stream",
     "text": [
      "Number of model responses without json: 0\n",
      "Number of model responses with incorrect formatting: 0\n",
      "\n",
      "Sample 41 and 42:\n"
     ]
    },
    {
     "data": {
      "application/vnd.jupyter.widget-view+json": {
       "model_id": "cd123290df624d4b93b195290584b61a",
       "version_major": 2,
       "version_minor": 0
      },
      "text/plain": [
       "  0%|          | 0/10 [00:00<?, ?it/s]"
      ]
     },
     "metadata": {},
     "output_type": "display_data"
    },
    {
     "name": "stdout",
     "output_type": "stream",
     "text": [
      "Number of model responses without json: 0\n",
      "Number of model responses with incorrect formatting: 0\n",
      "\n",
      "Sample 43 and 44:\n"
     ]
    },
    {
     "data": {
      "application/vnd.jupyter.widget-view+json": {
       "model_id": "0267c912857440988757b691f9ac918b",
       "version_major": 2,
       "version_minor": 0
      },
      "text/plain": [
       "  0%|          | 0/10 [00:00<?, ?it/s]"
      ]
     },
     "metadata": {},
     "output_type": "display_data"
    },
    {
     "name": "stdout",
     "output_type": "stream",
     "text": [
      "Number of model responses without json: 0\n",
      "Number of model responses with incorrect formatting: 0\n",
      "\n",
      "Sample 45 and 46:\n"
     ]
    },
    {
     "data": {
      "application/vnd.jupyter.widget-view+json": {
       "model_id": "0f8e127d74dc490fa03d5a269b3b8457",
       "version_major": 2,
       "version_minor": 0
      },
      "text/plain": [
       "  0%|          | 0/10 [00:00<?, ?it/s]"
      ]
     },
     "metadata": {},
     "output_type": "display_data"
    },
    {
     "name": "stdout",
     "output_type": "stream",
     "text": [
      "Number of model responses without json: 0\n",
      "Number of model responses with incorrect formatting: 0\n",
      "\n",
      "Sample 47 and 48:\n"
     ]
    },
    {
     "data": {
      "application/vnd.jupyter.widget-view+json": {
       "model_id": "75ff721c49634c87bf5945a049dcd19e",
       "version_major": 2,
       "version_minor": 0
      },
      "text/plain": [
       "  0%|          | 0/10 [00:00<?, ?it/s]"
      ]
     },
     "metadata": {},
     "output_type": "display_data"
    },
    {
     "name": "stdout",
     "output_type": "stream",
     "text": [
      "Number of model responses without json: 0\n",
      "Number of model responses with incorrect formatting: 0\n",
      "\n",
      "Sample 49 and 50:\n"
     ]
    },
    {
     "data": {
      "application/vnd.jupyter.widget-view+json": {
       "model_id": "d7a08798163b4a6190a969768f890c6e",
       "version_major": 2,
       "version_minor": 0
      },
      "text/plain": [
       "  0%|          | 0/10 [00:00<?, ?it/s]"
      ]
     },
     "metadata": {},
     "output_type": "display_data"
    },
    {
     "name": "stdout",
     "output_type": "stream",
     "text": [
      "Number of model responses without json: 0\n",
      "Number of model responses with incorrect formatting: 0\n",
      "Execution time:  3703.964893102646 s\n"
     ]
    }
   ],
   "source": [
    "gpt_annotations = {}\n",
    "consistency_scores = []\n",
    "\n",
    "# Measure how much time it takes to get all inferences\n",
    "start = time.time()\n",
    "\n",
    "\n",
    "for index in range(len(sampled_subset)//2):\n",
    "    # Calculate index of first item from the couple\n",
    "    i = 2 * index\n",
    "\n",
    "    print(f'\\nSample {i+1} and {i+2}:')\n",
    "\n",
    "    record_0 = sampled_subset[i]\n",
    "    record_1 = sampled_subset[i+1]\n",
    "    \n",
    "    try: \n",
    "        # Extract ground truth\n",
    "        ground_truth_labels_record_0 = [label_mapping[t] for t in record_0['ner_tags']]\n",
    "        ground_truth_labels_record_1 = [label_mapping[t] for t in record_1['ner_tags']]\n",
    "        \n",
    "        # Extract tokens from current record\n",
    "        tokens = {}\n",
    "        tokens['record_0'] = record_0['tokens']\n",
    "        tokens['record_1'] = record_1['tokens']\n",
    "\n",
    "        ask_gpt_params['tokens'] = tokens\n",
    "\n",
    "        # Query the model\n",
    "        new_labels_gpt = repeat_annotation(n_repeat=REPEAT_ANNOTATION,\n",
    "                                                **ask_gpt_params)\n",
    "        \n",
    "        # Save annotations\n",
    "        gpt_annotations[f'record_{i}'] = {}\n",
    "        gpt_annotations[f'record_{i}']['pred'] = new_labels_gpt['record_0']\n",
    "        gpt_annotations[f'record_{i}']['true'] = ground_truth_labels_record_0\n",
    "        gpt_annotations[f'record_{i}']['tokens'] = record_0['tokens']\n",
    "        \n",
    "        gpt_annotations[f'record_{i+1}'] = {}\n",
    "        gpt_annotations[f'record_{i+1}']['pred'] = new_labels_gpt['record_1']\n",
    "        gpt_annotations[f'record_{i+1}']['true'] = ground_truth_labels_record_1\n",
    "        gpt_annotations[f'record_{i+1}']['tokens'] = record_1['tokens']\n",
    "\n",
    "        # Calculate consistency score\n",
    "        consistency_record_0 = calculate_consistency_score(new_labels_gpt['record_0'],\n",
    "                                                    ground_truth_labels_record_0)\n",
    "        gpt_annotations[f'record_{i}']['consistency'] = consistency_record_0\n",
    "        consistency_scores.append(consistency_record_0)\n",
    "\n",
    "        consistency_record_1 = calculate_consistency_score(new_labels_gpt['record_1'],\n",
    "                                                    ground_truth_labels_record_1)\n",
    "        gpt_annotations[f'record_{i+1}']['consistency'] = consistency_record_1\n",
    "        consistency_scores.append(consistency_record_1)\n",
    "    \n",
    "    except Exception as e:\n",
    "        print(e)\n",
    "        continue\n",
    "\n",
    "end = time.time()\n",
    "print('Execution time: ', end - start, 's')  "
   ]
  },
  {
   "cell_type": "code",
   "execution_count": 17,
   "id": "5c2d3b39",
   "metadata": {
    "ExecuteTime": {
     "end_time": "2024-03-12T23:08:34.338600Z",
     "start_time": "2024-03-12T23:08:34.334075Z"
    }
   },
   "outputs": [],
   "source": [
    "# Overall consistency is calculated by averaging individual scores\n",
    "gpt_annotations['overall_consistency'] = np.mean(consistency_scores)"
   ]
  },
  {
   "cell_type": "code",
   "execution_count": 18,
   "id": "86264f40fe901bd9",
   "metadata": {
    "ExecuteTime": {
     "end_time": "2024-03-12T23:08:34.344670Z",
     "start_time": "2024-03-12T23:08:34.340238Z"
    },
    "collapsed": false
   },
   "outputs": [
    {
     "name": "stdout",
     "output_type": "stream",
     "text": [
      "Number of samples that model didn't generate any output for them:  0\n",
      "Overall consistency on all samples:  93.09700000000001\n"
     ]
    }
   ],
   "source": [
    "\n",
    "print(\"Number of samples that model didn't generate any output for them: \", consistency_scores.count(0))\n",
    "\n",
    "print(\"Overall consistency on all samples: \", gpt_annotations['overall_consistency'])"
   ]
  },
  {
   "cell_type": "code",
   "execution_count": 19,
   "id": "72bf0f83750ef744",
   "metadata": {
    "ExecuteTime": {
     "end_time": "2024-03-12T23:08:34.380192Z",
     "start_time": "2024-03-12T23:08:34.346193Z"
    },
    "collapsed": false
   },
   "outputs": [],
   "source": [
    "with open(os.path.join(RESULTS_PATH, f'{LANGUAGE}.json'), 'w') as file:\n",
    "    json.dump(gpt_annotations, file, indent=4)"
   ]
  }
 ],
 "metadata": {
  "kernelspec": {
   "display_name": "Python 3",
   "language": "python",
   "name": "python3"
  },
  "language_info": {
   "codemirror_mode": {
    "name": "ipython",
    "version": 3
   },
   "file_extension": ".py",
   "mimetype": "text/x-python",
   "name": "python",
   "nbconvert_exporter": "python",
   "pygments_lexer": "ipython3",
   "version": "3.10.5"
  }
 },
 "nbformat": 4,
 "nbformat_minor": 5
}
