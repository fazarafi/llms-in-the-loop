{
 "cells": [
  {
   "cell_type": "markdown",
   "id": "a82c87367cd70bae",
   "metadata": {
    "collapsed": false
   },
   "source": [
    "### Setup & Initialization"
   ]
  },
  {
   "cell_type": "code",
   "execution_count": 1,
   "id": "556b5cff764f1fb6",
   "metadata": {
    "ExecuteTime": {
     "end_time": "2024-02-21T13:42:20.830557Z",
     "start_time": "2024-02-21T13:42:19.886094Z"
    },
    "collapsed": false
   },
   "outputs": [],
   "source": [
    "import os\n",
    "import sys\n",
    "import yaml\n",
    "from contextlib import contextmanager\n",
    "from datasets import load_dataset\n",
    "from dotenv import load_dotenv\n",
    "from tqdm.notebook import tqdm\n",
    "from openai import APIStatusError, RateLimitError, APIConnectionError\n",
    "from getpass import getpass\n",
    "import anthropic\n",
    "import json\n",
    "import ast\n",
    "import re\n",
    "import numpy as np"
   ]
  },
  {
   "cell_type": "code",
   "execution_count": 2,
   "id": "b1421b033bd3e9c1",
   "metadata": {
    "ExecuteTime": {
     "end_time": "2024-02-21T13:42:20.835174Z",
     "start_time": "2024-02-21T13:42:20.832421Z"
    },
    "collapsed": false
   },
   "outputs": [],
   "source": [
    "SAMPLE_SIZE = 50\n",
    "REPEAT_ANNOTATION = 1"
   ]
  },
  {
   "cell_type": "code",
   "execution_count": 3,
   "id": "ca6d9576",
   "metadata": {},
   "outputs": [],
   "source": [
    "foundaiton_model = \"claude-3-sonnet-20240229\"\n",
    "client = anthropic.Anthropic(\n",
    "    api_key=getpass(\"ANTHROPIC API KEY: \")\n",
    ")"
   ]
  },
  {
   "cell_type": "code",
   "execution_count": 4,
   "id": "eaf1762ae7983e36",
   "metadata": {
    "ExecuteTime": {
     "end_time": "2024-02-21T13:42:20.839728Z",
     "start_time": "2024-02-21T13:42:20.836451Z"
    },
    "collapsed": false
   },
   "outputs": [],
   "source": [
    "# Specifying path to the necessary files and folders\n",
    "PATH_TO_SRC = os.path.abspath('../../../')\n",
    "\n",
    "# Where to get annotation examples for the prompt\n",
    "ANNOTATION_EXAMPLES_PATH = os.path.join(PATH_TO_SRC, 'src/query/ner_examples_all_languages.json')\n",
    "CONFIG_PATH = os.path.join(PATH_TO_SRC, \"settings/config.yml\")\n",
    "ENV_FILE_PATH = os.path.join(PATH_TO_SRC, '.env')\n",
    "# Folder to save annotations\n",
    "RESULTS_PATH = os.path.join(PATH_TO_SRC, 'data/foundation_model_selection/claude3-sonet')"
   ]
  },
  {
   "cell_type": "code",
   "execution_count": 5,
   "id": "fe74700731e1e661",
   "metadata": {
    "ExecuteTime": {
     "end_time": "2024-02-21T13:42:20.845684Z",
     "start_time": "2024-02-21T13:42:20.841953Z"
    },
    "collapsed": false
   },
   "outputs": [],
   "source": [
    "@contextmanager\n",
    "def extend_sys_path(path):\n",
    "    if path not in sys.path:\n",
    "        # Append the path to sys.path\n",
    "        sys.path.append(path)\n",
    "    try:\n",
    "        # Execute code inside the 'with' statement\n",
    "        yield\n",
    "    finally:\n",
    "        # Remove the path from sys.path\n",
    "        if path in sys.path:\n",
    "            sys.path.remove(path)"
   ]
  },
  {
   "cell_type": "code",
   "execution_count": 6,
   "id": "4a8c61c1ee320d16",
   "metadata": {
    "ExecuteTime": {
     "end_time": "2024-02-21T13:42:23.117266Z",
     "start_time": "2024-02-21T13:42:20.846949Z"
    },
    "collapsed": false
   },
   "outputs": [],
   "source": [
    "# Temporarily add module_path and import functions\n",
    "with extend_sys_path(PATH_TO_SRC):\n",
    "    from src.data.sample import sample_for_model_selection\n",
    "    from src.query.query_gpt import ask_gpt, add_annotation_examples\n",
    "    from src.query.prompts import MAIN_PROMPT\n",
    "    from src.utils.utils import calculate_consistency_score"
   ]
  },
  {
   "cell_type": "code",
   "execution_count": 7,
   "id": "b1c27cbcbd9595a",
   "metadata": {
    "ExecuteTime": {
     "end_time": "2024-02-21T13:42:23.156437Z",
     "start_time": "2024-02-21T13:42:23.118833Z"
    },
    "collapsed": false
   },
   "outputs": [
    {
     "name": "stdout",
     "output_type": "stream",
     "text": [
      "True\n"
     ]
    }
   ],
   "source": [
    "print(load_dotenv(dotenv_path=ENV_FILE_PATH))"
   ]
  },
  {
   "cell_type": "code",
   "execution_count": 8,
   "id": "2e2d974f088fb0ca",
   "metadata": {
    "ExecuteTime": {
     "end_time": "2024-02-21T13:42:23.167371Z",
     "start_time": "2024-02-21T13:42:23.157739Z"
    },
    "collapsed": false
   },
   "outputs": [
    {
     "data": {
      "text/plain": [
       "{0: 'O',\n",
       " 1: 'B-PER',\n",
       " 2: 'I-PER',\n",
       " 3: 'B-ORG',\n",
       " 4: 'I-ORG',\n",
       " 5: 'B-LOC',\n",
       " 6: 'I-LOC',\n",
       " 7: 'B-DATE',\n",
       " 8: 'I-DATE'}"
      ]
     },
     "execution_count": 8,
     "metadata": {},
     "output_type": "execute_result"
    }
   ],
   "source": [
    "# Reading config file\n",
    "config = yaml.safe_load(open(os.path.join(PATH_TO_SRC, \"settings/config.yml\")))\n",
    "\n",
    "# Load indx-to-label_name mapping\n",
    "label_mapping = config['label_mapping']\n",
    "label_mapping"
   ]
  },
  {
   "cell_type": "markdown",
   "id": "8dd033762153f338",
   "metadata": {
    "collapsed": false
   },
   "source": [
    "### Utils"
   ]
  },
  {
   "cell_type": "code",
   "execution_count": 10,
   "id": "5e1a6244de9b9133",
   "metadata": {
    "ExecuteTime": {
     "end_time": "2024-02-21T13:42:23.176530Z",
     "start_time": "2024-02-21T13:42:23.168988Z"
    },
    "collapsed": false
   },
   "outputs": [],
   "source": [
    "import time\n",
    "def ask_gpt_short(\n",
    "        tokens, language, examples, client, user_prompt,\n",
    "        max_tokens=1000,\n",
    "        temperature=0.1,\n",
    "        model=foundaiton_model,\n",
    "        system_prompt=None):\n",
    "\n",
    "    sentence = str(tokens)\n",
    "    ner_tags = None\n",
    "\n",
    "    if system_prompt is None:\n",
    "        system_prompt = f\"You are a named entity labelling expert in {language} language.\"\n",
    "\n",
    "    # Format user prompt\n",
    "    user_prompt = user_prompt.format(language=language, sentence=sentence, examples=examples)\n",
    "\n",
    "    # Save query params\n",
    "    query_params = {\n",
    "        'model': model,\n",
    "        'temperature': temperature,\n",
    "        'system': system_prompt,\n",
    "        'messages': [\n",
    "                        {\n",
    "                            \"role\": \"user\", \n",
    "                            \"content\": [\n",
    "                                {\n",
    "                                    \"type\":\"text\",\n",
    "                                    \"text\":user_prompt\n",
    "                                }\n",
    "                            ]\n",
    "                        }\n",
    "                     ],\n",
    "        'max_tokens': max_tokens,\n",
    "    }\n",
    "\n",
    "    try:\n",
    "        # Query the model\n",
    "        time.sleep(12)\n",
    "        response = client.messages.create(**query_params)\n",
    "        # Extract model answer\n",
    "        answer = response.content[0].text\n",
    "        return answer\n",
    "\n",
    "    except APIConnectionError as e:\n",
    "        raise Exception(f\"The server could not be reached: {e.__cause__}\")\n",
    "    except RateLimitError as e:\n",
    "        raise Exception(f\"A 429 status code was received: {e}\")\n",
    "    except APIStatusError as e:\n",
    "        raise Exception(f\"Non-200-range status code received: {e.status_code}, {e.response}\")"
   ]
  },
  {
   "cell_type": "code",
   "execution_count": 11,
   "id": "3baa85d12cd70e0e",
   "metadata": {
    "ExecuteTime": {
     "end_time": "2024-02-21T13:42:23.186082Z",
     "start_time": "2024-02-21T13:42:23.177907Z"
    },
    "collapsed": false
   },
   "outputs": [],
   "source": [
    "def repeat_annotation(n_repeat=10, **ask_gpt_kwargs):\n",
    "    # Counters\n",
    "    no_json_counter = 0  # No json was provided by the model\n",
    "    incorrect_format_counter = 0  # Number of records parsed in the incorrect format \n",
    "\n",
    "    # Results\n",
    "    ner_tokens_arr = []\n",
    "\n",
    "    for i in tqdm(range(n_repeat)):\n",
    "        # Send request to a model\n",
    "        model_response = ask_gpt_short(**ask_gpt_kwargs)\n",
    "\n",
    "        if ask_gpt_kwargs['model'] in ['gpt-4-1106-preview', 'gpt-4-0125-preview',\"llama2:70b\",\"llama2\",\"mistral:7b\",foundaiton_model]:\n",
    "            # Newer models provide json\n",
    "            try:\n",
    "                ner_tags = json.loads(model_response)['output']\n",
    "                ner_tokens_arr.append(ner_tags)\n",
    "            except Exception as e:\n",
    "                print('#'*80)\n",
    "                print(e)\n",
    "                print(model_response)\n",
    "                incorrect_format_counter += 1\n",
    "                continue\n",
    "        else:\n",
    "            # Extract json only\n",
    "            match = re.search(r'\\{(.*?)\\}', model_response)\n",
    "            if match:\n",
    "                content = match.group(0)\n",
    "                # Format output string to parse it as JSON\n",
    "                try:\n",
    "                    ner_tags = json.loads(json.dumps(ast.literal_eval(content)))['output']\n",
    "                    ner_tokens_arr.append(ner_tags)\n",
    "                except Exception as e:\n",
    "                    print('#'*80)\n",
    "                    print(e)\n",
    "                    print(model_response)\n",
    "                    incorrect_format_counter += 1\n",
    "                    continue\n",
    "            else:\n",
    "                print('#'*80)\n",
    "                print('No json found in model\\'s response:', model_response)\n",
    "                no_json_counter += 1\n",
    "                continue\n",
    "    print(f'Number of model responses without json: {no_json_counter}')\n",
    "    print(f'Number of model responses with incorrect formatting: {incorrect_format_counter}')\n",
    "    return ner_tokens_arr"
   ]
  },
  {
   "cell_type": "code",
   "execution_count": 12,
   "id": "0b2cd2e9",
   "metadata": {},
   "outputs": [],
   "source": [
    "target_languages= ['tsn','zul','bam','bbj','fon']"
   ]
  },
  {
   "cell_type": "markdown",
   "id": "4c4fda68aff9f169",
   "metadata": {
    "collapsed": false
   },
   "source": [
    "### Querying all"
   ]
  },
  {
   "cell_type": "code",
   "execution_count": 13,
   "id": "e1a4694ef68d47e0",
   "metadata": {
    "ExecuteTime": {
     "end_time": "2024-02-21T14:36:28.339265Z",
     "start_time": "2024-02-21T13:42:25.870159Z"
    },
    "collapsed": false
   },
   "outputs": [
    {
     "name": "stdout",
     "output_type": "stream",
     "text": [
      "Language: Tswana\n"
     ]
    },
    {
     "data": {
      "application/vnd.jupyter.widget-view+json": {
       "model_id": "3df7eb71aa13491bae029956eb26bc4d",
       "version_major": 2,
       "version_minor": 0
      },
      "text/plain": [
       "  0%|          | 0/3 [00:00<?, ?it/s]"
      ]
     },
     "metadata": {},
     "output_type": "display_data"
    },
    {
     "data": {
      "image/png": "[encoded data removed]",
      "text/plain": [
       "<Figure size 600x400 with 1 Axes>"
      ]
     },
     "metadata": {},
     "output_type": "display_data"
    },
    {
     "data": {
      "image/png": "[encoded data removed]",
      "text/plain": [
       "<Figure size 600x300 with 1 Axes>"
      ]
     },
     "metadata": {},
     "output_type": "display_data"
    },
    {
     "data": {
      "image/png": "[encoded data removed]",
      "text/plain": [
       "<Figure size 600x400 with 1 Axes>"
      ]
     },
     "metadata": {},
     "output_type": "display_data"
    },
    {
     "data": {
      "image/png": "[encoded data removed]",
      "text/plain": [
       "<Figure size 600x400 with 1 Axes>"
      ]
     },
     "metadata": {},
     "output_type": "display_data"
    },
    {
     "data": {
      "image/png": "[encoded data removed]",
      "text/plain": [
       "<Figure size 1600x600 with 2 Axes>"
      ]
     },
     "metadata": {},
     "output_type": "display_data"
    },
    {
     "name": "stdout",
     "output_type": "stream",
     "text": [
      "\n",
      "Iteration: 0\n"
     ]
    },
    {
     "data": {
      "application/vnd.jupyter.widget-view+json": {
       "model_id": "f55e9f0938164c2c9ddbb02d583a56d8",
       "version_major": 2,
       "version_minor": 0
      },
      "text/plain": [
       "  0%|          | 0/1 [00:00<?, ?it/s]"
      ]
     },
     "metadata": {},
     "output_type": "display_data"
    },
    {
     "name": "stdout",
     "output_type": "stream",
     "text": [
      "Number of model responses without json: 0\n",
      "Number of model responses with incorrect formatting: 0\n",
      "\n",
      "Iteration: 1\n"
     ]
    },
    {
     "data": {
      "application/vnd.jupyter.widget-view+json": {
       "model_id": "86efd5794e0f4b7e8f89afb5afcac255",
       "version_major": 2,
       "version_minor": 0
      },
      "text/plain": [
       "  0%|          | 0/1 [00:00<?, ?it/s]"
      ]
     },
     "metadata": {},
     "output_type": "display_data"
    },
    {
     "name": "stdout",
     "output_type": "stream",
     "text": [
      "Number of model responses without json: 0\n",
      "Number of model responses with incorrect formatting: 0\n",
      "\n",
      "Iteration: 2\n"
     ]
    },
    {
     "data": {
      "application/vnd.jupyter.widget-view+json": {
       "model_id": "8c14d33d800844f99dcc6be2bf1eaeef",
       "version_major": 2,
       "version_minor": 0
      },
      "text/plain": [
       "  0%|          | 0/1 [00:00<?, ?it/s]"
      ]
     },
     "metadata": {},
     "output_type": "display_data"
    },
    {
     "name": "stdout",
     "output_type": "stream",
     "text": [
      "Number of model responses without json: 0\n",
      "Number of model responses with incorrect formatting: 0\n",
      "\n",
      "Iteration: 3\n"
     ]
    },
    {
     "data": {
      "application/vnd.jupyter.widget-view+json": {
       "model_id": "46b4aecdf5a34030a6e3c65b74802886",
       "version_major": 2,
       "version_minor": 0
      },
      "text/plain": [
       "  0%|          | 0/1 [00:00<?, ?it/s]"
      ]
     },
     "metadata": {},
     "output_type": "display_data"
    },
    {
     "name": "stdout",
     "output_type": "stream",
     "text": [
      "Number of model responses without json: 0\n",
      "Number of model responses with incorrect formatting: 0\n",
      "\n",
      "Iteration: 4\n"
     ]
    },
    {
     "data": {
      "application/vnd.jupyter.widget-view+json": {
       "model_id": "a42650089d5f40f9b619f91ab4a5f381",
       "version_major": 2,
       "version_minor": 0
      },
      "text/plain": [
       "  0%|          | 0/1 [00:00<?, ?it/s]"
      ]
     },
     "metadata": {},
     "output_type": "display_data"
    },
    {
     "name": "stdout",
     "output_type": "stream",
     "text": [
      "Number of model responses without json: 0\n",
      "Number of model responses with incorrect formatting: 0\n",
      "\n",
      "Iteration: 5\n"
     ]
    },
    {
     "data": {
      "application/vnd.jupyter.widget-view+json": {
       "model_id": "d5e25246da864d538fd77fbffec11501",
       "version_major": 2,
       "version_minor": 0
      },
      "text/plain": [
       "  0%|          | 0/1 [00:00<?, ?it/s]"
      ]
     },
     "metadata": {},
     "output_type": "display_data"
    },
    {
     "name": "stdout",
     "output_type": "stream",
     "text": [
      "Number of model responses without json: 0\n",
      "Number of model responses with incorrect formatting: 0\n",
      "\n",
      "Iteration: 6\n"
     ]
    },
    {
     "data": {
      "application/vnd.jupyter.widget-view+json": {
       "model_id": "87095cf4ff814f2b80ad161020d42f7c",
       "version_major": 2,
       "version_minor": 0
      },
      "text/plain": [
       "  0%|          | 0/1 [00:00<?, ?it/s]"
      ]
     },
     "metadata": {},
     "output_type": "display_data"
    },
    {
     "name": "stdout",
     "output_type": "stream",
     "text": [
      "Number of model responses without json: 0\n",
      "Number of model responses with incorrect formatting: 0\n",
      "\n",
      "Iteration: 7\n"
     ]
    },
    {
     "data": {
      "application/vnd.jupyter.widget-view+json": {
       "model_id": "7f1de3b132a6440fae528f2dbde0f5cd",
       "version_major": 2,
       "version_minor": 0
      },
      "text/plain": [
       "  0%|          | 0/1 [00:00<?, ?it/s]"
      ]
     },
     "metadata": {},
     "output_type": "display_data"
    },
    {
     "name": "stdout",
     "output_type": "stream",
     "text": [
      "Number of model responses without json: 0\n",
      "Number of model responses with incorrect formatting: 0\n",
      "\n",
      "Iteration: 8\n"
     ]
    },
    {
     "data": {
      "application/vnd.jupyter.widget-view+json": {
       "model_id": "a916396099794c28bf9bbc253e6771f6",
       "version_major": 2,
       "version_minor": 0
      },
      "text/plain": [
       "  0%|          | 0/1 [00:00<?, ?it/s]"
      ]
     },
     "metadata": {},
     "output_type": "display_data"
    },
    {
     "name": "stdout",
     "output_type": "stream",
     "text": [
      "Number of model responses without json: 0\n",
      "Number of model responses with incorrect formatting: 0\n",
      "\n",
      "Iteration: 9\n"
     ]
    },
    {
     "data": {
      "application/vnd.jupyter.widget-view+json": {
       "model_id": "19361b42ec784d7a94d762f44e4c1532",
       "version_major": 2,
       "version_minor": 0
      },
      "text/plain": [
       "  0%|          | 0/1 [00:00<?, ?it/s]"
      ]
     },
     "metadata": {},
     "output_type": "display_data"
    },
    {
     "name": "stdout",
     "output_type": "stream",
     "text": [
      "Number of model responses without json: 0\n",
      "Number of model responses with incorrect formatting: 0\n",
      "\n",
      "Iteration: 10\n"
     ]
    },
    {
     "data": {
      "application/vnd.jupyter.widget-view+json": {
       "model_id": "35d57f098dc74253a227af55687fe22c",
       "version_major": 2,
       "version_minor": 0
      },
      "text/plain": [
       "  0%|          | 0/1 [00:00<?, ?it/s]"
      ]
     },
     "metadata": {},
     "output_type": "display_data"
    },
    {
     "name": "stdout",
     "output_type": "stream",
     "text": [
      "Number of model responses without json: 0\n",
      "Number of model responses with incorrect formatting: 0\n",
      "\n",
      "Iteration: 11\n"
     ]
    },
    {
     "data": {
      "application/vnd.jupyter.widget-view+json": {
       "model_id": "bfdea06c021a4e54a1120b5b81d6aaf1",
       "version_major": 2,
       "version_minor": 0
      },
      "text/plain": [
       "  0%|          | 0/1 [00:00<?, ?it/s]"
      ]
     },
     "metadata": {},
     "output_type": "display_data"
    },
    {
     "name": "stdout",
     "output_type": "stream",
     "text": [
      "Number of model responses without json: 0\n",
      "Number of model responses with incorrect formatting: 0\n",
      "\n",
      "Iteration: 12\n"
     ]
    },
    {
     "data": {
      "application/vnd.jupyter.widget-view+json": {
       "model_id": "bc1b126dde9a4f67b6b9cea6496f231c",
       "version_major": 2,
       "version_minor": 0
      },
      "text/plain": [
       "  0%|          | 0/1 [00:00<?, ?it/s]"
      ]
     },
     "metadata": {},
     "output_type": "display_data"
    },
    {
     "name": "stdout",
     "output_type": "stream",
     "text": [
      "Number of model responses without json: 0\n",
      "Number of model responses with incorrect formatting: 0\n",
      "\n",
      "Iteration: 13\n"
     ]
    },
    {
     "data": {
      "application/vnd.jupyter.widget-view+json": {
       "model_id": "eddcb49cff9f4914ba43fcb6bbcad1de",
       "version_major": 2,
       "version_minor": 0
      },
      "text/plain": [
       "  0%|          | 0/1 [00:00<?, ?it/s]"
      ]
     },
     "metadata": {},
     "output_type": "display_data"
    },
    {
     "name": "stdout",
     "output_type": "stream",
     "text": [
      "Number of model responses without json: 0\n",
      "Number of model responses with incorrect formatting: 0\n",
      "\n",
      "Iteration: 14\n"
     ]
    },
    {
     "data": {
      "application/vnd.jupyter.widget-view+json": {
       "model_id": "59b542d1dc4f4a87964e517b0119fd96",
       "version_major": 2,
       "version_minor": 0
      },
      "text/plain": [
       "  0%|          | 0/1 [00:00<?, ?it/s]"
      ]
     },
     "metadata": {},
     "output_type": "display_data"
    },
    {
     "name": "stdout",
     "output_type": "stream",
     "text": [
      "Number of model responses without json: 0\n",
      "Number of model responses with incorrect formatting: 0\n",
      "\n",
      "Iteration: 15\n"
     ]
    },
    {
     "data": {
      "application/vnd.jupyter.widget-view+json": {
       "model_id": "80ed1d2ba56c463f8468c20ad96464cd",
       "version_major": 2,
       "version_minor": 0
      },
      "text/plain": [
       "  0%|          | 0/1 [00:00<?, ?it/s]"
      ]
     },
     "metadata": {},
     "output_type": "display_data"
    },
    {
     "name": "stdout",
     "output_type": "stream",
     "text": [
      "Number of model responses without json: 0\n",
      "Number of model responses with incorrect formatting: 0\n",
      "\n",
      "Iteration: 16\n"
     ]
    },
    {
     "data": {
      "application/vnd.jupyter.widget-view+json": {
       "model_id": "ebbdd87da7b546e4a47cba76719855c3",
       "version_major": 2,
       "version_minor": 0
      },
      "text/plain": [
       "  0%|          | 0/1 [00:00<?, ?it/s]"
      ]
     },
     "metadata": {},
     "output_type": "display_data"
    },
    {
     "name": "stdout",
     "output_type": "stream",
     "text": [
      "Number of model responses without json: 0\n",
      "Number of model responses with incorrect formatting: 0\n",
      "\n",
      "Iteration: 17\n"
     ]
    },
    {
     "data": {
      "application/vnd.jupyter.widget-view+json": {
       "model_id": "71539b6843f447dba8902e58e3902c75",
       "version_major": 2,
       "version_minor": 0
      },
      "text/plain": [
       "  0%|          | 0/1 [00:00<?, ?it/s]"
      ]
     },
     "metadata": {},
     "output_type": "display_data"
    },
    {
     "name": "stdout",
     "output_type": "stream",
     "text": [
      "Number of model responses without json: 0\n",
      "Number of model responses with incorrect formatting: 0\n",
      "\n",
      "Iteration: 18\n"
     ]
    },
    {
     "data": {
      "application/vnd.jupyter.widget-view+json": {
       "model_id": "a6d9bab2db9640eeb66a8599c58c924c",
       "version_major": 2,
       "version_minor": 0
      },
      "text/plain": [
       "  0%|          | 0/1 [00:00<?, ?it/s]"
      ]
     },
     "metadata": {},
     "output_type": "display_data"
    },
    {
     "name": "stdout",
     "output_type": "stream",
     "text": [
      "Number of model responses without json: 0\n",
      "Number of model responses with incorrect formatting: 0\n",
      "\n",
      "Iteration: 19\n"
     ]
    },
    {
     "data": {
      "application/vnd.jupyter.widget-view+json": {
       "model_id": "b747cddd5df84e29a556f9c5a37afcb4",
       "version_major": 2,
       "version_minor": 0
      },
      "text/plain": [
       "  0%|          | 0/1 [00:00<?, ?it/s]"
      ]
     },
     "metadata": {},
     "output_type": "display_data"
    },
    {
     "name": "stdout",
     "output_type": "stream",
     "text": [
      "Number of model responses without json: 0\n",
      "Number of model responses with incorrect formatting: 0\n",
      "\n",
      "Iteration: 20\n"
     ]
    },
    {
     "data": {
      "application/vnd.jupyter.widget-view+json": {
       "model_id": "f7496701f76f4b3090e1259529b3d347",
       "version_major": 2,
       "version_minor": 0
      },
      "text/plain": [
       "  0%|          | 0/1 [00:00<?, ?it/s]"
      ]
     },
     "metadata": {},
     "output_type": "display_data"
    },
    {
     "name": "stdout",
     "output_type": "stream",
     "text": [
      "Number of model responses without json: 0\n",
      "Number of model responses with incorrect formatting: 0\n",
      "\n",
      "Iteration: 21\n"
     ]
    },
    {
     "data": {
      "application/vnd.jupyter.widget-view+json": {
       "model_id": "1a864e3b65d84600a5bb36e69a8dbedb",
       "version_major": 2,
       "version_minor": 0
      },
      "text/plain": [
       "  0%|          | 0/1 [00:00<?, ?it/s]"
      ]
     },
     "metadata": {},
     "output_type": "display_data"
    },
    {
     "name": "stdout",
     "output_type": "stream",
     "text": [
      "Number of model responses without json: 0\n",
      "Number of model responses with incorrect formatting: 0\n",
      "\n",
      "Iteration: 22\n"
     ]
    },
    {
     "data": {
      "application/vnd.jupyter.widget-view+json": {
       "model_id": "8183da0901e94c3bade9200d9e7e7507",
       "version_major": 2,
       "version_minor": 0
      },
      "text/plain": [
       "  0%|          | 0/1 [00:00<?, ?it/s]"
      ]
     },
     "metadata": {},
     "output_type": "display_data"
    },
    {
     "name": "stdout",
     "output_type": "stream",
     "text": [
      "Number of model responses without json: 0\n",
      "Number of model responses with incorrect formatting: 0\n",
      "\n",
      "Iteration: 23\n"
     ]
    },
    {
     "data": {
      "application/vnd.jupyter.widget-view+json": {
       "model_id": "8fd495d2e4cf4115bfc3b8b5aeaaadda",
       "version_major": 2,
       "version_minor": 0
      },
      "text/plain": [
       "  0%|          | 0/1 [00:00<?, ?it/s]"
      ]
     },
     "metadata": {},
     "output_type": "display_data"
    },
    {
     "name": "stdout",
     "output_type": "stream",
     "text": [
      "Number of model responses without json: 0\n",
      "Number of model responses with incorrect formatting: 0\n",
      "\n",
      "Iteration: 24\n"
     ]
    },
    {
     "data": {
      "application/vnd.jupyter.widget-view+json": {
       "model_id": "5aa3f012e24f44d1b08dcb49ba54b358",
       "version_major": 2,
       "version_minor": 0
      },
      "text/plain": [
       "  0%|          | 0/1 [00:00<?, ?it/s]"
      ]
     },
     "metadata": {},
     "output_type": "display_data"
    },
    {
     "name": "stdout",
     "output_type": "stream",
     "text": [
      "Number of model responses without json: 0\n",
      "Number of model responses with incorrect formatting: 0\n",
      "\n",
      "Iteration: 25\n"
     ]
    },
    {
     "data": {
      "application/vnd.jupyter.widget-view+json": {
       "model_id": "3545fd7138804f019c08e60b230d4c4a",
       "version_major": 2,
       "version_minor": 0
      },
      "text/plain": [
       "  0%|          | 0/1 [00:00<?, ?it/s]"
      ]
     },
     "metadata": {},
     "output_type": "display_data"
    },
    {
     "name": "stdout",
     "output_type": "stream",
     "text": [
      "Number of model responses without json: 0\n",
      "Number of model responses with incorrect formatting: 0\n",
      "\n",
      "Iteration: 26\n"
     ]
    },
    {
     "data": {
      "application/vnd.jupyter.widget-view+json": {
       "model_id": "e37371bdbb534e72a6e58e26250d29fa",
       "version_major": 2,
       "version_minor": 0
      },
      "text/plain": [
       "  0%|          | 0/1 [00:00<?, ?it/s]"
      ]
     },
     "metadata": {},
     "output_type": "display_data"
    },
    {
     "name": "stdout",
     "output_type": "stream",
     "text": [
      "Number of model responses without json: 0\n",
      "Number of model responses with incorrect formatting: 0\n",
      "\n",
      "Iteration: 27\n"
     ]
    },
    {
     "data": {
      "application/vnd.jupyter.widget-view+json": {
       "model_id": "ded9d690f9e74ae6af39f72400ea3e94",
       "version_major": 2,
       "version_minor": 0
      },
      "text/plain": [
       "  0%|          | 0/1 [00:00<?, ?it/s]"
      ]
     },
     "metadata": {},
     "output_type": "display_data"
    },
    {
     "name": "stdout",
     "output_type": "stream",
     "text": [
      "Number of model responses without json: 0\n",
      "Number of model responses with incorrect formatting: 0\n",
      "\n",
      "Iteration: 28\n"
     ]
    },
    {
     "data": {
      "application/vnd.jupyter.widget-view+json": {
       "model_id": "353d2b1d1fdd495c87e390d6330cbf9d",
       "version_major": 2,
       "version_minor": 0
      },
      "text/plain": [
       "  0%|          | 0/1 [00:00<?, ?it/s]"
      ]
     },
     "metadata": {},
     "output_type": "display_data"
    },
    {
     "name": "stdout",
     "output_type": "stream",
     "text": [
      "Number of model responses without json: 0\n",
      "Number of model responses with incorrect formatting: 0\n",
      "\n",
      "Iteration: 29\n"
     ]
    },
    {
     "data": {
      "application/vnd.jupyter.widget-view+json": {
       "model_id": "d28eb25f90ae4aa4ab7f71c9b259162b",
       "version_major": 2,
       "version_minor": 0
      },
      "text/plain": [
       "  0%|          | 0/1 [00:00<?, ?it/s]"
      ]
     },
     "metadata": {},
     "output_type": "display_data"
    },
    {
     "name": "stdout",
     "output_type": "stream",
     "text": [
      "Number of model responses without json: 0\n",
      "Number of model responses with incorrect formatting: 0\n",
      "\n",
      "Iteration: 30\n"
     ]
    },
    {
     "data": {
      "application/vnd.jupyter.widget-view+json": {
       "model_id": "3db4aac93c3140bfae564cee4b729380",
       "version_major": 2,
       "version_minor": 0
      },
      "text/plain": [
       "  0%|          | 0/1 [00:00<?, ?it/s]"
      ]
     },
     "metadata": {},
     "output_type": "display_data"
    },
    {
     "name": "stdout",
     "output_type": "stream",
     "text": [
      "Number of model responses without json: 0\n",
      "Number of model responses with incorrect formatting: 0\n",
      "\n",
      "Iteration: 31\n"
     ]
    },
    {
     "data": {
      "application/vnd.jupyter.widget-view+json": {
       "model_id": "69a3da35da3046ea820b48938fd1bfc9",
       "version_major": 2,
       "version_minor": 0
      },
      "text/plain": [
       "  0%|          | 0/1 [00:00<?, ?it/s]"
      ]
     },
     "metadata": {},
     "output_type": "display_data"
    },
    {
     "name": "stdout",
     "output_type": "stream",
     "text": [
      "Number of model responses without json: 0\n",
      "Number of model responses with incorrect formatting: 0\n",
      "\n",
      "Iteration: 32\n"
     ]
    },
    {
     "data": {
      "application/vnd.jupyter.widget-view+json": {
       "model_id": "76df8d251f034038b7f76db9e580ed4f",
       "version_major": 2,
       "version_minor": 0
      },
      "text/plain": [
       "  0%|          | 0/1 [00:00<?, ?it/s]"
      ]
     },
     "metadata": {},
     "output_type": "display_data"
    },
    {
     "name": "stdout",
     "output_type": "stream",
     "text": [
      "Number of model responses without json: 0\n",
      "Number of model responses with incorrect formatting: 0\n",
      "\n",
      "Iteration: 33\n"
     ]
    },
    {
     "data": {
      "application/vnd.jupyter.widget-view+json": {
       "model_id": "ac667c8033484006a1ce3373b4185169",
       "version_major": 2,
       "version_minor": 0
      },
      "text/plain": [
       "  0%|          | 0/1 [00:00<?, ?it/s]"
      ]
     },
     "metadata": {},
     "output_type": "display_data"
    },
    {
     "name": "stdout",
     "output_type": "stream",
     "text": [
      "Number of model responses without json: 0\n",
      "Number of model responses with incorrect formatting: 0\n",
      "\n",
      "Iteration: 34\n"
     ]
    },
    {
     "data": {
      "application/vnd.jupyter.widget-view+json": {
       "model_id": "3bb395a3b5484d12a3e4e7d1576630b5",
       "version_major": 2,
       "version_minor": 0
      },
      "text/plain": [
       "  0%|          | 0/1 [00:00<?, ?it/s]"
      ]
     },
     "metadata": {},
     "output_type": "display_data"
    },
    {
     "name": "stdout",
     "output_type": "stream",
     "text": [
      "Number of model responses without json: 0\n",
      "Number of model responses with incorrect formatting: 0\n",
      "\n",
      "Iteration: 35\n"
     ]
    },
    {
     "data": {
      "application/vnd.jupyter.widget-view+json": {
       "model_id": "052a8ff7e640460d89a91ad3cca44995",
       "version_major": 2,
       "version_minor": 0
      },
      "text/plain": [
       "  0%|          | 0/1 [00:00<?, ?it/s]"
      ]
     },
     "metadata": {},
     "output_type": "display_data"
    },
    {
     "name": "stdout",
     "output_type": "stream",
     "text": [
      "Number of model responses without json: 0\n",
      "Number of model responses with incorrect formatting: 0\n",
      "\n",
      "Iteration: 36\n"
     ]
    },
    {
     "data": {
      "application/vnd.jupyter.widget-view+json": {
       "model_id": "7986534998c645ccbd429eacbf4909a5",
       "version_major": 2,
       "version_minor": 0
      },
      "text/plain": [
       "  0%|          | 0/1 [00:00<?, ?it/s]"
      ]
     },
     "metadata": {},
     "output_type": "display_data"
    },
    {
     "name": "stdout",
     "output_type": "stream",
     "text": [
      "Number of model responses without json: 0\n",
      "Number of model responses with incorrect formatting: 0\n",
      "\n",
      "Iteration: 37\n"
     ]
    },
    {
     "data": {
      "application/vnd.jupyter.widget-view+json": {
       "model_id": "479feffe57a34109a587060ace73701c",
       "version_major": 2,
       "version_minor": 0
      },
      "text/plain": [
       "  0%|          | 0/1 [00:00<?, ?it/s]"
      ]
     },
     "metadata": {},
     "output_type": "display_data"
    },
    {
     "name": "stdout",
     "output_type": "stream",
     "text": [
      "Number of model responses without json: 0\n",
      "Number of model responses with incorrect formatting: 0\n",
      "\n",
      "Iteration: 38\n"
     ]
    },
    {
     "data": {
      "application/vnd.jupyter.widget-view+json": {
       "model_id": "c3e8b158efe749acb6d9f97118d44fd7",
       "version_major": 2,
       "version_minor": 0
      },
      "text/plain": [
       "  0%|          | 0/1 [00:00<?, ?it/s]"
      ]
     },
     "metadata": {},
     "output_type": "display_data"
    },
    {
     "name": "stdout",
     "output_type": "stream",
     "text": [
      "Number of model responses without json: 0\n",
      "Number of model responses with incorrect formatting: 0\n",
      "\n",
      "Iteration: 39\n"
     ]
    },
    {
     "data": {
      "application/vnd.jupyter.widget-view+json": {
       "model_id": "f5809ab148cb4b8f897af9842b3956d6",
       "version_major": 2,
       "version_minor": 0
      },
      "text/plain": [
       "  0%|          | 0/1 [00:00<?, ?it/s]"
      ]
     },
     "metadata": {},
     "output_type": "display_data"
    },
    {
     "name": "stdout",
     "output_type": "stream",
     "text": [
      "Number of model responses without json: 0\n",
      "Number of model responses with incorrect formatting: 0\n",
      "\n",
      "Iteration: 40\n"
     ]
    },
    {
     "data": {
      "application/vnd.jupyter.widget-view+json": {
       "model_id": "5b7150027eb84ff4907a97b500036f9f",
       "version_major": 2,
       "version_minor": 0
      },
      "text/plain": [
       "  0%|          | 0/1 [00:00<?, ?it/s]"
      ]
     },
     "metadata": {},
     "output_type": "display_data"
    },
    {
     "name": "stdout",
     "output_type": "stream",
     "text": [
      "################################################################################\n",
      "Expecting ',' delimiter: line 13 column 8 (char 225)\n",
      "{\n",
      "  \"output\": [\n",
      "    [\"Ngaka\", \"B-PER\"],\n",
      "    [\".\", \"O\"],\n",
      "    [\"van\", \"I-PER\"],\n",
      "    [\"Zyl\", \"I-PER\"],\n",
      "    [\"a\", \"O\"],\n",
      "    [\"re\", \"O\"],\n",
      "    [\"setlhopha\", \"O\"],\n",
      "    [\"sa\", \"O\"],\n",
      "    [\"Facebook\", \"B-ORG\"],\n",
      "    [\"sa\", \"O\"],\n",
      "    [\"\"\"\"\"\", \"O\"],\n",
      "    [\"screen\", \"O\"],\n",
      "    [\"-\", \"O\"],\n",
      "    [\"her\", \"O\"],\n",
      "    [\"-\", \"O\"],\n",
      "    [\"save\", \"O\"],\n",
      "    [\"-\", \"O\"],\n",
      "    [\"her\", \"O\"],\n",
      "    [\"\"\"\"\"\", \"O\"],\n",
      "    [\"se\", \"O\"],\n",
      "    [\"teng\", \"O\"],\n",
      "    [\"go\", \"O\"],\n",
      "    [\"ka\", \"O\"],\n",
      "    [\"dirisiwa\", \"O\"],\n",
      "    [\"ke\", \"O\"],\n",
      "    [\"balwetse\", \"O\"],\n",
      "    [\"le\", \"O\"],\n",
      "    [\"ba\", \"O\"],\n",
      "    [\"malapa\", \"O\"],\n",
      "    [\"a\", \"O\"],\n",
      "    [\"bona\", \"O\"],\n",
      "    [\".\", \"O\"]\n",
      "  ]\n",
      "}\n",
      "Number of model responses without json: 0\n",
      "Number of model responses with incorrect formatting: 1\n",
      "division by zero\n",
      "\n",
      "Iteration: 41\n"
     ]
    },
    {
     "data": {
      "application/vnd.jupyter.widget-view+json": {
       "model_id": "9ea4149338dd48d1b8c5118c24bb7e35",
       "version_major": 2,
       "version_minor": 0
      },
      "text/plain": [
       "  0%|          | 0/1 [00:00<?, ?it/s]"
      ]
     },
     "metadata": {},
     "output_type": "display_data"
    },
    {
     "name": "stdout",
     "output_type": "stream",
     "text": [
      "Number of model responses without json: 0\n",
      "Number of model responses with incorrect formatting: 0\n",
      "\n",
      "Iteration: 42\n"
     ]
    },
    {
     "data": {
      "application/vnd.jupyter.widget-view+json": {
       "model_id": "b2d72984073f433aa6c84c5e97904a83",
       "version_major": 2,
       "version_minor": 0
      },
      "text/plain": [
       "  0%|          | 0/1 [00:00<?, ?it/s]"
      ]
     },
     "metadata": {},
     "output_type": "display_data"
    },
    {
     "name": "stdout",
     "output_type": "stream",
     "text": [
      "Number of model responses without json: 0\n",
      "Number of model responses with incorrect formatting: 0\n",
      "\n",
      "Iteration: 43\n"
     ]
    },
    {
     "data": {
      "application/vnd.jupyter.widget-view+json": {
       "model_id": "575fe4395b664e5e849657299faabf48",
       "version_major": 2,
       "version_minor": 0
      },
      "text/plain": [
       "  0%|          | 0/1 [00:00<?, ?it/s]"
      ]
     },
     "metadata": {},
     "output_type": "display_data"
    },
    {
     "name": "stdout",
     "output_type": "stream",
     "text": [
      "Number of model responses without json: 0\n",
      "Number of model responses with incorrect formatting: 0\n",
      "\n",
      "Iteration: 44\n"
     ]
    },
    {
     "data": {
      "application/vnd.jupyter.widget-view+json": {
       "model_id": "04f34ee25d1d4f90b73b89c551e32ae6",
       "version_major": 2,
       "version_minor": 0
      },
      "text/plain": [
       "  0%|          | 0/1 [00:00<?, ?it/s]"
      ]
     },
     "metadata": {},
     "output_type": "display_data"
    },
    {
     "name": "stdout",
     "output_type": "stream",
     "text": [
      "Number of model responses without json: 0\n",
      "Number of model responses with incorrect formatting: 0\n",
      "\n",
      "Iteration: 45\n"
     ]
    },
    {
     "data": {
      "application/vnd.jupyter.widget-view+json": {
       "model_id": "b4514a32cca344029cecd303fc7a0d02",
       "version_major": 2,
       "version_minor": 0
      },
      "text/plain": [
       "  0%|          | 0/1 [00:00<?, ?it/s]"
      ]
     },
     "metadata": {},
     "output_type": "display_data"
    },
    {
     "name": "stdout",
     "output_type": "stream",
     "text": [
      "Number of model responses without json: 0\n",
      "Number of model responses with incorrect formatting: 0\n",
      "\n",
      "Iteration: 46\n"
     ]
    },
    {
     "data": {
      "application/vnd.jupyter.widget-view+json": {
       "model_id": "9e9b6bdce40d460fb199382b9a57885a",
       "version_major": 2,
       "version_minor": 0
      },
      "text/plain": [
       "  0%|          | 0/1 [00:00<?, ?it/s]"
      ]
     },
     "metadata": {},
     "output_type": "display_data"
    },
    {
     "name": "stdout",
     "output_type": "stream",
     "text": [
      "Number of model responses without json: 0\n",
      "Number of model responses with incorrect formatting: 0\n",
      "\n",
      "Iteration: 47\n"
     ]
    },
    {
     "data": {
      "application/vnd.jupyter.widget-view+json": {
       "model_id": "a2de25f4fed644cba4a27d285c44b981",
       "version_major": 2,
       "version_minor": 0
      },
      "text/plain": [
       "  0%|          | 0/1 [00:00<?, ?it/s]"
      ]
     },
     "metadata": {},
     "output_type": "display_data"
    },
    {
     "name": "stdout",
     "output_type": "stream",
     "text": [
      "Number of model responses without json: 0\n",
      "Number of model responses with incorrect formatting: 0\n",
      "\n",
      "Iteration: 48\n"
     ]
    },
    {
     "data": {
      "application/vnd.jupyter.widget-view+json": {
       "model_id": "ce64e84b4a2342c6b073dd8de3ba9726",
       "version_major": 2,
       "version_minor": 0
      },
      "text/plain": [
       "  0%|          | 0/1 [00:00<?, ?it/s]"
      ]
     },
     "metadata": {},
     "output_type": "display_data"
    },
    {
     "name": "stdout",
     "output_type": "stream",
     "text": [
      "Number of model responses without json: 0\n",
      "Number of model responses with incorrect formatting: 0\n",
      "\n",
      "Iteration: 49\n"
     ]
    },
    {
     "data": {
      "application/vnd.jupyter.widget-view+json": {
       "model_id": "25be1bf5c12940f6853807b2fe65c35f",
       "version_major": 2,
       "version_minor": 0
      },
      "text/plain": [
       "  0%|          | 0/1 [00:00<?, ?it/s]"
      ]
     },
     "metadata": {},
     "output_type": "display_data"
    },
    {
     "name": "stdout",
     "output_type": "stream",
     "text": [
      "Number of model responses without json: 0\n",
      "Number of model responses with incorrect formatting: 0\n",
      "Execution time:  906.5667181015015 s\n",
      "Language: Zulu\n"
     ]
    },
    {
     "data": {
      "application/vnd.jupyter.widget-view+json": {
       "model_id": "1a76e7a74ab14749a8a4f4a3db60df9a",
       "version_major": 2,
       "version_minor": 0
      },
      "text/plain": [
       "  0%|          | 0/3 [00:00<?, ?it/s]"
      ]
     },
     "metadata": {},
     "output_type": "display_data"
    },
    {
     "data": {
      "image/png": "[encoded data removed]",
      "text/plain": [
       "<Figure size 600x400 with 1 Axes>"
      ]
     },
     "metadata": {},
     "output_type": "display_data"
    },
    {
     "data": {
      "image/png": "[encoded data removed]",
      "text/plain": [
       "<Figure size 600x300 with 1 Axes>"
      ]
     },
     "metadata": {},
     "output_type": "display_data"
    },
    {
     "data": {
      "image/png": "[encoded data removed]",
      "text/plain": [
       "<Figure size 600x400 with 1 Axes>"
      ]
     },
     "metadata": {},
     "output_type": "display_data"
    },
    {
     "data": {
      "image/png": "[encoded data removed]",
      "text/plain": [
       "<Figure size 600x400 with 1 Axes>"
      ]
     },
     "metadata": {},
     "output_type": "display_data"
    },
    {
     "data": {
      "image/png": "[encoded data removed]",
      "text/plain": [
       "<Figure size 1600x600 with 2 Axes>"
      ]
     },
     "metadata": {},
     "output_type": "display_data"
    },
    {
     "name": "stdout",
     "output_type": "stream",
     "text": [
      "\n",
      "Iteration: 0\n"
     ]
    },
    {
     "data": {
      "application/vnd.jupyter.widget-view+json": {
       "model_id": "8e1927607b734eae88c259a964597ae1",
       "version_major": 2,
       "version_minor": 0
      },
      "text/plain": [
       "  0%|          | 0/1 [00:00<?, ?it/s]"
      ]
     },
     "metadata": {},
     "output_type": "display_data"
    },
    {
     "name": "stdout",
     "output_type": "stream",
     "text": [
      "Number of model responses without json: 0\n",
      "Number of model responses with incorrect formatting: 0\n",
      "\n",
      "Iteration: 1\n"
     ]
    },
    {
     "data": {
      "application/vnd.jupyter.widget-view+json": {
       "model_id": "8725474a16a547f6803d27e4ce02e47a",
       "version_major": 2,
       "version_minor": 0
      },
      "text/plain": [
       "  0%|          | 0/1 [00:00<?, ?it/s]"
      ]
     },
     "metadata": {},
     "output_type": "display_data"
    },
    {
     "name": "stdout",
     "output_type": "stream",
     "text": [
      "################################################################################\n",
      "Expecting value: line 15 column 6 (char 269)\n",
      "{\n",
      "  \"output\": [\n",
      "    [\"Le\", \"O\"],\n",
      "    [\"micimbi\", \"O\"],\n",
      "    [\"ayixwayani\", \"O\"],\n",
      "    [\"uma\", \"O\"],\n",
      "    [\"konke\", \"O\"],\n",
      "    [\"kuzokwenzelwa\", \"O\"],\n",
      "    [\"ekhaya\", \"O\"],\n",
      "    [\"kwenza\", \"O\"],\n",
      "    [\"kube\", \"O\"],\n",
      "    [\"lula\", \"O\"],\n",
      "    [\"kakhulu\", \"O\"],\n",
      "    [\",\", \"O\"],\n",
      "    ['\"', \"O\"],\n",
      "    [\"kusho\", \"O\"],\n",
      "    [\"uNksz\", \"B-PER\"],\n",
      "    [\"Mnyango\", \"I-PER\"],\n",
      "    [\".\", \"O\"]\n",
      "  ]\n",
      "}\n",
      "Number of model responses without json: 0\n",
      "Number of model responses with incorrect formatting: 1\n",
      "division by zero\n",
      "\n",
      "Iteration: 2\n"
     ]
    },
    {
     "data": {
      "application/vnd.jupyter.widget-view+json": {
       "model_id": "33b2874cc1944771b17e57b006ea0450",
       "version_major": 2,
       "version_minor": 0
      },
      "text/plain": [
       "  0%|          | 0/1 [00:00<?, ?it/s]"
      ]
     },
     "metadata": {},
     "output_type": "display_data"
    },
    {
     "name": "stdout",
     "output_type": "stream",
     "text": [
      "Number of model responses without json: 0\n",
      "Number of model responses with incorrect formatting: 0\n",
      "\n",
      "Iteration: 3\n"
     ]
    },
    {
     "data": {
      "application/vnd.jupyter.widget-view+json": {
       "model_id": "1ce835ac557840039bfd7ecc8fec361f",
       "version_major": 2,
       "version_minor": 0
      },
      "text/plain": [
       "  0%|          | 0/1 [00:00<?, ?it/s]"
      ]
     },
     "metadata": {},
     "output_type": "display_data"
    },
    {
     "name": "stdout",
     "output_type": "stream",
     "text": [
      "Number of model responses without json: 0\n",
      "Number of model responses with incorrect formatting: 0\n",
      "\n",
      "Iteration: 4\n"
     ]
    },
    {
     "data": {
      "application/vnd.jupyter.widget-view+json": {
       "model_id": "9d5dc3e940fa4fb698aff113ac0d4b00",
       "version_major": 2,
       "version_minor": 0
      },
      "text/plain": [
       "  0%|          | 0/1 [00:00<?, ?it/s]"
      ]
     },
     "metadata": {},
     "output_type": "display_data"
    },
    {
     "name": "stdout",
     "output_type": "stream",
     "text": [
      "Number of model responses without json: 0\n",
      "Number of model responses with incorrect formatting: 0\n",
      "\n",
      "Iteration: 5\n"
     ]
    },
    {
     "data": {
      "application/vnd.jupyter.widget-view+json": {
       "model_id": "6d925dd3e5044425a37edcca228973e7",
       "version_major": 2,
       "version_minor": 0
      },
      "text/plain": [
       "  0%|          | 0/1 [00:00<?, ?it/s]"
      ]
     },
     "metadata": {},
     "output_type": "display_data"
    },
    {
     "name": "stdout",
     "output_type": "stream",
     "text": [
      "################################################################################\n",
      "Expecting value: line 3 column 6 (char 21)\n",
      "{\n",
      "  \"output\": [\n",
      "    ['\"', \"O\"],\n",
      "    [\"UMahoota\", \"B-PER\"],\n",
      "    [\"uthe\", \"O\"],\n",
      "    [\"namhlanje\", \"O\"],\n",
      "    [\"kuzoba\", \"O\"],\n",
      "    [\"nenkonzo\", \"O\"],\n",
      "    [\"yesikhumbuzo\", \"O\"],\n",
      "    [\"eBaseline\", \"B-LOC\"],\n",
      "    [\",\", \"O\"],\n",
      "    [\"eNewtown\", \"B-LOC\"],\n",
      "    [\"ngo\", \"O\"],\n",
      "    [\"-\", \"B-DATE\"],\n",
      "    [\"2\", \"I-DATE\"],\n",
      "    [\"emini\", \"I-DATE\"],\n",
      "    [\".\", \"O\"]\n",
      "  ]\n",
      "}\n",
      "Number of model responses without json: 0\n",
      "Number of model responses with incorrect formatting: 1\n",
      "division by zero\n",
      "\n",
      "Iteration: 6\n"
     ]
    },
    {
     "data": {
      "application/vnd.jupyter.widget-view+json": {
       "model_id": "ae15e258f33f43258884b8921de9788b",
       "version_major": 2,
       "version_minor": 0
      },
      "text/plain": [
       "  0%|          | 0/1 [00:00<?, ?it/s]"
      ]
     },
     "metadata": {},
     "output_type": "display_data"
    },
    {
     "name": "stdout",
     "output_type": "stream",
     "text": [
      "Number of model responses without json: 0\n",
      "Number of model responses with incorrect formatting: 0\n",
      "\n",
      "Iteration: 7\n"
     ]
    },
    {
     "data": {
      "application/vnd.jupyter.widget-view+json": {
       "model_id": "fc1378ffe2904771803c25813dd602bd",
       "version_major": 2,
       "version_minor": 0
      },
      "text/plain": [
       "  0%|          | 0/1 [00:00<?, ?it/s]"
      ]
     },
     "metadata": {},
     "output_type": "display_data"
    },
    {
     "name": "stdout",
     "output_type": "stream",
     "text": [
      "################################################################################\n",
      "Expecting value: line 3 column 6 (char 21)\n",
      "{\n",
      "  \"output\": [\n",
      "    ['\"', \"O\"],\n",
      "    [\"Kulo\", \"B-DATE\"],\n",
      "    [\"nyaka\", \"I-DATE\"],\n",
      "    [\"kube\", \"O\"],\n",
      "    [\"nezingqinamba\", \"O\"],\n",
      "    [\"ezilinqandile\", \"O\"],\n",
      "    [\"ibhizinisi\", \"B-ORG\"],\n",
      "    [\"ukuthi\", \"O\"],\n",
      "    [\"likhule\", \"O\"],\n",
      "    [\"liphinde\", \"O\"],\n",
      "    [\"lisabalale\", \"O\"],\n",
      "    [\"ngendlela\", \"O\"],\n",
      "    [\"ebesihlele\", \"O\"],\n",
      "    [\"ngayo\", \"O\"],\n",
      "    [\"njengoba\", \"O\"],\n",
      "    [\"kuphoqeleke\", \"O\"],\n",
      "    [\"ukuthi\", \"O\"],\n",
      "    [\"sishiye\", \"O\"],\n",
      "    [\"indawo\", \"O\"],\n",
      "    [\"obekuzinze\", \"O\"],\n",
      "    [\"kuyo\", \"O\"],\n",
      "    [\"ihhovisi\", \"O\"],\n",
      "    [\",\", \"O\"],\n",
      "    [\"sayosebenzela\", \"O\"],\n",
      "    [\"ekhaya\", \"O\"],\n",
      "    [\"ngenxa\", \"O\"],\n",
      "    [\"yezimo\", \"O\"],\n",
      "    [\"zemali\", \"O\"],\n",
      "    [\"ezisixakazisile\", \"O\"],\n",
      "    [\".\", \"O\"]\n",
      "  ]\n",
      "}\n",
      "Number of model responses without json: 0\n",
      "Number of model responses with incorrect formatting: 1\n",
      "division by zero\n",
      "\n",
      "Iteration: 8\n"
     ]
    },
    {
     "data": {
      "application/vnd.jupyter.widget-view+json": {
       "model_id": "a15d0f0750f948c08056b21eeb40e8d1",
       "version_major": 2,
       "version_minor": 0
      },
      "text/plain": [
       "  0%|          | 0/1 [00:00<?, ?it/s]"
      ]
     },
     "metadata": {},
     "output_type": "display_data"
    },
    {
     "name": "stdout",
     "output_type": "stream",
     "text": [
      "Number of model responses without json: 0\n",
      "Number of model responses with incorrect formatting: 0\n",
      "\n",
      "Iteration: 9\n"
     ]
    },
    {
     "data": {
      "application/vnd.jupyter.widget-view+json": {
       "model_id": "dfb7d4267ed342d38e901711d4dfca22",
       "version_major": 2,
       "version_minor": 0
      },
      "text/plain": [
       "  0%|          | 0/1 [00:00<?, ?it/s]"
      ]
     },
     "metadata": {},
     "output_type": "display_data"
    },
    {
     "name": "stdout",
     "output_type": "stream",
     "text": [
      "Number of model responses without json: 0\n",
      "Number of model responses with incorrect formatting: 0\n",
      "\n",
      "Iteration: 10\n"
     ]
    },
    {
     "data": {
      "application/vnd.jupyter.widget-view+json": {
       "model_id": "0ee169c72af540e2b34e150c72b451d1",
       "version_major": 2,
       "version_minor": 0
      },
      "text/plain": [
       "  0%|          | 0/1 [00:00<?, ?it/s]"
      ]
     },
     "metadata": {},
     "output_type": "display_data"
    },
    {
     "name": "stdout",
     "output_type": "stream",
     "text": [
      "Number of model responses without json: 0\n",
      "Number of model responses with incorrect formatting: 0\n",
      "\n",
      "Iteration: 11\n"
     ]
    },
    {
     "data": {
      "application/vnd.jupyter.widget-view+json": {
       "model_id": "26bd3544158949199389952576a67ad7",
       "version_major": 2,
       "version_minor": 0
      },
      "text/plain": [
       "  0%|          | 0/1 [00:00<?, ?it/s]"
      ]
     },
     "metadata": {},
     "output_type": "display_data"
    },
    {
     "name": "stdout",
     "output_type": "stream",
     "text": [
      "################################################################################\n",
      "Expecting ',' delimiter: line 1 column 130 (char 129)\n",
      "{\"output\": [[\"Sizobophela\", \"O\"], [\"abadlali\", \"O\"], [\"abangu\", \"O\"], [\"-\", \"O\"], [\"11\", \"O\"], [\"abakhona\", \"O\"], [\",\", \"O\"], [\"\"\", \"O\"], [\"kusho\", \"O\"], [\"uTruter\", \"B-PER\"], [\".\", \"O\"]]}\n",
      "Number of model responses without json: 0\n",
      "Number of model responses with incorrect formatting: 1\n",
      "division by zero\n",
      "\n",
      "Iteration: 12\n"
     ]
    },
    {
     "data": {
      "application/vnd.jupyter.widget-view+json": {
       "model_id": "01f247fa9e734ff187cebd7ce6f647a9",
       "version_major": 2,
       "version_minor": 0
      },
      "text/plain": [
       "  0%|          | 0/1 [00:00<?, ?it/s]"
      ]
     },
     "metadata": {},
     "output_type": "display_data"
    },
    {
     "name": "stdout",
     "output_type": "stream",
     "text": [
      "Number of model responses without json: 0\n",
      "Number of model responses with incorrect formatting: 0\n",
      "\n",
      "Iteration: 13\n"
     ]
    },
    {
     "data": {
      "application/vnd.jupyter.widget-view+json": {
       "model_id": "5bd90d0f8e8b4574b53b33a35d573167",
       "version_major": 2,
       "version_minor": 0
      },
      "text/plain": [
       "  0%|          | 0/1 [00:00<?, ?it/s]"
      ]
     },
     "metadata": {},
     "output_type": "display_data"
    },
    {
     "name": "stdout",
     "output_type": "stream",
     "text": [
      "Number of model responses without json: 0\n",
      "Number of model responses with incorrect formatting: 0\n",
      "\n",
      "Iteration: 14\n"
     ]
    },
    {
     "data": {
      "application/vnd.jupyter.widget-view+json": {
       "model_id": "6f64fe911cd844598b20553d4c5cee4d",
       "version_major": 2,
       "version_minor": 0
      },
      "text/plain": [
       "  0%|          | 0/1 [00:00<?, ?it/s]"
      ]
     },
     "metadata": {},
     "output_type": "display_data"
    },
    {
     "name": "stdout",
     "output_type": "stream",
     "text": [
      "Number of model responses without json: 0\n",
      "Number of model responses with incorrect formatting: 0\n",
      "\n",
      "Iteration: 15\n"
     ]
    },
    {
     "data": {
      "application/vnd.jupyter.widget-view+json": {
       "model_id": "5d4f88eef68b4dada08ea2b686ffb349",
       "version_major": 2,
       "version_minor": 0
      },
      "text/plain": [
       "  0%|          | 0/1 [00:00<?, ?it/s]"
      ]
     },
     "metadata": {},
     "output_type": "display_data"
    },
    {
     "name": "stdout",
     "output_type": "stream",
     "text": [
      "Number of model responses without json: 0\n",
      "Number of model responses with incorrect formatting: 0\n",
      "\n",
      "Iteration: 16\n"
     ]
    },
    {
     "data": {
      "application/vnd.jupyter.widget-view+json": {
       "model_id": "3ccafb758ca746d8a074e22bc6d25f6e",
       "version_major": 2,
       "version_minor": 0
      },
      "text/plain": [
       "  0%|          | 0/1 [00:00<?, ?it/s]"
      ]
     },
     "metadata": {},
     "output_type": "display_data"
    },
    {
     "name": "stdout",
     "output_type": "stream",
     "text": [
      "Number of model responses without json: 0\n",
      "Number of model responses with incorrect formatting: 0\n",
      "\n",
      "Iteration: 17\n"
     ]
    },
    {
     "data": {
      "application/vnd.jupyter.widget-view+json": {
       "model_id": "a607a8803df043e191aa41283a298bb7",
       "version_major": 2,
       "version_minor": 0
      },
      "text/plain": [
       "  0%|          | 0/1 [00:00<?, ?it/s]"
      ]
     },
     "metadata": {},
     "output_type": "display_data"
    },
    {
     "name": "stdout",
     "output_type": "stream",
     "text": [
      "Number of model responses without json: 0\n",
      "Number of model responses with incorrect formatting: 0\n",
      "\n",
      "Iteration: 18\n"
     ]
    },
    {
     "data": {
      "application/vnd.jupyter.widget-view+json": {
       "model_id": "6bbbd556e2364217807919eba5959da7",
       "version_major": 2,
       "version_minor": 0
      },
      "text/plain": [
       "  0%|          | 0/1 [00:00<?, ?it/s]"
      ]
     },
     "metadata": {},
     "output_type": "display_data"
    },
    {
     "name": "stdout",
     "output_type": "stream",
     "text": [
      "Number of model responses without json: 0\n",
      "Number of model responses with incorrect formatting: 0\n",
      "\n",
      "Iteration: 19\n"
     ]
    },
    {
     "data": {
      "application/vnd.jupyter.widget-view+json": {
       "model_id": "0417eabdf6794924b7d1a9e27ead8545",
       "version_major": 2,
       "version_minor": 0
      },
      "text/plain": [
       "  0%|          | 0/1 [00:00<?, ?it/s]"
      ]
     },
     "metadata": {},
     "output_type": "display_data"
    },
    {
     "name": "stdout",
     "output_type": "stream",
     "text": [
      "Number of model responses without json: 0\n",
      "Number of model responses with incorrect formatting: 0\n",
      "\n",
      "Iteration: 20\n"
     ]
    },
    {
     "data": {
      "application/vnd.jupyter.widget-view+json": {
       "model_id": "b2a76a97dacc45ddb143b3a207c7bc9d",
       "version_major": 2,
       "version_minor": 0
      },
      "text/plain": [
       "  0%|          | 0/1 [00:00<?, ?it/s]"
      ]
     },
     "metadata": {},
     "output_type": "display_data"
    },
    {
     "name": "stdout",
     "output_type": "stream",
     "text": [
      "Number of model responses without json: 0\n",
      "Number of model responses with incorrect formatting: 0\n",
      "\n",
      "Iteration: 21\n"
     ]
    },
    {
     "data": {
      "application/vnd.jupyter.widget-view+json": {
       "model_id": "7c9ebb33a6274a8d804f50424640fa61",
       "version_major": 2,
       "version_minor": 0
      },
      "text/plain": [
       "  0%|          | 0/1 [00:00<?, ?it/s]"
      ]
     },
     "metadata": {},
     "output_type": "display_data"
    },
    {
     "name": "stdout",
     "output_type": "stream",
     "text": [
      "Number of model responses without json: 0\n",
      "Number of model responses with incorrect formatting: 0\n",
      "\n",
      "Iteration: 22\n"
     ]
    },
    {
     "data": {
      "application/vnd.jupyter.widget-view+json": {
       "model_id": "aebe5674f1e14b7e875887eaeb7549ac",
       "version_major": 2,
       "version_minor": 0
      },
      "text/plain": [
       "  0%|          | 0/1 [00:00<?, ?it/s]"
      ]
     },
     "metadata": {},
     "output_type": "display_data"
    },
    {
     "name": "stdout",
     "output_type": "stream",
     "text": [
      "Number of model responses without json: 0\n",
      "Number of model responses with incorrect formatting: 0\n",
      "\n",
      "Iteration: 23\n"
     ]
    },
    {
     "data": {
      "application/vnd.jupyter.widget-view+json": {
       "model_id": "45cdc349238e42e4a4c7f18fb2e5edf8",
       "version_major": 2,
       "version_minor": 0
      },
      "text/plain": [
       "  0%|          | 0/1 [00:00<?, ?it/s]"
      ]
     },
     "metadata": {},
     "output_type": "display_data"
    },
    {
     "name": "stdout",
     "output_type": "stream",
     "text": [
      "Number of model responses without json: 0\n",
      "Number of model responses with incorrect formatting: 0\n",
      "\n",
      "Iteration: 24\n"
     ]
    },
    {
     "data": {
      "application/vnd.jupyter.widget-view+json": {
       "model_id": "f25ffe669e894dfd81af80c9adc3f20c",
       "version_major": 2,
       "version_minor": 0
      },
      "text/plain": [
       "  0%|          | 0/1 [00:00<?, ?it/s]"
      ]
     },
     "metadata": {},
     "output_type": "display_data"
    },
    {
     "name": "stdout",
     "output_type": "stream",
     "text": [
      "################################################################################\n",
      "Expecting ',' delimiter: line 18 column 8 (char 324)\n",
      "{\n",
      "  \"output\": [\n",
      "    [\"Sizimisele\", \"O\"],\n",
      "    [\"ngokuthi\", \"O\"],\n",
      "    [\"siyilwe\", \"O\"],\n",
      "    [\"le\", \"O\"],\n",
      "    [\"mpi\", \"O\"],\n",
      "    [\"uma\", \"O\"],\n",
      "    [\"lo\", \"O\"],\n",
      "    [\"mculi\", \"O\"],\n",
      "    [\"(\", \"O\"],\n",
      "    [\"uGlama\", \"B-PER\"],\n",
      "    [\")\", \"O\"],\n",
      "    [\"engenzi\", \"O\"],\n",
      "    [\"ngendlela\", \"O\"],\n",
      "    [\"efanele\", \"O\"],\n",
      "    [\",\", \"O\"],\n",
      "    [\"\"\", \"O\"],\n",
      "    [\"kubeka\", \"O\"],\n",
      "    [\"uMeyiwa\", \"B-PER\"],\n",
      "    [\".\", \"O\"]\n",
      "  ]\n",
      "}\n",
      "Number of model responses without json: 0\n",
      "Number of model responses with incorrect formatting: 1\n",
      "division by zero\n",
      "\n",
      "Iteration: 25\n"
     ]
    },
    {
     "data": {
      "application/vnd.jupyter.widget-view+json": {
       "model_id": "d69e2a74f7ae451e81aa4e7d6ae98ef9",
       "version_major": 2,
       "version_minor": 0
      },
      "text/plain": [
       "  0%|          | 0/1 [00:00<?, ?it/s]"
      ]
     },
     "metadata": {},
     "output_type": "display_data"
    },
    {
     "name": "stdout",
     "output_type": "stream",
     "text": [
      "Number of model responses without json: 0\n",
      "Number of model responses with incorrect formatting: 0\n",
      "\n",
      "Iteration: 26\n"
     ]
    },
    {
     "data": {
      "application/vnd.jupyter.widget-view+json": {
       "model_id": "8b2efa22bb6648a3808775168e6f671f",
       "version_major": 2,
       "version_minor": 0
      },
      "text/plain": [
       "  0%|          | 0/1 [00:00<?, ?it/s]"
      ]
     },
     "metadata": {},
     "output_type": "display_data"
    },
    {
     "name": "stdout",
     "output_type": "stream",
     "text": [
      "Number of model responses without json: 0\n",
      "Number of model responses with incorrect formatting: 0\n",
      "\n",
      "Iteration: 27\n"
     ]
    },
    {
     "data": {
      "application/vnd.jupyter.widget-view+json": {
       "model_id": "bc24ac178d2e437b876367768f13b30c",
       "version_major": 2,
       "version_minor": 0
      },
      "text/plain": [
       "  0%|          | 0/1 [00:00<?, ?it/s]"
      ]
     },
     "metadata": {},
     "output_type": "display_data"
    },
    {
     "name": "stdout",
     "output_type": "stream",
     "text": [
      "Number of model responses without json: 0\n",
      "Number of model responses with incorrect formatting: 0\n",
      "\n",
      "Iteration: 28\n"
     ]
    },
    {
     "data": {
      "application/vnd.jupyter.widget-view+json": {
       "model_id": "03ac7bf5759742518cde98445212c9a1",
       "version_major": 2,
       "version_minor": 0
      },
      "text/plain": [
       "  0%|          | 0/1 [00:00<?, ?it/s]"
      ]
     },
     "metadata": {},
     "output_type": "display_data"
    },
    {
     "name": "stdout",
     "output_type": "stream",
     "text": [
      "Number of model responses without json: 0\n",
      "Number of model responses with incorrect formatting: 0\n",
      "\n",
      "Iteration: 29\n"
     ]
    },
    {
     "data": {
      "application/vnd.jupyter.widget-view+json": {
       "model_id": "b153472a7c5e4ba687aa7ccb680ab679",
       "version_major": 2,
       "version_minor": 0
      },
      "text/plain": [
       "  0%|          | 0/1 [00:00<?, ?it/s]"
      ]
     },
     "metadata": {},
     "output_type": "display_data"
    },
    {
     "name": "stdout",
     "output_type": "stream",
     "text": [
      "################################################################################\n",
      "Expecting ',' delimiter: line 28 column 8 (char 574)\n",
      "{\n",
      "  \"output\": [\n",
      "    [\"Lasunguleka\", \"O\"],\n",
      "    [\"kanjalo\", \"O\"],\n",
      "    [\"iqembu\", \"O\"],\n",
      "    [\"ngaliqamba\", \"O\"],\n",
      "    [\"ngokuthi\", \"O\"],\n",
      "    [\"Ubuhle\", \"B-ORG\"],\n",
      "    [\"Bemvelo\", \"I-ORG\"],\n",
      "    [\",\", \"O\"],\n",
      "    [\"ngoba\", \"O\"],\n",
      "    [\"uma\", \"O\"],\n",
      "    [\"sihamba\", \"O\"],\n",
      "    [\"sibona\", \"O\"],\n",
      "    [\"ubuhle\", \"O\"],\n",
      "    [\"bemvelo\", \"O\"],\n",
      "    [\"kanti\", \"O\"],\n",
      "    [\"imvelo\", \"O\"],\n",
      "    [\"yiyo\", \"O\"],\n",
      "    [\"eselaphayo\", \"O\"],\n",
      "    [\"ezinkingeni\", \"O\"],\n",
      "    [\"esisuke\", \"O\"],\n",
      "    [\"sinazo\", \"O\"],\n",
      "    [\"ngesikhathi\", \"O\"],\n",
      "    [\"sihamba\", \"O\"],\n",
      "    [\"ezintabeni\", \"O\"],\n",
      "    [\",\", \"O\"],\n",
      "    [\"\"\", \"O\"],\n",
      "    [\"kusho\", \"O\"],\n",
      "    [\"yena\", \"O\"],\n",
      "    [\".\", \"O\"]\n",
      "  ]\n",
      "}\n",
      "Number of model responses without json: 0\n",
      "Number of model responses with incorrect formatting: 1\n",
      "division by zero\n",
      "\n",
      "Iteration: 30\n"
     ]
    },
    {
     "data": {
      "application/vnd.jupyter.widget-view+json": {
       "model_id": "a30d33e1da0f4d678c2fd3147b31b537",
       "version_major": 2,
       "version_minor": 0
      },
      "text/plain": [
       "  0%|          | 0/1 [00:00<?, ?it/s]"
      ]
     },
     "metadata": {},
     "output_type": "display_data"
    },
    {
     "name": "stdout",
     "output_type": "stream",
     "text": [
      "Number of model responses without json: 0\n",
      "Number of model responses with incorrect formatting: 0\n",
      "\n",
      "Iteration: 31\n"
     ]
    },
    {
     "data": {
      "application/vnd.jupyter.widget-view+json": {
       "model_id": "822234e21a054209854fe5bef7f55e65",
       "version_major": 2,
       "version_minor": 0
      },
      "text/plain": [
       "  0%|          | 0/1 [00:00<?, ?it/s]"
      ]
     },
     "metadata": {},
     "output_type": "display_data"
    },
    {
     "name": "stdout",
     "output_type": "stream",
     "text": [
      "Number of model responses without json: 0\n",
      "Number of model responses with incorrect formatting: 0\n",
      "\n",
      "Iteration: 32\n"
     ]
    },
    {
     "data": {
      "application/vnd.jupyter.widget-view+json": {
       "model_id": "ae8db6f9643d498bb8b21e295bc0f444",
       "version_major": 2,
       "version_minor": 0
      },
      "text/plain": [
       "  0%|          | 0/1 [00:00<?, ?it/s]"
      ]
     },
     "metadata": {},
     "output_type": "display_data"
    },
    {
     "name": "stdout",
     "output_type": "stream",
     "text": [
      "Number of model responses without json: 0\n",
      "Number of model responses with incorrect formatting: 0\n",
      "\n",
      "Iteration: 33\n"
     ]
    },
    {
     "data": {
      "application/vnd.jupyter.widget-view+json": {
       "model_id": "fdb81700ded147f681d05cffde20b4ed",
       "version_major": 2,
       "version_minor": 0
      },
      "text/plain": [
       "  0%|          | 0/1 [00:00<?, ?it/s]"
      ]
     },
     "metadata": {},
     "output_type": "display_data"
    },
    {
     "name": "stdout",
     "output_type": "stream",
     "text": [
      "Number of model responses without json: 0\n",
      "Number of model responses with incorrect formatting: 0\n",
      "\n",
      "Iteration: 34\n"
     ]
    },
    {
     "data": {
      "application/vnd.jupyter.widget-view+json": {
       "model_id": "68f2521c6db643cd846602e398cb3600",
       "version_major": 2,
       "version_minor": 0
      },
      "text/plain": [
       "  0%|          | 0/1 [00:00<?, ?it/s]"
      ]
     },
     "metadata": {},
     "output_type": "display_data"
    },
    {
     "name": "stdout",
     "output_type": "stream",
     "text": [
      "Number of model responses without json: 0\n",
      "Number of model responses with incorrect formatting: 0\n",
      "\n",
      "Iteration: 35\n"
     ]
    },
    {
     "data": {
      "application/vnd.jupyter.widget-view+json": {
       "model_id": "c1b5c950a31d49a39212f3168bcbc233",
       "version_major": 2,
       "version_minor": 0
      },
      "text/plain": [
       "  0%|          | 0/1 [00:00<?, ?it/s]"
      ]
     },
     "metadata": {},
     "output_type": "display_data"
    },
    {
     "name": "stdout",
     "output_type": "stream",
     "text": [
      "Number of model responses without json: 0\n",
      "Number of model responses with incorrect formatting: 0\n",
      "\n",
      "Iteration: 36\n"
     ]
    },
    {
     "data": {
      "application/vnd.jupyter.widget-view+json": {
       "model_id": "cef0b074af0f4f0fb98c5b6b97eaeb68",
       "version_major": 2,
       "version_minor": 0
      },
      "text/plain": [
       "  0%|          | 0/1 [00:00<?, ?it/s]"
      ]
     },
     "metadata": {},
     "output_type": "display_data"
    },
    {
     "name": "stdout",
     "output_type": "stream",
     "text": [
      "Number of model responses without json: 0\n",
      "Number of model responses with incorrect formatting: 0\n",
      "\n",
      "Iteration: 37\n"
     ]
    },
    {
     "data": {
      "application/vnd.jupyter.widget-view+json": {
       "model_id": "bd49761c1b8a4a9683d613314d123f25",
       "version_major": 2,
       "version_minor": 0
      },
      "text/plain": [
       "  0%|          | 0/1 [00:00<?, ?it/s]"
      ]
     },
     "metadata": {},
     "output_type": "display_data"
    },
    {
     "name": "stdout",
     "output_type": "stream",
     "text": [
      "Number of model responses without json: 0\n",
      "Number of model responses with incorrect formatting: 0\n",
      "\n",
      "Iteration: 38\n"
     ]
    },
    {
     "data": {
      "application/vnd.jupyter.widget-view+json": {
       "model_id": "f401f797e9a74583909dc689c5d3bf52",
       "version_major": 2,
       "version_minor": 0
      },
      "text/plain": [
       "  0%|          | 0/1 [00:00<?, ?it/s]"
      ]
     },
     "metadata": {},
     "output_type": "display_data"
    },
    {
     "name": "stdout",
     "output_type": "stream",
     "text": [
      "Number of model responses without json: 0\n",
      "Number of model responses with incorrect formatting: 0\n",
      "\n",
      "Iteration: 39\n"
     ]
    },
    {
     "data": {
      "application/vnd.jupyter.widget-view+json": {
       "model_id": "b921edae0933461698b49a82f09021b4",
       "version_major": 2,
       "version_minor": 0
      },
      "text/plain": [
       "  0%|          | 0/1 [00:00<?, ?it/s]"
      ]
     },
     "metadata": {},
     "output_type": "display_data"
    },
    {
     "name": "stdout",
     "output_type": "stream",
     "text": [
      "Number of model responses without json: 0\n",
      "Number of model responses with incorrect formatting: 0\n",
      "\n",
      "Iteration: 40\n"
     ]
    },
    {
     "data": {
      "application/vnd.jupyter.widget-view+json": {
       "model_id": "0782d19194dd47f58bc8723be050fb7a",
       "version_major": 2,
       "version_minor": 0
      },
      "text/plain": [
       "  0%|          | 0/1 [00:00<?, ?it/s]"
      ]
     },
     "metadata": {},
     "output_type": "display_data"
    },
    {
     "name": "stdout",
     "output_type": "stream",
     "text": [
      "Number of model responses without json: 0\n",
      "Number of model responses with incorrect formatting: 0\n",
      "\n",
      "Iteration: 41\n"
     ]
    },
    {
     "data": {
      "application/vnd.jupyter.widget-view+json": {
       "model_id": "ddde04ffb6184fe291a3a4c8dfc8a9bf",
       "version_major": 2,
       "version_minor": 0
      },
      "text/plain": [
       "  0%|          | 0/1 [00:00<?, ?it/s]"
      ]
     },
     "metadata": {},
     "output_type": "display_data"
    },
    {
     "name": "stdout",
     "output_type": "stream",
     "text": [
      "Number of model responses without json: 0\n",
      "Number of model responses with incorrect formatting: 0\n",
      "\n",
      "Iteration: 42\n"
     ]
    },
    {
     "data": {
      "application/vnd.jupyter.widget-view+json": {
       "model_id": "e2ecd3704f824df5a278930ee74b9d3a",
       "version_major": 2,
       "version_minor": 0
      },
      "text/plain": [
       "  0%|          | 0/1 [00:00<?, ?it/s]"
      ]
     },
     "metadata": {},
     "output_type": "display_data"
    },
    {
     "name": "stdout",
     "output_type": "stream",
     "text": [
      "Number of model responses without json: 0\n",
      "Number of model responses with incorrect formatting: 0\n",
      "\n",
      "Iteration: 43\n"
     ]
    },
    {
     "data": {
      "application/vnd.jupyter.widget-view+json": {
       "model_id": "f37aafff40bd46d78e6842a0320a0147",
       "version_major": 2,
       "version_minor": 0
      },
      "text/plain": [
       "  0%|          | 0/1 [00:00<?, ?it/s]"
      ]
     },
     "metadata": {},
     "output_type": "display_data"
    },
    {
     "name": "stdout",
     "output_type": "stream",
     "text": [
      "Number of model responses without json: 0\n",
      "Number of model responses with incorrect formatting: 0\n",
      "\n",
      "Iteration: 44\n"
     ]
    },
    {
     "data": {
      "application/vnd.jupyter.widget-view+json": {
       "model_id": "fbb0bcfd0cf24fd89852a3993e57763f",
       "version_major": 2,
       "version_minor": 0
      },
      "text/plain": [
       "  0%|          | 0/1 [00:00<?, ?it/s]"
      ]
     },
     "metadata": {},
     "output_type": "display_data"
    },
    {
     "name": "stdout",
     "output_type": "stream",
     "text": [
      "Number of model responses without json: 0\n",
      "Number of model responses with incorrect formatting: 0\n",
      "\n",
      "Iteration: 45\n"
     ]
    },
    {
     "data": {
      "application/vnd.jupyter.widget-view+json": {
       "model_id": "87ac27e4f6a946529a7b4f7d993e4adf",
       "version_major": 2,
       "version_minor": 0
      },
      "text/plain": [
       "  0%|          | 0/1 [00:00<?, ?it/s]"
      ]
     },
     "metadata": {},
     "output_type": "display_data"
    },
    {
     "name": "stdout",
     "output_type": "stream",
     "text": [
      "Number of model responses without json: 0\n",
      "Number of model responses with incorrect formatting: 0\n",
      "\n",
      "Iteration: 46\n"
     ]
    },
    {
     "data": {
      "application/vnd.jupyter.widget-view+json": {
       "model_id": "af7620e8e59343f892c7f1a9752774a3",
       "version_major": 2,
       "version_minor": 0
      },
      "text/plain": [
       "  0%|          | 0/1 [00:00<?, ?it/s]"
      ]
     },
     "metadata": {},
     "output_type": "display_data"
    },
    {
     "name": "stdout",
     "output_type": "stream",
     "text": [
      "Number of model responses without json: 0\n",
      "Number of model responses with incorrect formatting: 0\n",
      "\n",
      "Iteration: 47\n"
     ]
    },
    {
     "data": {
      "application/vnd.jupyter.widget-view+json": {
       "model_id": "8851f1d8203e4d3f810d561918232685",
       "version_major": 2,
       "version_minor": 0
      },
      "text/plain": [
       "  0%|          | 0/1 [00:00<?, ?it/s]"
      ]
     },
     "metadata": {},
     "output_type": "display_data"
    },
    {
     "name": "stdout",
     "output_type": "stream",
     "text": [
      "Number of model responses without json: 0\n",
      "Number of model responses with incorrect formatting: 0\n",
      "\n",
      "Iteration: 48\n"
     ]
    },
    {
     "data": {
      "application/vnd.jupyter.widget-view+json": {
       "model_id": "3a974f30966947c8bb4e4ec633b83a80",
       "version_major": 2,
       "version_minor": 0
      },
      "text/plain": [
       "  0%|          | 0/1 [00:00<?, ?it/s]"
      ]
     },
     "metadata": {},
     "output_type": "display_data"
    },
    {
     "name": "stdout",
     "output_type": "stream",
     "text": [
      "Number of model responses without json: 0\n",
      "Number of model responses with incorrect formatting: 0\n",
      "\n",
      "Iteration: 49\n"
     ]
    },
    {
     "data": {
      "application/vnd.jupyter.widget-view+json": {
       "model_id": "44d95fc46aa4416a934ed75f4d44115d",
       "version_major": 2,
       "version_minor": 0
      },
      "text/plain": [
       "  0%|          | 0/1 [00:00<?, ?it/s]"
      ]
     },
     "metadata": {},
     "output_type": "display_data"
    },
    {
     "name": "stdout",
     "output_type": "stream",
     "text": [
      "Number of model responses without json: 0\n",
      "Number of model responses with incorrect formatting: 0\n",
      "Execution time:  826.6336860656738 s\n",
      "Language: Bambara\n"
     ]
    },
    {
     "data": {
      "application/vnd.jupyter.widget-view+json": {
       "model_id": "249289647b4c43af8aa7553b3dc5eade",
       "version_major": 2,
       "version_minor": 0
      },
      "text/plain": [
       "  0%|          | 0/3 [00:00<?, ?it/s]"
      ]
     },
     "metadata": {},
     "output_type": "display_data"
    },
    {
     "data": {
      "image/png": "[encoded data removed]",
      "text/plain": [
       "<Figure size 600x400 with 1 Axes>"
      ]
     },
     "metadata": {},
     "output_type": "display_data"
    },
    {
     "data": {
      "image/png": "[encoded data removed]",
      "text/plain": [
       "<Figure size 600x300 with 1 Axes>"
      ]
     },
     "metadata": {},
     "output_type": "display_data"
    },
    {
     "data": {
      "image/png": "[encoded data removed]",
      "text/plain": [
       "<Figure size 600x400 with 1 Axes>"
      ]
     },
     "metadata": {},
     "output_type": "display_data"
    },
    {
     "data": {
      "image/png": "[encoded data removed]",
      "text/plain": [
       "<Figure size 600x400 with 1 Axes>"
      ]
     },
     "metadata": {},
     "output_type": "display_data"
    },
    {
     "data": {
      "image/png": "[encoded data removed]",
      "text/plain": [
       "<Figure size 1600x600 with 2 Axes>"
      ]
     },
     "metadata": {},
     "output_type": "display_data"
    },
    {
     "name": "stdout",
     "output_type": "stream",
     "text": [
      "\n",
      "Iteration: 0\n"
     ]
    },
    {
     "data": {
      "application/vnd.jupyter.widget-view+json": {
       "model_id": "d6bc42d7c25041f4a7810677d04eff26",
       "version_major": 2,
       "version_minor": 0
      },
      "text/plain": [
       "  0%|          | 0/1 [00:00<?, ?it/s]"
      ]
     },
     "metadata": {},
     "output_type": "display_data"
    },
    {
     "name": "stdout",
     "output_type": "stream",
     "text": [
      "Number of model responses without json: 0\n",
      "Number of model responses with incorrect formatting: 0\n",
      "\n",
      "Iteration: 1\n"
     ]
    },
    {
     "data": {
      "application/vnd.jupyter.widget-view+json": {
       "model_id": "137753014be443399b81ff57fb8f6fa4",
       "version_major": 2,
       "version_minor": 0
      },
      "text/plain": [
       "  0%|          | 0/1 [00:00<?, ?it/s]"
      ]
     },
     "metadata": {},
     "output_type": "display_data"
    },
    {
     "name": "stdout",
     "output_type": "stream",
     "text": [
      "Number of model responses without json: 0\n",
      "Number of model responses with incorrect formatting: 0\n",
      "\n",
      "Iteration: 2\n"
     ]
    },
    {
     "data": {
      "application/vnd.jupyter.widget-view+json": {
       "model_id": "54bb09542eb94107b66f4a1c827beae4",
       "version_major": 2,
       "version_minor": 0
      },
      "text/plain": [
       "  0%|          | 0/1 [00:00<?, ?it/s]"
      ]
     },
     "metadata": {},
     "output_type": "display_data"
    },
    {
     "name": "stdout",
     "output_type": "stream",
     "text": [
      "Number of model responses without json: 0\n",
      "Number of model responses with incorrect formatting: 0\n",
      "\n",
      "Iteration: 3\n"
     ]
    },
    {
     "data": {
      "application/vnd.jupyter.widget-view+json": {
       "model_id": "4302a71114214607bbd12f277ef1c4b6",
       "version_major": 2,
       "version_minor": 0
      },
      "text/plain": [
       "  0%|          | 0/1 [00:00<?, ?it/s]"
      ]
     },
     "metadata": {},
     "output_type": "display_data"
    },
    {
     "name": "stdout",
     "output_type": "stream",
     "text": [
      "################################################################################\n",
      "Expecting property name enclosed in double quotes: line 1 column 3 (char 2)\n",
      "{ 'output': [['A', 'O'], ['ka', 'O'], ['fan', 'O'], ['na', 'O'], [',', 'O'], ['Seku', 'B-PER'], ['Sɛki', 'I-PER'], ['a', 'O'], ['bɛ', 'O'], ['fɔ', 'O'], ['min', 'O'], ['ma', 'O'], ['Bako', 'B-PER'], [',', 'O'], ['SEYƐSI', 'B-ORG'], ['Duguwolofila', 'I-ORG'], ['degelikaramɔgɔ', 'O'], [\"bɛn'a\", 'O'], ['fɔ', 'O'], [\"k'a\", 'O'], ['ye', 'O'], ['ɛsitadi', 'O'], ['maliyɛn', 'O'], ['ka', 'O'], ['ntolatantɔn', 'O'], ['ɲumanba', 'O'], ['ye', 'O'], ['.', 'O']] }\n",
      "Number of model responses without json: 0\n",
      "Number of model responses with incorrect formatting: 1\n",
      "division by zero\n",
      "\n",
      "Iteration: 4\n"
     ]
    },
    {
     "data": {
      "application/vnd.jupyter.widget-view+json": {
       "model_id": "d910895c3de64a849b8f7c868c286afa",
       "version_major": 2,
       "version_minor": 0
      },
      "text/plain": [
       "  0%|          | 0/1 [00:00<?, ?it/s]"
      ]
     },
     "metadata": {},
     "output_type": "display_data"
    },
    {
     "name": "stdout",
     "output_type": "stream",
     "text": [
      "Number of model responses without json: 0\n",
      "Number of model responses with incorrect formatting: 0\n",
      "\n",
      "Iteration: 5\n"
     ]
    },
    {
     "data": {
      "application/vnd.jupyter.widget-view+json": {
       "model_id": "2864478f7ced4868a68ce7b2cdddfb7f",
       "version_major": 2,
       "version_minor": 0
      },
      "text/plain": [
       "  0%|          | 0/1 [00:00<?, ?it/s]"
      ]
     },
     "metadata": {},
     "output_type": "display_data"
    },
    {
     "name": "stdout",
     "output_type": "stream",
     "text": [
      "Number of model responses without json: 0\n",
      "Number of model responses with incorrect formatting: 0\n",
      "\n",
      "Iteration: 6\n"
     ]
    },
    {
     "data": {
      "application/vnd.jupyter.widget-view+json": {
       "model_id": "a1fb41eacebd48c6b6a10c2a40794e0b",
       "version_major": 2,
       "version_minor": 0
      },
      "text/plain": [
       "  0%|          | 0/1 [00:00<?, ?it/s]"
      ]
     },
     "metadata": {},
     "output_type": "display_data"
    },
    {
     "name": "stdout",
     "output_type": "stream",
     "text": [
      "Number of model responses without json: 0\n",
      "Number of model responses with incorrect formatting: 0\n",
      "\n",
      "Iteration: 7\n"
     ]
    },
    {
     "data": {
      "application/vnd.jupyter.widget-view+json": {
       "model_id": "193359f529c64059aa895e349a0a32de",
       "version_major": 2,
       "version_minor": 0
      },
      "text/plain": [
       "  0%|          | 0/1 [00:00<?, ?it/s]"
      ]
     },
     "metadata": {},
     "output_type": "display_data"
    },
    {
     "name": "stdout",
     "output_type": "stream",
     "text": [
      "Number of model responses without json: 0\n",
      "Number of model responses with incorrect formatting: 0\n",
      "\n",
      "Iteration: 8\n"
     ]
    },
    {
     "data": {
      "application/vnd.jupyter.widget-view+json": {
       "model_id": "32edd71eae394c35aafa2dbef97da7b1",
       "version_major": 2,
       "version_minor": 0
      },
      "text/plain": [
       "  0%|          | 0/1 [00:00<?, ?it/s]"
      ]
     },
     "metadata": {},
     "output_type": "display_data"
    },
    {
     "name": "stdout",
     "output_type": "stream",
     "text": [
      "Number of model responses without json: 0\n",
      "Number of model responses with incorrect formatting: 0\n",
      "\n",
      "Iteration: 9\n"
     ]
    },
    {
     "data": {
      "application/vnd.jupyter.widget-view+json": {
       "model_id": "11072a3c0e1941e3bf58e708752ccfa1",
       "version_major": 2,
       "version_minor": 0
      },
      "text/plain": [
       "  0%|          | 0/1 [00:00<?, ?it/s]"
      ]
     },
     "metadata": {},
     "output_type": "display_data"
    },
    {
     "name": "stdout",
     "output_type": "stream",
     "text": [
      "Number of model responses without json: 0\n",
      "Number of model responses with incorrect formatting: 0\n",
      "\n",
      "Iteration: 10\n"
     ]
    },
    {
     "data": {
      "application/vnd.jupyter.widget-view+json": {
       "model_id": "1df68b0dd8824ed8af44822322bc9053",
       "version_major": 2,
       "version_minor": 0
      },
      "text/plain": [
       "  0%|          | 0/1 [00:00<?, ?it/s]"
      ]
     },
     "metadata": {},
     "output_type": "display_data"
    },
    {
     "name": "stdout",
     "output_type": "stream",
     "text": [
      "Number of model responses without json: 0\n",
      "Number of model responses with incorrect formatting: 0\n",
      "\n",
      "Iteration: 11\n"
     ]
    },
    {
     "data": {
      "application/vnd.jupyter.widget-view+json": {
       "model_id": "8a61065e949a4af489ea39bd72ce112a",
       "version_major": 2,
       "version_minor": 0
      },
      "text/plain": [
       "  0%|          | 0/1 [00:00<?, ?it/s]"
      ]
     },
     "metadata": {},
     "output_type": "display_data"
    },
    {
     "name": "stdout",
     "output_type": "stream",
     "text": [
      "Number of model responses without json: 0\n",
      "Number of model responses with incorrect formatting: 0\n",
      "\n",
      "Iteration: 12\n"
     ]
    },
    {
     "data": {
      "application/vnd.jupyter.widget-view+json": {
       "model_id": "132a6592ba6346ecb686fe99d42d93a6",
       "version_major": 2,
       "version_minor": 0
      },
      "text/plain": [
       "  0%|          | 0/1 [00:00<?, ?it/s]"
      ]
     },
     "metadata": {},
     "output_type": "display_data"
    },
    {
     "name": "stdout",
     "output_type": "stream",
     "text": [
      "Number of model responses without json: 0\n",
      "Number of model responses with incorrect formatting: 0\n",
      "\n",
      "Iteration: 13\n"
     ]
    },
    {
     "data": {
      "application/vnd.jupyter.widget-view+json": {
       "model_id": "ee52437cb8c5461aaa18dcabc8c0fadb",
       "version_major": 2,
       "version_minor": 0
      },
      "text/plain": [
       "  0%|          | 0/1 [00:00<?, ?it/s]"
      ]
     },
     "metadata": {},
     "output_type": "display_data"
    },
    {
     "name": "stdout",
     "output_type": "stream",
     "text": [
      "Number of model responses without json: 0\n",
      "Number of model responses with incorrect formatting: 0\n",
      "\n",
      "Iteration: 14\n"
     ]
    },
    {
     "data": {
      "application/vnd.jupyter.widget-view+json": {
       "model_id": "3d34d61d35924e2983c1d2d00eb47434",
       "version_major": 2,
       "version_minor": 0
      },
      "text/plain": [
       "  0%|          | 0/1 [00:00<?, ?it/s]"
      ]
     },
     "metadata": {},
     "output_type": "display_data"
    },
    {
     "name": "stdout",
     "output_type": "stream",
     "text": [
      "Number of model responses without json: 0\n",
      "Number of model responses with incorrect formatting: 0\n",
      "\n",
      "Iteration: 15\n"
     ]
    },
    {
     "data": {
      "application/vnd.jupyter.widget-view+json": {
       "model_id": "24b5c98bfb754584917238eb5e3b2350",
       "version_major": 2,
       "version_minor": 0
      },
      "text/plain": [
       "  0%|          | 0/1 [00:00<?, ?it/s]"
      ]
     },
     "metadata": {},
     "output_type": "display_data"
    },
    {
     "name": "stdout",
     "output_type": "stream",
     "text": [
      "Number of model responses without json: 0\n",
      "Number of model responses with incorrect formatting: 0\n",
      "\n",
      "Iteration: 16\n"
     ]
    },
    {
     "data": {
      "application/vnd.jupyter.widget-view+json": {
       "model_id": "9fc2cc9f68004e4fae3962a845610557",
       "version_major": 2,
       "version_minor": 0
      },
      "text/plain": [
       "  0%|          | 0/1 [00:00<?, ?it/s]"
      ]
     },
     "metadata": {},
     "output_type": "display_data"
    },
    {
     "name": "stdout",
     "output_type": "stream",
     "text": [
      "Number of model responses without json: 0\n",
      "Number of model responses with incorrect formatting: 0\n",
      "\n",
      "Iteration: 17\n"
     ]
    },
    {
     "data": {
      "application/vnd.jupyter.widget-view+json": {
       "model_id": "84430b8255444826815d903b560026f1",
       "version_major": 2,
       "version_minor": 0
      },
      "text/plain": [
       "  0%|          | 0/1 [00:00<?, ?it/s]"
      ]
     },
     "metadata": {},
     "output_type": "display_data"
    },
    {
     "name": "stdout",
     "output_type": "stream",
     "text": [
      "Number of model responses without json: 0\n",
      "Number of model responses with incorrect formatting: 0\n",
      "\n",
      "Iteration: 18\n"
     ]
    },
    {
     "data": {
      "application/vnd.jupyter.widget-view+json": {
       "model_id": "e78b806177c847e2987f65abbd10834b",
       "version_major": 2,
       "version_minor": 0
      },
      "text/plain": [
       "  0%|          | 0/1 [00:00<?, ?it/s]"
      ]
     },
     "metadata": {},
     "output_type": "display_data"
    },
    {
     "name": "stdout",
     "output_type": "stream",
     "text": [
      "Number of model responses without json: 0\n",
      "Number of model responses with incorrect formatting: 0\n",
      "\n",
      "Iteration: 19\n"
     ]
    },
    {
     "data": {
      "application/vnd.jupyter.widget-view+json": {
       "model_id": "d3ed97d4eb114529b1dc4cffc43907a4",
       "version_major": 2,
       "version_minor": 0
      },
      "text/plain": [
       "  0%|          | 0/1 [00:00<?, ?it/s]"
      ]
     },
     "metadata": {},
     "output_type": "display_data"
    },
    {
     "name": "stdout",
     "output_type": "stream",
     "text": [
      "Number of model responses without json: 0\n",
      "Number of model responses with incorrect formatting: 0\n",
      "\n",
      "Iteration: 20\n"
     ]
    },
    {
     "data": {
      "application/vnd.jupyter.widget-view+json": {
       "model_id": "c533208cb3b14964b1980dc59ac62fb0",
       "version_major": 2,
       "version_minor": 0
      },
      "text/plain": [
       "  0%|          | 0/1 [00:00<?, ?it/s]"
      ]
     },
     "metadata": {},
     "output_type": "display_data"
    },
    {
     "name": "stdout",
     "output_type": "stream",
     "text": [
      "Number of model responses without json: 0\n",
      "Number of model responses with incorrect formatting: 0\n",
      "\n",
      "Iteration: 21\n"
     ]
    },
    {
     "data": {
      "application/vnd.jupyter.widget-view+json": {
       "model_id": "f0f931f2a82945bc92a0b3b08beb60d8",
       "version_major": 2,
       "version_minor": 0
      },
      "text/plain": [
       "  0%|          | 0/1 [00:00<?, ?it/s]"
      ]
     },
     "metadata": {},
     "output_type": "display_data"
    },
    {
     "name": "stdout",
     "output_type": "stream",
     "text": [
      "Number of model responses without json: 0\n",
      "Number of model responses with incorrect formatting: 0\n",
      "\n",
      "Iteration: 22\n"
     ]
    },
    {
     "data": {
      "application/vnd.jupyter.widget-view+json": {
       "model_id": "3dbd27a1c2304e5d9395e8ded9c1bbbe",
       "version_major": 2,
       "version_minor": 0
      },
      "text/plain": [
       "  0%|          | 0/1 [00:00<?, ?it/s]"
      ]
     },
     "metadata": {},
     "output_type": "display_data"
    },
    {
     "name": "stdout",
     "output_type": "stream",
     "text": [
      "################################################################################\n",
      "Expecting ',' delimiter: line 11 column 8 (char 188)\n",
      "{\n",
      "  \"output\": [\n",
      "    [\"rapudɔnkilidala\", \"O\"],\n",
      "    [\"Mamadu\", \"B-PER\"],\n",
      "    [\"Gasama\", \"I-PER\"],\n",
      "    [\"a\", \"O\"],\n",
      "    [\"bɛ\", \"O\"],\n",
      "    [\"fɔ\", \"O\"],\n",
      "    [\"min\", \"O\"],\n",
      "    [\"ma\", \"O\"],\n",
      "    [\"\"\"\"\"\", \"O\"],\n",
      "    [\"Gasipi\", \"B-ORG\"],\n",
      "    [\"\"\"\"\"\", \"O\"],\n",
      "    [\"minɛ\", \"O\"],\n",
      "    [\"ka\", \"O\"],\n",
      "    [\"kasodonsɛbɛn\", \"O\"],\n",
      "    [\"da\", \"O\"],\n",
      "    [\"a\", \"O\"],\n",
      "    [\"kan\", \"O\"],\n",
      "    [\",\", \"O\"],\n",
      "    [\"\"\"\"\"\", \"O\"],\n",
      "    [\"forobabasigi\", \"O\"],\n",
      "    [\"duuruli\", \"O\"],\n",
      "    [\"\"\"\"\"\", \"O\"],\n",
      "    [\"kosɔn\", \"O\"],\n",
      "    [\".\", \"O\"]\n",
      "  ]\n",
      "}\n",
      "Number of model responses without json: 0\n",
      "Number of model responses with incorrect formatting: 1\n",
      "division by zero\n",
      "\n",
      "Iteration: 23\n"
     ]
    },
    {
     "data": {
      "application/vnd.jupyter.widget-view+json": {
       "model_id": "1e1de19b227041bb87b3176165f63bc2",
       "version_major": 2,
       "version_minor": 0
      },
      "text/plain": [
       "  0%|          | 0/1 [00:00<?, ?it/s]"
      ]
     },
     "metadata": {},
     "output_type": "display_data"
    },
    {
     "name": "stdout",
     "output_type": "stream",
     "text": [
      "Number of model responses without json: 0\n",
      "Number of model responses with incorrect formatting: 0\n",
      "\n",
      "Iteration: 24\n"
     ]
    },
    {
     "data": {
      "application/vnd.jupyter.widget-view+json": {
       "model_id": "1b1d39d9b72847369e3c6086db674ea5",
       "version_major": 2,
       "version_minor": 0
      },
      "text/plain": [
       "  0%|          | 0/1 [00:00<?, ?it/s]"
      ]
     },
     "metadata": {},
     "output_type": "display_data"
    },
    {
     "name": "stdout",
     "output_type": "stream",
     "text": [
      "Number of model responses without json: 0\n",
      "Number of model responses with incorrect formatting: 0\n",
      "\n",
      "Iteration: 25\n"
     ]
    },
    {
     "data": {
      "application/vnd.jupyter.widget-view+json": {
       "model_id": "e5fdc0d756dd4cac83ddf026baf9128f",
       "version_major": 2,
       "version_minor": 0
      },
      "text/plain": [
       "  0%|          | 0/1 [00:00<?, ?it/s]"
      ]
     },
     "metadata": {},
     "output_type": "display_data"
    },
    {
     "name": "stdout",
     "output_type": "stream",
     "text": [
      "Number of model responses without json: 0\n",
      "Number of model responses with incorrect formatting: 0\n",
      "\n",
      "Iteration: 26\n"
     ]
    },
    {
     "data": {
      "application/vnd.jupyter.widget-view+json": {
       "model_id": "a2a2dff30fdc4411b9d721bb29c2b3ac",
       "version_major": 2,
       "version_minor": 0
      },
      "text/plain": [
       "  0%|          | 0/1 [00:00<?, ?it/s]"
      ]
     },
     "metadata": {},
     "output_type": "display_data"
    },
    {
     "name": "stdout",
     "output_type": "stream",
     "text": [
      "Number of model responses without json: 0\n",
      "Number of model responses with incorrect formatting: 0\n",
      "\n",
      "Iteration: 27\n"
     ]
    },
    {
     "data": {
      "application/vnd.jupyter.widget-view+json": {
       "model_id": "72c493cc132a4ed2aafe2ceca8b7ebde",
       "version_major": 2,
       "version_minor": 0
      },
      "text/plain": [
       "  0%|          | 0/1 [00:00<?, ?it/s]"
      ]
     },
     "metadata": {},
     "output_type": "display_data"
    },
    {
     "name": "stdout",
     "output_type": "stream",
     "text": [
      "Number of model responses without json: 0\n",
      "Number of model responses with incorrect formatting: 0\n",
      "\n",
      "Iteration: 28\n"
     ]
    },
    {
     "data": {
      "application/vnd.jupyter.widget-view+json": {
       "model_id": "2a91654642984a09931fc359ef27ad41",
       "version_major": 2,
       "version_minor": 0
      },
      "text/plain": [
       "  0%|          | 0/1 [00:00<?, ?it/s]"
      ]
     },
     "metadata": {},
     "output_type": "display_data"
    },
    {
     "name": "stdout",
     "output_type": "stream",
     "text": [
      "Number of model responses without json: 0\n",
      "Number of model responses with incorrect formatting: 0\n",
      "\n",
      "Iteration: 29\n"
     ]
    },
    {
     "data": {
      "application/vnd.jupyter.widget-view+json": {
       "model_id": "5853ccb212bf4223a1af3f3173b55e96",
       "version_major": 2,
       "version_minor": 0
      },
      "text/plain": [
       "  0%|          | 0/1 [00:00<?, ?it/s]"
      ]
     },
     "metadata": {},
     "output_type": "display_data"
    },
    {
     "name": "stdout",
     "output_type": "stream",
     "text": [
      "Number of model responses without json: 0\n",
      "Number of model responses with incorrect formatting: 0\n",
      "\n",
      "Iteration: 30\n"
     ]
    },
    {
     "data": {
      "application/vnd.jupyter.widget-view+json": {
       "model_id": "72c253a5266c4136a8e97a619084d0d0",
       "version_major": 2,
       "version_minor": 0
      },
      "text/plain": [
       "  0%|          | 0/1 [00:00<?, ?it/s]"
      ]
     },
     "metadata": {},
     "output_type": "display_data"
    },
    {
     "name": "stdout",
     "output_type": "stream",
     "text": [
      "Number of model responses without json: 0\n",
      "Number of model responses with incorrect formatting: 0\n",
      "\n",
      "Iteration: 31\n"
     ]
    },
    {
     "data": {
      "application/vnd.jupyter.widget-view+json": {
       "model_id": "75dd9c0e20414198862060fa1485bbb0",
       "version_major": 2,
       "version_minor": 0
      },
      "text/plain": [
       "  0%|          | 0/1 [00:00<?, ?it/s]"
      ]
     },
     "metadata": {},
     "output_type": "display_data"
    },
    {
     "name": "stdout",
     "output_type": "stream",
     "text": [
      "################################################################################\n",
      "Expecting ',' delimiter: line 19 column 8 (char 350)\n",
      "{\n",
      "  \"output\": [\n",
      "    [\"U\", \"O\"],\n",
      "    [\"kɛtɔ\", \"O\"],\n",
      "    [\"ka\", \"O\"],\n",
      "    [\"nin\", \"O\"],\n",
      "    [\"damakasisɛbɛn\", \"O\"],\n",
      "    [\"ladon\", \"O\"],\n",
      "    [\",\", \"O\"],\n",
      "    [\"Koman\", \"B-PER\"],\n",
      "    [\"Kulibali\", \"I-PER\"],\n",
      "    [\"ani\", \"O\"],\n",
      "    [\"Kalilu\", \"B-PER\"],\n",
      "    [\"Jara\", \"I-PER\"],\n",
      "    [\"somɔgɔw\", \"O\"],\n",
      "    [\"y'a\", \"O\"],\n",
      "    [\"jate\", \"O\"],\n",
      "    [\"ko\", \"O\"],\n",
      "    [\"\"\"\"\"\", \"O\"],\n",
      "    [\"BEYƐRI\", \"B-ORG\"],\n",
      "    [\"kuntigi\", \"O\"],\n",
      "    [\"ye\", \"O\"],\n",
      "    [\"fanga\", \"O\"],\n",
      "    [\"kɛ\", \"O\"],\n",
      "    [\"ani\", \"O\"],\n",
      "    [\"kojubakɛw\", \"O\"],\n",
      "    [\"kokɛcogow\", \"O\"],\n",
      "    [\"walasa\", \"O\"],\n",
      "    [\"k'u\", \"O\"],\n",
      "    [\"fila\", \"O\"],\n",
      "    [\"bila\", \"O\"],\n",
      "    [\"ka\", \"O\"],\n",
      "    [\"jɔ\", \"O\"],\n",
      "    [\"u\", \"O\"],\n",
      "    [\"jalaki\", \"O\"],\n",
      "    [\"la\", \"O\"],\n",
      "    [\"ani\", \"O\"],\n",
      "    [\"u\", \"O\"],\n",
      "    [\"ni\", \"O\"],\n",
      "    [\"Dawuda\", \"B-PER\"],\n",
      "    [\"Yatara\", \"I-PER\"],\n",
      "    [\"cɛla\", \"O\"],\n",
      "    [\"ko\", \"O\"],\n",
      "    [\".\", \"O\"],\n",
      "    [\"\"\"\"\"\", \"O\"]\n",
      "  ]\n",
      "}\n",
      "Number of model responses without json: 0\n",
      "Number of model responses with incorrect formatting: 1\n",
      "division by zero\n",
      "\n",
      "Iteration: 32\n"
     ]
    },
    {
     "data": {
      "application/vnd.jupyter.widget-view+json": {
       "model_id": "7b77c1f6a2ae4632a82116d98a7b5a3c",
       "version_major": 2,
       "version_minor": 0
      },
      "text/plain": [
       "  0%|          | 0/1 [00:00<?, ?it/s]"
      ]
     },
     "metadata": {},
     "output_type": "display_data"
    },
    {
     "name": "stdout",
     "output_type": "stream",
     "text": [
      "Number of model responses without json: 0\n",
      "Number of model responses with incorrect formatting: 0\n",
      "\n",
      "Iteration: 33\n"
     ]
    },
    {
     "data": {
      "application/vnd.jupyter.widget-view+json": {
       "model_id": "62677dd50f5b49eab596bca23b21b28b",
       "version_major": 2,
       "version_minor": 0
      },
      "text/plain": [
       "  0%|          | 0/1 [00:00<?, ?it/s]"
      ]
     },
     "metadata": {},
     "output_type": "display_data"
    },
    {
     "name": "stdout",
     "output_type": "stream",
     "text": [
      "Number of model responses without json: 0\n",
      "Number of model responses with incorrect formatting: 0\n",
      "\n",
      "Iteration: 34\n"
     ]
    },
    {
     "data": {
      "application/vnd.jupyter.widget-view+json": {
       "model_id": "f7d7951b4898411e874da02e1adcc4d4",
       "version_major": 2,
       "version_minor": 0
      },
      "text/plain": [
       "  0%|          | 0/1 [00:00<?, ?it/s]"
      ]
     },
     "metadata": {},
     "output_type": "display_data"
    },
    {
     "name": "stdout",
     "output_type": "stream",
     "text": [
      "Number of model responses without json: 0\n",
      "Number of model responses with incorrect formatting: 0\n",
      "\n",
      "Iteration: 35\n"
     ]
    },
    {
     "data": {
      "application/vnd.jupyter.widget-view+json": {
       "model_id": "76ecb2c6b1524f07a71ed942fc8b7c3b",
       "version_major": 2,
       "version_minor": 0
      },
      "text/plain": [
       "  0%|          | 0/1 [00:00<?, ?it/s]"
      ]
     },
     "metadata": {},
     "output_type": "display_data"
    },
    {
     "name": "stdout",
     "output_type": "stream",
     "text": [
      "Number of model responses without json: 0\n",
      "Number of model responses with incorrect formatting: 0\n",
      "\n",
      "Iteration: 36\n"
     ]
    },
    {
     "data": {
      "application/vnd.jupyter.widget-view+json": {
       "model_id": "be87ffaeadcc436489fe936d206e0676",
       "version_major": 2,
       "version_minor": 0
      },
      "text/plain": [
       "  0%|          | 0/1 [00:00<?, ?it/s]"
      ]
     },
     "metadata": {},
     "output_type": "display_data"
    },
    {
     "name": "stdout",
     "output_type": "stream",
     "text": [
      "Number of model responses without json: 0\n",
      "Number of model responses with incorrect formatting: 0\n",
      "\n",
      "Iteration: 37\n"
     ]
    },
    {
     "data": {
      "application/vnd.jupyter.widget-view+json": {
       "model_id": "596489d63837442eb7486442842e7e41",
       "version_major": 2,
       "version_minor": 0
      },
      "text/plain": [
       "  0%|          | 0/1 [00:00<?, ?it/s]"
      ]
     },
     "metadata": {},
     "output_type": "display_data"
    },
    {
     "name": "stdout",
     "output_type": "stream",
     "text": [
      "Number of model responses without json: 0\n",
      "Number of model responses with incorrect formatting: 0\n",
      "\n",
      "Iteration: 38\n"
     ]
    },
    {
     "data": {
      "application/vnd.jupyter.widget-view+json": {
       "model_id": "89e62863ceeb4047bd0d982ca27ada80",
       "version_major": 2,
       "version_minor": 0
      },
      "text/plain": [
       "  0%|          | 0/1 [00:00<?, ?it/s]"
      ]
     },
     "metadata": {},
     "output_type": "display_data"
    },
    {
     "name": "stdout",
     "output_type": "stream",
     "text": [
      "Number of model responses without json: 0\n",
      "Number of model responses with incorrect formatting: 0\n",
      "\n",
      "Iteration: 39\n"
     ]
    },
    {
     "data": {
      "application/vnd.jupyter.widget-view+json": {
       "model_id": "57fa84d12ee140b7b70a4a8211bd49ef",
       "version_major": 2,
       "version_minor": 0
      },
      "text/plain": [
       "  0%|          | 0/1 [00:00<?, ?it/s]"
      ]
     },
     "metadata": {},
     "output_type": "display_data"
    },
    {
     "name": "stdout",
     "output_type": "stream",
     "text": [
      "Number of model responses without json: 0\n",
      "Number of model responses with incorrect formatting: 0\n",
      "\n",
      "Iteration: 40\n"
     ]
    },
    {
     "data": {
      "application/vnd.jupyter.widget-view+json": {
       "model_id": "9a7aa832cc7b4685b32cea72c4214039",
       "version_major": 2,
       "version_minor": 0
      },
      "text/plain": [
       "  0%|          | 0/1 [00:00<?, ?it/s]"
      ]
     },
     "metadata": {},
     "output_type": "display_data"
    },
    {
     "name": "stdout",
     "output_type": "stream",
     "text": [
      "Number of model responses without json: 0\n",
      "Number of model responses with incorrect formatting: 0\n",
      "\n",
      "Iteration: 41\n"
     ]
    },
    {
     "data": {
      "application/vnd.jupyter.widget-view+json": {
       "model_id": "347157f627124c709f606270763166a0",
       "version_major": 2,
       "version_minor": 0
      },
      "text/plain": [
       "  0%|          | 0/1 [00:00<?, ?it/s]"
      ]
     },
     "metadata": {},
     "output_type": "display_data"
    },
    {
     "name": "stdout",
     "output_type": "stream",
     "text": [
      "################################################################################\n",
      "Expecting ',' delimiter: line 14 column 8 (char 231)\n",
      "{\n",
      "  \"output\": [\n",
      "    [\"Wa\", \"O\"],\n",
      "    [\"kokɛbagaba\", \"O\"],\n",
      "    [\",\", \"O\"],\n",
      "    [\"Musa\", \"B-PER\"],\n",
      "    [\"Sisoko\", \"I-PER\"],\n",
      "    [\"n'a\", \"O\"],\n",
      "    [\"bɛ\", \"O\"],\n",
      "    [\"fɔ\", \"O\"],\n",
      "    [\"a\", \"O\"],\n",
      "    [\"ma\", \"O\"],\n",
      "    [\"ko\", \"O\"],\n",
      "    [\"\"\"\"\"\", \"O\"],\n",
      "    [\"Fatocɛ\", \"B-LOC\"],\n",
      "    [\",\", \"O\"],\n",
      "    [\"\"\"\"\"\", \"O\"],\n",
      "    [\"ale\", \"O\"],\n",
      "    [\"min\", \"O\"],\n",
      "    [\"tun\", \"O\"],\n",
      "    [\"y'i\", \"O\"],\n",
      "    [\"dogo\", \"O\"],\n",
      "    [\",\", \"O\"],\n",
      "    [\"o\", \"O\"],\n",
      "    [\"minɛnna\", \"O\"],\n",
      "    [\"tarata\", \"O\"],\n",
      "    [\"don\", \"O\"],\n",
      "    [\"zuwɛnkalo\", \"B-DATE\"],\n",
      "    [\"tile\", \"I-DATE\"],\n",
      "    [\"8na\", \"I-DATE\"],\n",
      "    [\"sɔgɔma\", \"I-DATE\"],\n",
      "    [\"nɛgɛ\", \"I-DATE\"],\n",
      "    [\"ɲɛ\", \"I-DATE\"],\n",
      "    [\"5\", \"I-DATE\"],\n",
      "    [\"waati\", \"I-DATE\"],\n",
      "    [\"la\", \"O\"],\n",
      "    [\"a\", \"O\"],\n",
      "    [\"tericɛ\", \"O\"],\n",
      "    [\"fɛ\", \"O\"],\n",
      "    [\"Kanajigila\", \"B-LOC\"],\n",
      "    [\".\", \"O\"]\n",
      "  ]\n",
      "}\n",
      "Number of model responses without json: 0\n",
      "Number of model responses with incorrect formatting: 1\n",
      "division by zero\n",
      "\n",
      "Iteration: 42\n"
     ]
    },
    {
     "data": {
      "application/vnd.jupyter.widget-view+json": {
       "model_id": "a9502d006ab04467a9582db6c4cc95fc",
       "version_major": 2,
       "version_minor": 0
      },
      "text/plain": [
       "  0%|          | 0/1 [00:00<?, ?it/s]"
      ]
     },
     "metadata": {},
     "output_type": "display_data"
    },
    {
     "name": "stdout",
     "output_type": "stream",
     "text": [
      "Number of model responses without json: 0\n",
      "Number of model responses with incorrect formatting: 0\n",
      "\n",
      "Iteration: 43\n"
     ]
    },
    {
     "data": {
      "application/vnd.jupyter.widget-view+json": {
       "model_id": "eb8d756eed734b4f927738d8a9694d20",
       "version_major": 2,
       "version_minor": 0
      },
      "text/plain": [
       "  0%|          | 0/1 [00:00<?, ?it/s]"
      ]
     },
     "metadata": {},
     "output_type": "display_data"
    },
    {
     "name": "stdout",
     "output_type": "stream",
     "text": [
      "Number of model responses without json: 0\n",
      "Number of model responses with incorrect formatting: 0\n",
      "\n",
      "Iteration: 44\n"
     ]
    },
    {
     "data": {
      "application/vnd.jupyter.widget-view+json": {
       "model_id": "c254d31333f849e08e8f866c22e2adcb",
       "version_major": 2,
       "version_minor": 0
      },
      "text/plain": [
       "  0%|          | 0/1 [00:00<?, ?it/s]"
      ]
     },
     "metadata": {},
     "output_type": "display_data"
    },
    {
     "name": "stdout",
     "output_type": "stream",
     "text": [
      "Number of model responses without json: 0\n",
      "Number of model responses with incorrect formatting: 0\n",
      "\n",
      "Iteration: 45\n"
     ]
    },
    {
     "data": {
      "application/vnd.jupyter.widget-view+json": {
       "model_id": "832f98ca47a64734b06a6c0f9bcd9a05",
       "version_major": 2,
       "version_minor": 0
      },
      "text/plain": [
       "  0%|          | 0/1 [00:00<?, ?it/s]"
      ]
     },
     "metadata": {},
     "output_type": "display_data"
    },
    {
     "name": "stdout",
     "output_type": "stream",
     "text": [
      "Number of model responses without json: 0\n",
      "Number of model responses with incorrect formatting: 0\n",
      "\n",
      "Iteration: 46\n"
     ]
    },
    {
     "data": {
      "application/vnd.jupyter.widget-view+json": {
       "model_id": "f9f667847fa74d79a43d541fa5fc2da1",
       "version_major": 2,
       "version_minor": 0
      },
      "text/plain": [
       "  0%|          | 0/1 [00:00<?, ?it/s]"
      ]
     },
     "metadata": {},
     "output_type": "display_data"
    },
    {
     "name": "stdout",
     "output_type": "stream",
     "text": [
      "################################################################################\n",
      "Expecting ',' delimiter: line 7 column 8 (char 106)\n",
      "{\n",
      "  \"output\": [\n",
      "    [\"fasodenya\", \"O\"],\n",
      "    [\"lafasako\", \"O\"],\n",
      "    [\"wɛrɛw\", \"O\"],\n",
      "    [\",\", \"O\"],\n",
      "    [\"\"\"\"\"\", \"O\"],\n",
      "    [\"Ibarahima\", \"B-PER\"],\n",
      "    [\"Agi\", \"I-PER\"],\n",
      "    [\"Nɔki\", \"I-PER\"],\n",
      "    [\"y'o\", \"O\"],\n",
      "    [\"dantigɛ\", \"O\"],\n",
      "    [\".\", \"O\"]\n",
      "  ]\n",
      "}\n",
      "Number of model responses without json: 0\n",
      "Number of model responses with incorrect formatting: 1\n",
      "division by zero\n",
      "\n",
      "Iteration: 47\n"
     ]
    },
    {
     "data": {
      "application/vnd.jupyter.widget-view+json": {
       "model_id": "275cf96c88d34367a8449f90c8da6507",
       "version_major": 2,
       "version_minor": 0
      },
      "text/plain": [
       "  0%|          | 0/1 [00:00<?, ?it/s]"
      ]
     },
     "metadata": {},
     "output_type": "display_data"
    },
    {
     "name": "stdout",
     "output_type": "stream",
     "text": [
      "Number of model responses without json: 0\n",
      "Number of model responses with incorrect formatting: 0\n",
      "\n",
      "Iteration: 48\n"
     ]
    },
    {
     "data": {
      "application/vnd.jupyter.widget-view+json": {
       "model_id": "2929d9eaf50c482ea35a34896cf23abb",
       "version_major": 2,
       "version_minor": 0
      },
      "text/plain": [
       "  0%|          | 0/1 [00:00<?, ?it/s]"
      ]
     },
     "metadata": {},
     "output_type": "display_data"
    },
    {
     "name": "stdout",
     "output_type": "stream",
     "text": [
      "################################################################################\n",
      "Expecting ',' delimiter: line 3 column 8 (char 23)\n",
      "{\n",
      "  \"output\": [\n",
      "    [\"\"\"\"\"\", \"O\"],\n",
      "    [\"SEPEYI\", \"O\"],\n",
      "    [\",\", \"O\"],\n",
      "    [\"ko\", \"O\"],\n",
      "    [\"sɛbɛlaman\", \"O\"],\n",
      "    [\"tun\", \"O\"],\n",
      "    [\"tɛ\", \"O\"],\n",
      "    [\",\", \"O\"],\n",
      "    [\"fo\", \"O\"],\n",
      "    [\"cɛ\", \"O\"],\n",
      "    [\"tun\", \"O\"],\n",
      "    [\"ka\", \"O\"],\n",
      "    [\"mabɔ\", \"O\"],\n",
      "    [\"min\", \"O\"],\n",
      "    [\"bɛ\", \"O\"],\n",
      "    [\"degun\", \"O\"],\n",
      "    [\"kɛ\", \"O\"],\n",
      "    [\",\", \"O\"],\n",
      "    [\"faden\", \"O\"],\n",
      "    [\"min\", \"O\"],\n",
      "    [\"bɛ\", \"O\"],\n",
      "    [\"degun\", \"O\"],\n",
      "    [\"kɛ\", \"O\"],\n",
      "    [\",\", \"O\"],\n",
      "    [\"o\", \"O\"],\n",
      "    [\"la\", \"O\"],\n",
      "    [\",\", \"O\"],\n",
      "    [\"u\", \"O\"],\n",
      "    [\"ye\", \"O\"],\n",
      "    [\"ne\", \"O\"],\n",
      "    [\"bila\", \"O\"],\n",
      "    [\"yen\", \"O\"],\n",
      "    [\",\", \"O\"],\n",
      "    [\"\"\"\"\"\", \"O\"],\n",
      "    [\"Loran\", \"B-PER\"],\n",
      "    [\"Bagibo\", \"I-PER\"],\n",
      "    [\"y'o\", \"O\"],\n",
      "    [\"dantigɛ\", \"O\"],\n",
      "    [\"a\", \"O\"],\n",
      "    [\"ka\", \"O\"],\n",
      "    [\"so\", \"O\"],\n",
      "    [\",\", \"O\"],\n",
      "    [\"Mama\", \"B-LOC\"],\n",
      "    [\",\", \"O\"],\n",
      "    [\"a\", \"O\"],\n",
      "    [\"wolodugu\", \"O\"],\n",
      "    [\"la\", \"O\"],\n",
      "    [\",\", \"O\"],\n",
      "    [\"Konowari\", \"B-LOC\"],\n",
      "    [\"tilebinyanfan\", \"O\"],\n",
      "    [\"cɛmancɛ\", \"O\"],\n",
      "    [\"la\", \"O\"],\n",
      "    [\".\", \"O\"]\n",
      "  ]\n",
      "}\n",
      "Number of model responses without json: 0\n",
      "Number of model responses with incorrect formatting: 1\n",
      "division by zero\n",
      "\n",
      "Iteration: 49\n"
     ]
    },
    {
     "data": {
      "application/vnd.jupyter.widget-view+json": {
       "model_id": "6118cf70d4864002b4ccab9d67faa66f",
       "version_major": 2,
       "version_minor": 0
      },
      "text/plain": [
       "  0%|          | 0/1 [00:00<?, ?it/s]"
      ]
     },
     "metadata": {},
     "output_type": "display_data"
    },
    {
     "name": "stdout",
     "output_type": "stream",
     "text": [
      "Number of model responses without json: 0\n",
      "Number of model responses with incorrect formatting: 0\n",
      "Execution time:  921.1587059497833 s\n"
     ]
    }
   ],
   "source": [
    "for LANGUAGE in target_languages:\n",
    "    language_name = config['languages_names'][LANGUAGE]\n",
    "    print(\"Language:\",language_name)\n",
    "    # Loading dataset from HuggingFace\n",
    "    data = load_dataset(config['dataset'], LANGUAGE)\n",
    "    sampled_subset = sample_for_model_selection(data, label_mapping, n_samples=SAMPLE_SIZE, verbose=True)\n",
    "    sampled_subset\n",
    "    ask_gpt_params = {\n",
    "        'language': language_name,\n",
    "        'examples': add_annotation_examples(ANNOTATION_EXAMPLES_PATH, language_name),\n",
    "        'client': client,\n",
    "        'user_prompt': MAIN_PROMPT,\n",
    "        'model': foundaiton_model ,\n",
    "        'temperature': 0.1\n",
    "    }\n",
    "    gpt_annotations = {}\n",
    "    consistency_scores = []\n",
    "\n",
    "    # Measure how much time it takes to get all inferences\n",
    "    start = time.time()\n",
    "\n",
    "\n",
    "    for i, record in enumerate(sampled_subset):\n",
    "        print(f'\\nIteration: {i}')\n",
    "        \n",
    "        try: \n",
    "            # Extract ground truth\n",
    "            ground_truth_labels = [label_mapping[t] for t in record['ner_tags']]\n",
    "            \n",
    "            # Extract tokens from current record\n",
    "            ask_gpt_params['tokens'] = record['tokens']\n",
    "            # Query the model\n",
    "            new_labels_gpt4 = repeat_annotation(n_repeat=REPEAT_ANNOTATION, **ask_gpt_params)\n",
    "            # Save annotations\n",
    "            gpt_annotations[f'record_{i}'] = {}\n",
    "            gpt_annotations[f'record_{i}']['pred'] = new_labels_gpt4\n",
    "            gpt_annotations[f'record_{i}']['true'] = ground_truth_labels\n",
    "            gpt_annotations[f'record_{i}']['tokens'] = record['tokens']\n",
    "            \n",
    "            # Calculate consistency score\n",
    "            consistency = calculate_consistency_score(new_labels_gpt4, ground_truth_labels)\n",
    "            gpt_annotations[f'record_{i}']['consistency'] = consistency\n",
    "            consistency_scores.append(consistency)\n",
    "            \n",
    "        except Exception as e:\n",
    "            print(e)\n",
    "            continue\n",
    "\n",
    "    # Overall consistency is calculated by averaging individual scores\n",
    "    gpt_annotations['overall_consistency'] = np.mean(consistency_scores)\n",
    "\n",
    "    end = time.time()\n",
    "    print('Execution time: ', end - start, 's')\n",
    "    with open(os.path.join(RESULTS_PATH, f'{LANGUAGE}.json'), 'w') as file:\n",
    "        json.dump(gpt_annotations, file, indent=4)\n"
   ]
  }
 ],
 "metadata": {
  "kernelspec": {
   "display_name": "Python 3",
   "language": "python",
   "name": "python3"
  },
  "language_info": {
   "codemirror_mode": {
    "name": "ipython",
    "version": 3
   },
   "file_extension": ".py",
   "mimetype": "text/x-python",
   "name": "python",
   "nbconvert_exporter": "python",
   "pygments_lexer": "ipython3",
   "version": "3.11.5"
  }
 },
 "nbformat": 4,
 "nbformat_minor": 5
}
