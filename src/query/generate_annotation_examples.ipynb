{
 "cells": [
  {
   "cell_type": "markdown",
   "id": "f04108cdcd213511",
   "metadata": {
    "collapsed": false
   },
   "source": [
    "Helper notebook to generate annotation examples from dataset."
   ]
  },
  {
   "cell_type": "code",
   "execution_count": 13,
   "id": "7fd9af34cdc7f777",
   "metadata": {
    "ExecuteTime": {
     "end_time": "2024-01-07T13:45:15.845366100Z",
     "start_time": "2024-01-07T13:45:15.844374100Z"
    },
    "collapsed": false
   },
   "outputs": [],
   "source": [
    "from datasets import load_dataset\n",
    "import yaml\n",
    "import json\n",
    "from tqdm.notebook import tqdm"
   ]
  },
  {
   "cell_type": "code",
   "execution_count": 2,
   "id": "783bb70ae03be398",
   "metadata": {
    "ExecuteTime": {
     "end_time": "2024-01-07T13:43:09.735060300Z",
     "start_time": "2024-01-07T13:43:09.732052500Z"
    },
    "collapsed": false
   },
   "outputs": [],
   "source": [
    "CONFIG_PATH = \"../../settings/config.yml\""
   ]
  },
  {
   "cell_type": "code",
   "execution_count": 3,
   "id": "820c008655410a7e",
   "metadata": {
    "ExecuteTime": {
     "end_time": "2024-01-07T13:43:09.750720500Z",
     "start_time": "2024-01-07T13:43:09.735060300Z"
    },
    "collapsed": false
   },
   "outputs": [],
   "source": [
    "# Reading config file\n",
    "config = yaml.safe_load(open(CONFIG_PATH))"
   ]
  },
  {
   "cell_type": "code",
   "execution_count": 4,
   "id": "cbc7c2e575333572",
   "metadata": {
    "ExecuteTime": {
     "end_time": "2024-01-07T13:43:09.868033500Z",
     "start_time": "2024-01-07T13:43:09.761036Z"
    },
    "collapsed": false
   },
   "outputs": [],
   "source": [
    "def select_records(dataset_split):\n",
    "    \"\"\"\n",
    "    # Selects two examples from the dataset\n",
    "    # First record with only 0's in ner_tags\n",
    "    # Second record with at least one non-zero tag \n",
    "    \"\"\"\n",
    "    record_with_zeros = None\n",
    "    record_with_non_zeros = None\n",
    "\n",
    "    for record in dataset_split:\n",
    "        # Check if all ner_tags are 0\n",
    "        if all(tag == 0 for tag in record['ner_tags']) and not record_with_zeros:\n",
    "            record_with_zeros = record\n",
    "        # Check if there is at least one non-zero ner_tag\n",
    "        elif any(tag != 0 for tag in record['ner_tags']) and not record_with_non_zeros:\n",
    "            record_with_non_zeros = record\n",
    "\n",
    "        # If both records are found, break\n",
    "        if record_with_zeros and record_with_non_zeros:\n",
    "            break\n",
    "\n",
    "    return record_with_zeros, record_with_non_zeros"
   ]
  },
  {
   "cell_type": "code",
   "execution_count": 5,
   "id": "a16b124b57ab6991",
   "metadata": {
    "ExecuteTime": {
     "end_time": "2024-01-07T13:43:11.432150Z",
     "start_time": "2024-01-07T13:43:09.762055400Z"
    },
    "collapsed": false
   },
   "outputs": [],
   "source": [
    "language = 'bam'\n",
    "language_name = config['languages_names'][language]\n",
    "data = load_dataset(config['dataset'], language)"
   ]
  },
  {
   "cell_type": "code",
   "execution_count": 6,
   "id": "89fe2eb4ece687a3",
   "metadata": {
    "ExecuteTime": {
     "end_time": "2024-01-07T13:43:11.434927900Z",
     "start_time": "2024-01-07T13:43:11.420125800Z"
    },
    "collapsed": false
   },
   "outputs": [],
   "source": [
    "record_with_zeros, record_with_non_zeros = select_records(data['test'])"
   ]
  },
  {
   "cell_type": "code",
   "execution_count": 7,
   "id": "a3e372d8a2ac32cc",
   "metadata": {
    "ExecuteTime": {
     "end_time": "2024-01-07T13:43:11.435458Z",
     "start_time": "2024-01-07T13:43:11.432150Z"
    },
    "collapsed": false
   },
   "outputs": [
    {
     "name": "stdout",
     "output_type": "stream",
     "text": [
      "{'id': '0', 'tokens': ['Ko', 'min', 'tɔ', 'bɛ', 'kɔ', '-', 'Dirisa', 'Togola', '-', 'Minisiriɲɛmɔgɔ', ',', 'Sogɛli', 'Kokala', 'Mayiga', \"n'a\", 'ka', 'Kunnafonidi', 'minisiri', 'Mɛtiri', 'Haruna', 'Ture', 'dalen', 'a', 'kan', ',', 'taara', 'nin', 'ntɛnɛndon', ',', 'zuwɛnkalo', 'tile', '28', ',', 'Kunnafonidalaw', 'ka', 'Soba', 'la', '.'], 'ner_tags': [0, 0, 0, 0, 0, 0, 1, 2, 0, 0, 0, 1, 2, 2, 0, 0, 0, 0, 0, 1, 2, 0, 0, 0, 0, 0, 0, 7, 8, 8, 8, 8, 0, 0, 0, 0, 0, 0]}\n"
     ]
    }
   ],
   "source": [
    "print(record_with_non_zeros)"
   ]
  },
  {
   "cell_type": "code",
   "execution_count": 8,
   "id": "9ec7b535e1eca0c1",
   "metadata": {
    "ExecuteTime": {
     "end_time": "2024-01-07T13:43:11.660183400Z",
     "start_time": "2024-01-07T13:43:11.534609100Z"
    },
    "collapsed": false
   },
   "outputs": [
    {
     "name": "stdout",
     "output_type": "stream",
     "text": [
      "{'id': '1', 'tokens': ['Nin', 'balimayataama', 'ka', 'taa', 'bɔ', 'Kunnafonidalaw', 'ka', 'Soba', 'la', 'laɲini', 'tun', 'ye', 'ka', 'kunnafonidilaw', 'ladɔnniya', 'furancɛlafanga', 'gɔfɛrɛnaman', 'ka', 'baara', 'kɛta', 'fɔlɔfɔlɔw', 'la', ',', 'minnu', 'ye', 'jamana', 'dugukolo', 'lakanani', ',', 'politikikow', 'ni', 'fangabulonkow', 'yɛlɛmaniw', ',', 'ani', 'hadamadenyasiraw', 'basigili', 'ye', '.'], 'ner_tags': [0, 0, 0, 0, 0, 0, 0, 0, 0, 0, 0, 0, 0, 0, 0, 0, 0, 0, 0, 0, 0, 0, 0, 0, 0, 0, 0, 0, 0, 0, 0, 0, 0, 0, 0, 0, 0, 0, 0]}\n"
     ]
    }
   ],
   "source": [
    "print(record_with_zeros)"
   ]
  },
  {
   "cell_type": "code",
   "execution_count": 9,
   "id": "ae285880cd14e068",
   "metadata": {
    "ExecuteTime": {
     "end_time": "2024-01-07T13:43:11.660183400Z",
     "start_time": "2024-01-07T13:43:11.534609100Z"
    },
    "collapsed": false
   },
   "outputs": [],
   "source": [
    "def convert_to_output_format(tokens, ner_tags, label_mapping):\n",
    "    output = []\n",
    "    for token, tag in zip(tokens, ner_tags):\n",
    "        converted_tag = label_mapping.get(tag, 'O')  # Default to 'O' if tag is not in the conversion map\n",
    "        output.append([token, converted_tag])\n",
    "    return output"
   ]
  },
  {
   "cell_type": "code",
   "execution_count": 10,
   "id": "3b18f9bc919b3080",
   "metadata": {
    "ExecuteTime": {
     "end_time": "2024-01-07T13:43:11.660183400Z",
     "start_time": "2024-01-07T13:43:11.538006200Z"
    },
    "collapsed": false
   },
   "outputs": [
    {
     "data": {
      "text/plain": [
       "[['Ko', 'O'],\n",
       " ['min', 'O'],\n",
       " ['tɔ', 'O'],\n",
       " ['bɛ', 'O'],\n",
       " ['kɔ', 'O'],\n",
       " ['-', 'O'],\n",
       " ['Dirisa', 'B-PER'],\n",
       " ['Togola', 'I-PER'],\n",
       " ['-', 'O'],\n",
       " ['Minisiriɲɛmɔgɔ', 'O'],\n",
       " [',', 'O'],\n",
       " ['Sogɛli', 'B-PER'],\n",
       " ['Kokala', 'I-PER'],\n",
       " ['Mayiga', 'I-PER'],\n",
       " [\"n'a\", 'O'],\n",
       " ['ka', 'O'],\n",
       " ['Kunnafonidi', 'O'],\n",
       " ['minisiri', 'O'],\n",
       " ['Mɛtiri', 'O'],\n",
       " ['Haruna', 'B-PER'],\n",
       " ['Ture', 'I-PER'],\n",
       " ['dalen', 'O'],\n",
       " ['a', 'O'],\n",
       " ['kan', 'O'],\n",
       " [',', 'O'],\n",
       " ['taara', 'O'],\n",
       " ['nin', 'O'],\n",
       " ['ntɛnɛndon', 'B-DATE'],\n",
       " [',', 'I-DATE'],\n",
       " ['zuwɛnkalo', 'I-DATE'],\n",
       " ['tile', 'I-DATE'],\n",
       " ['28', 'I-DATE'],\n",
       " [',', 'O'],\n",
       " ['Kunnafonidalaw', 'O'],\n",
       " ['ka', 'O'],\n",
       " ['Soba', 'O'],\n",
       " ['la', 'O'],\n",
       " ['.', 'O']]"
      ]
     },
     "execution_count": 10,
     "metadata": {},
     "output_type": "execute_result"
    }
   ],
   "source": [
    "convert_to_output_format(record_with_non_zeros['tokens'], record_with_non_zeros['ner_tags'], config['label_mapping'])"
   ]
  },
  {
   "cell_type": "code",
   "execution_count": 11,
   "id": "64eeb3547fe2aa30",
   "metadata": {
    "ExecuteTime": {
     "end_time": "2024-01-07T13:43:11.660183400Z",
     "start_time": "2024-01-07T13:43:11.538006200Z"
    },
    "collapsed": false
   },
   "outputs": [],
   "source": [
    "annotations = {language_name: {\n",
    "    'example1': {\n",
    "        'input': record_with_zeros['tokens'],\n",
    "        'output': convert_to_output_format(\n",
    "            record_with_zeros['tokens'],\n",
    "            record_with_zeros['ner_tags'],\n",
    "            config['label_mapping']\n",
    "        )\n",
    "    },\n",
    "    'example2': {\n",
    "        'input': record_with_non_zeros['tokens'],\n",
    "        'output': convert_to_output_format(\n",
    "            record_with_non_zeros['tokens'],\n",
    "            record_with_non_zeros['ner_tags'],\n",
    "            config['label_mapping']\n",
    "        )\n",
    "    }\n",
    "}}\n"
   ]
  },
  {
   "cell_type": "code",
   "execution_count": 12,
   "id": "2d9c788c170e71b",
   "metadata": {
    "ExecuteTime": {
     "end_time": "2024-01-07T13:43:11.660183400Z",
     "start_time": "2024-01-07T13:43:11.543545Z"
    },
    "collapsed": false
   },
   "outputs": [
    {
     "data": {
      "text/plain": [
       "'{\"Bambara\": {\"example1\": {\"input\": [\"Nin\", \"balimayataama\", \"ka\", \"taa\", \"b\\\\u0254\", \"Kunnafonidalaw\", \"ka\", \"Soba\", \"la\", \"la\\\\u0272ini\", \"tun\", \"ye\", \"ka\", \"kunnafonidilaw\", \"lad\\\\u0254nniya\", \"furanc\\\\u025blafanga\", \"g\\\\u0254f\\\\u025br\\\\u025bnaman\", \"ka\", \"baara\", \"k\\\\u025bta\", \"f\\\\u0254l\\\\u0254f\\\\u0254l\\\\u0254w\", \"la\", \",\", \"minnu\", \"ye\", \"jamana\", \"dugukolo\", \"lakanani\", \",\", \"politikikow\", \"ni\", \"fangabulonkow\", \"y\\\\u025bl\\\\u025bmaniw\", \",\", \"ani\", \"hadamadenyasiraw\", \"basigili\", \"ye\", \".\"], \"output\": [[\"Nin\", \"O\"], [\"balimayataama\", \"O\"], [\"ka\", \"O\"], [\"taa\", \"O\"], [\"b\\\\u0254\", \"O\"], [\"Kunnafonidalaw\", \"O\"], [\"ka\", \"O\"], [\"Soba\", \"O\"], [\"la\", \"O\"], [\"la\\\\u0272ini\", \"O\"], [\"tun\", \"O\"], [\"ye\", \"O\"], [\"ka\", \"O\"], [\"kunnafonidilaw\", \"O\"], [\"lad\\\\u0254nniya\", \"O\"], [\"furanc\\\\u025blafanga\", \"O\"], [\"g\\\\u0254f\\\\u025br\\\\u025bnaman\", \"O\"], [\"ka\", \"O\"], [\"baara\", \"O\"], [\"k\\\\u025bta\", \"O\"], [\"f\\\\u0254l\\\\u0254f\\\\u0254l\\\\u0254w\", \"O\"], [\"la\", \"O\"], [\",\", \"O\"], [\"minnu\", \"O\"], [\"ye\", \"O\"], [\"jamana\", \"O\"], [\"dugukolo\", \"O\"], [\"lakanani\", \"O\"], [\",\", \"O\"], [\"politikikow\", \"O\"], [\"ni\", \"O\"], [\"fangabulonkow\", \"O\"], [\"y\\\\u025bl\\\\u025bmaniw\", \"O\"], [\",\", \"O\"], [\"ani\", \"O\"], [\"hadamadenyasiraw\", \"O\"], [\"basigili\", \"O\"], [\"ye\", \"O\"], [\".\", \"O\"]]}, \"example2\": {\"input\": [\"Ko\", \"min\", \"t\\\\u0254\", \"b\\\\u025b\", \"k\\\\u0254\", \"-\", \"Dirisa\", \"Togola\", \"-\", \"Minisiri\\\\u0272\\\\u025bm\\\\u0254g\\\\u0254\", \",\", \"Sog\\\\u025bli\", \"Kokala\", \"Mayiga\", \"n\\'a\", \"ka\", \"Kunnafonidi\", \"minisiri\", \"M\\\\u025btiri\", \"Haruna\", \"Ture\", \"dalen\", \"a\", \"kan\", \",\", \"taara\", \"nin\", \"nt\\\\u025bn\\\\u025bndon\", \",\", \"zuw\\\\u025bnkalo\", \"tile\", \"28\", \",\", \"Kunnafonidalaw\", \"ka\", \"Soba\", \"la\", \".\"], \"output\": [[\"Ko\", \"O\"], [\"min\", \"O\"], [\"t\\\\u0254\", \"O\"], [\"b\\\\u025b\", \"O\"], [\"k\\\\u0254\", \"O\"], [\"-\", \"O\"], [\"Dirisa\", \"B-PER\"], [\"Togola\", \"I-PER\"], [\"-\", \"O\"], [\"Minisiri\\\\u0272\\\\u025bm\\\\u0254g\\\\u0254\", \"O\"], [\",\", \"O\"], [\"Sog\\\\u025bli\", \"B-PER\"], [\"Kokala\", \"I-PER\"], [\"Mayiga\", \"I-PER\"], [\"n\\'a\", \"O\"], [\"ka\", \"O\"], [\"Kunnafonidi\", \"O\"], [\"minisiri\", \"O\"], [\"M\\\\u025btiri\", \"O\"], [\"Haruna\", \"B-PER\"], [\"Ture\", \"I-PER\"], [\"dalen\", \"O\"], [\"a\", \"O\"], [\"kan\", \"O\"], [\",\", \"O\"], [\"taara\", \"O\"], [\"nin\", \"O\"], [\"nt\\\\u025bn\\\\u025bndon\", \"B-DATE\"], [\",\", \"I-DATE\"], [\"zuw\\\\u025bnkalo\", \"I-DATE\"], [\"tile\", \"I-DATE\"], [\"28\", \"I-DATE\"], [\",\", \"O\"], [\"Kunnafonidalaw\", \"O\"], [\"ka\", \"O\"], [\"Soba\", \"O\"], [\"la\", \"O\"], [\".\", \"O\"]]}}}'"
      ]
     },
     "execution_count": 12,
     "metadata": {},
     "output_type": "execute_result"
    }
   ],
   "source": [
    "json.dumps(annotations)"
   ]
  },
  {
   "cell_type": "markdown",
   "id": "3bb891fc95e0efaf",
   "metadata": {
    "collapsed": false
   },
   "source": [
    "Creating annotation examples for all languages:"
   ]
  },
  {
   "cell_type": "code",
   "execution_count": 14,
   "id": "80b0b201a51aeb2d",
   "metadata": {
    "ExecuteTime": {
     "end_time": "2024-01-07T13:46:52.713427900Z",
     "start_time": "2024-01-07T13:46:26.705121700Z"
    },
    "collapsed": false
   },
   "outputs": [
    {
     "data": {
      "application/vnd.jupyter.widget-view+json": {
       "model_id": "9dd006f010944c0b8fd3b57af71b9427",
       "version_major": 2,
       "version_minor": 0
      },
      "text/plain": [
       "  0%|          | 0/20 [00:00<?, ?it/s]"
      ]
     },
     "metadata": {},
     "output_type": "display_data"
    }
   ],
   "source": [
    "annotations = {}\n",
    "\n",
    "for language in tqdm(config['languages_list']):\n",
    "    # Get full language name\n",
    "    language_name = config['languages_names'][language]\n",
    "    # Load dataset\n",
    "    data = load_dataset(config['dataset'], language)\n",
    "    # Select records as examples\n",
    "    record_with_zeros, record_with_non_zeros = select_records(data['test'])\n",
    "\n",
    "    annotations[language_name] = {\n",
    "        'example1': {\n",
    "            'input': record_with_zeros['tokens'],\n",
    "            'output': convert_to_output_format(\n",
    "                record_with_zeros['tokens'],\n",
    "                record_with_zeros['ner_tags'],\n",
    "                config['label_mapping']\n",
    "            )\n",
    "        },\n",
    "        'example2': {\n",
    "            'input': record_with_non_zeros['tokens'],\n",
    "            'output': convert_to_output_format(\n",
    "                record_with_non_zeros['tokens'],\n",
    "                record_with_non_zeros['ner_tags'],\n",
    "                config['label_mapping']\n",
    "            )\n",
    "        }\n",
    "    }\n",
    "    "
   ]
  },
  {
   "cell_type": "code",
   "execution_count": 16,
   "id": "22b90bb06182fedc",
   "metadata": {
    "ExecuteTime": {
     "end_time": "2024-01-07T13:48:02.505458600Z",
     "start_time": "2024-01-07T13:48:02.445024800Z"
    },
    "collapsed": false
   },
   "outputs": [],
   "source": [
    "import json\n",
    "\n",
    "# Writing annotations to a file\n",
    "file_path = 'ner_examples_all_languages.json'\n",
    "\n",
    "with open(file_path, 'w') as file:\n",
    "    json.dump(annotations, file, indent=4)"
   ]
  },
  {
   "cell_type": "markdown",
   "id": "b0e997bffb442535",
   "metadata": {
    "collapsed": false
   },
   "source": [
    "Testing:"
   ]
  },
  {
   "cell_type": "code",
   "execution_count": 21,
   "id": "17e706af712e53ed",
   "metadata": {
    "ExecuteTime": {
     "end_time": "2024-01-07T13:50:33.290818800Z",
     "start_time": "2024-01-07T13:50:33.284476200Z"
    },
    "collapsed": false
   },
   "outputs": [],
   "source": [
    "import os\n",
    "import sys\n",
    "\n",
    "queries_module_path = os.path.abspath('../src/query')\n",
    "if queries_module_path not in sys.path:\n",
    "    sys.path.append(queries_module_path)"
   ]
  },
  {
   "cell_type": "code",
   "execution_count": 22,
   "id": "bb5468a73cdd2a82",
   "metadata": {
    "ExecuteTime": {
     "end_time": "2024-01-07T13:51:21.507430600Z",
     "start_time": "2024-01-07T13:51:21.303018600Z"
    },
    "collapsed": false
   },
   "outputs": [],
   "source": [
    "from query_gpt import add_annotation_examples"
   ]
  },
  {
   "cell_type": "code",
   "execution_count": 23,
   "id": "3a0fe605071e621b",
   "metadata": {
    "ExecuteTime": {
     "end_time": "2024-01-07T13:51:38.473446700Z",
     "start_time": "2024-01-07T13:51:38.458431700Z"
    },
    "collapsed": false
   },
   "outputs": [
    {
     "name": "stdout",
     "output_type": "stream",
     "text": [
      "Example 1:\n",
      "Input: ['Nin', 'balimayataama', 'ka', 'taa', 'bɔ', 'Kunnafonidalaw', 'ka', 'Soba', 'la', 'laɲini', 'tun', 'ye', 'ka', 'kunnafonidilaw', 'ladɔnniya', 'furancɛlafanga', 'gɔfɛrɛnaman', 'ka', 'baara', 'kɛta', 'fɔlɔfɔlɔw', 'la', ',', 'minnu', 'ye', 'jamana', 'dugukolo', 'lakanani', ',', 'politikikow', 'ni', 'fangabulonkow', 'yɛlɛmaniw', ',', 'ani', 'hadamadenyasiraw', 'basigili', 'ye', '.']\n",
      "Output: { 'output': [['Nin', 'O'], ['balimayataama', 'O'], ['ka', 'O'], ['taa', 'O'], ['bɔ', 'O'], ['Kunnafonidalaw', 'O'], ['ka', 'O'], ['Soba', 'O'], ['la', 'O'], ['laɲini', 'O'], ['tun', 'O'], ['ye', 'O'], ['ka', 'O'], ['kunnafonidilaw', 'O'], ['ladɔnniya', 'O'], ['furancɛlafanga', 'O'], ['gɔfɛrɛnaman', 'O'], ['ka', 'O'], ['baara', 'O'], ['kɛta', 'O'], ['fɔlɔfɔlɔw', 'O'], ['la', 'O'], [',', 'O'], ['minnu', 'O'], ['ye', 'O'], ['jamana', 'O'], ['dugukolo', 'O'], ['lakanani', 'O'], [',', 'O'], ['politikikow', 'O'], ['ni', 'O'], ['fangabulonkow', 'O'], ['yɛlɛmaniw', 'O'], [',', 'O'], ['ani', 'O'], ['hadamadenyasiraw', 'O'], ['basigili', 'O'], ['ye', 'O'], ['.', 'O']] }\n",
      "Example 2:\n",
      "Input: ['Nin', 'balimayataama', 'ka', 'taa', 'bɔ', 'Kunnafonidalaw', 'ka', 'Soba', 'la', 'laɲini', 'tun', 'ye', 'ka', 'kunnafonidilaw', 'ladɔnniya', 'furancɛlafanga', 'gɔfɛrɛnaman', 'ka', 'baara', 'kɛta', 'fɔlɔfɔlɔw', 'la', ',', 'minnu', 'ye', 'jamana', 'dugukolo', 'lakanani', ',', 'politikikow', 'ni', 'fangabulonkow', 'yɛlɛmaniw', ',', 'ani', 'hadamadenyasiraw', 'basigili', 'ye', '.']\n",
      "Output: { 'output': [['Ko', 'O'], ['min', 'O'], ['tɔ', 'O'], ['bɛ', 'O'], ['kɔ', 'O'], ['-', 'O'], ['Dirisa', 'B-PER'], ['Togola', 'I-PER'], ['-', 'O'], ['Minisiriɲɛmɔgɔ', 'O'], [',', 'O'], ['Sogɛli', 'B-PER'], ['Kokala', 'I-PER'], ['Mayiga', 'I-PER'], [\"n'a\", 'O'], ['ka', 'O'], ['Kunnafonidi', 'O'], ['minisiri', 'O'], ['Mɛtiri', 'O'], ['Haruna', 'B-PER'], ['Ture', 'I-PER'], ['dalen', 'O'], ['a', 'O'], ['kan', 'O'], [',', 'O'], ['taara', 'O'], ['nin', 'O'], ['ntɛnɛndon', 'B-DATE'], [',', 'I-DATE'], ['zuwɛnkalo', 'I-DATE'], ['tile', 'I-DATE'], ['28', 'I-DATE'], [',', 'O'], ['Kunnafonidalaw', 'O'], ['ka', 'O'], ['Soba', 'O'], ['la', 'O'], ['.', 'O']] }\n"
     ]
    }
   ],
   "source": [
    "print(add_annotation_examples(file_path, 'Bambara'))"
   ]
  }
 ],
 "metadata": {
  "kernelspec": {
   "display_name": "Python 3",
   "language": "python",
   "name": "python3"
  },
  "language_info": {
   "codemirror_mode": {
    "name": "ipython",
    "version": 2
   },
   "file_extension": ".py",
   "mimetype": "text/x-python",
   "name": "python",
   "nbconvert_exporter": "python",
   "pygments_lexer": "ipython2",
   "version": "2.7.6"
  }
 },
 "nbformat": 4,
 "nbformat_minor": 5
}
